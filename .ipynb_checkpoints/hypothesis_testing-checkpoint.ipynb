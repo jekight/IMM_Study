{
 "cells": [
  {
   "cell_type": "markdown",
   "id": "6261495d-427a-4626-b204-fbbbde698851",
   "metadata": {},
   "source": [
    "<center><h1>HYPOTHESIS TESTING</h1></center>"
   ]
  },
  {
   "cell_type": "markdown",
   "id": "be93e480-8ba6-4c35-87e5-e477a17aadbd",
   "metadata": {},
   "source": [
    "## LOAD LIBRARIES"
   ]
  },
  {
   "cell_type": "code",
   "execution_count": 1,
   "id": "de81ccfe-edff-465a-bfd2-695b2c7a4d8c",
   "metadata": {},
   "outputs": [],
   "source": [
    "import os\n",
    "import sys\n",
    "import pandas as pd\n",
    "import numpy as np\n",
    "import plotly.graph_objects as go\n",
    "from Calcs.calcs import *\n",
    "from Charts.charts import Charts as ch\n",
    "from NotebookFunctions.hypothesis_testing import *"
   ]
  },
  {
   "cell_type": "markdown",
   "id": "b5c558ff-c32c-452d-93e5-606d0a2fab8f",
   "metadata": {},
   "source": [
    "## MONTE CARLO SIMULATIONS"
   ]
  },
  {
   "cell_type": "code",
   "execution_count": 3,
   "id": "7b7caae0-a91c-4dfc-bd32-8a0c1ce0e28b",
   "metadata": {},
   "outputs": [
    {
     "name": "stderr",
     "output_type": "stream",
     "text": [
      "/Users/jeremykight/Desktop/Applied Mathematics/Independent Study/Project/python/KalmanFilters/kalman_filters.py:127: RuntimeWarning: overflow encountered in exp\n",
      "  self.L = normalization_term * np.exp(exponent_term)\n",
      "/Users/jeremykight/Desktop/Applied Mathematics/Independent Study/Project/python/IMM/imm.py:90: RuntimeWarning: invalid value encountered in divide\n",
      "  self.mu /= np.sum(self.mu)  # normalize\n",
      "/Users/jeremykight/Desktop/Applied Mathematics/Independent Study/Project/python/KalmanFilters/kalman_filters.py:127: RuntimeWarning: overflow encountered in exp\n",
      "  self.L = normalization_term * np.exp(exponent_term)\n",
      "/Users/jeremykight/Desktop/Applied Mathematics/Independent Study/Project/python/IMM/imm.py:90: RuntimeWarning: invalid value encountered in divide\n",
      "  self.mu /= np.sum(self.mu)  # normalize\n",
      "/Users/jeremykight/Desktop/Applied Mathematics/Independent Study/Project/python/KalmanFilters/kalman_filters.py:127: RuntimeWarning: overflow encountered in exp\n",
      "  self.L = normalization_term * np.exp(exponent_term)\n",
      "/Users/jeremykight/Desktop/Applied Mathematics/Independent Study/Project/python/IMM/imm.py:90: RuntimeWarning: invalid value encountered in divide\n",
      "  self.mu /= np.sum(self.mu)  # normalize\n",
      "/Users/jeremykight/Desktop/Applied Mathematics/Independent Study/Project/python/KalmanFilters/kalman_filters.py:127: RuntimeWarning: overflow encountered in exp\n",
      "  self.L = normalization_term * np.exp(exponent_term)\n",
      "/Users/jeremykight/Desktop/Applied Mathematics/Independent Study/Project/python/IMM/imm.py:90: RuntimeWarning: invalid value encountered in divide\n",
      "  self.mu /= np.sum(self.mu)  # normalize\n",
      "/Users/jeremykight/Desktop/Applied Mathematics/Independent Study/Project/python/KalmanFilters/kalman_filters.py:127: RuntimeWarning: overflow encountered in exp\n",
      "  self.L = normalization_term * np.exp(exponent_term)\n",
      "/Users/jeremykight/Desktop/Applied Mathematics/Independent Study/Project/python/IMM/imm.py:90: RuntimeWarning: invalid value encountered in divide\n",
      "  self.mu /= np.sum(self.mu)  # normalize\n",
      "/Users/jeremykight/Desktop/Applied Mathematics/Independent Study/Project/python/KalmanFilters/kalman_filters.py:127: RuntimeWarning: overflow encountered in exp\n",
      "  self.L = normalization_term * np.exp(exponent_term)\n",
      "/Users/jeremykight/Desktop/Applied Mathematics/Independent Study/Project/python/IMM/imm.py:90: RuntimeWarning: invalid value encountered in divide\n",
      "  self.mu /= np.sum(self.mu)  # normalize\n",
      "/Users/jeremykight/Desktop/Applied Mathematics/Independent Study/Project/python/KalmanFilters/kalman_filters.py:127: RuntimeWarning: overflow encountered in exp\n",
      "  self.L = normalization_term * np.exp(exponent_term)\n",
      "/Users/jeremykight/Desktop/Applied Mathematics/Independent Study/Project/python/IMM/imm.py:90: RuntimeWarning: invalid value encountered in divide\n",
      "  self.mu /= np.sum(self.mu)  # normalize\n",
      "/Users/jeremykight/Desktop/Applied Mathematics/Independent Study/Project/python/KalmanFilters/kalman_filters.py:127: RuntimeWarning: overflow encountered in exp\n",
      "  self.L = normalization_term * np.exp(exponent_term)\n",
      "/Users/jeremykight/Desktop/Applied Mathematics/Independent Study/Project/python/IMM/imm.py:90: RuntimeWarning: invalid value encountered in divide\n",
      "  self.mu /= np.sum(self.mu)  # normalize\n",
      "/Users/jeremykight/Desktop/Applied Mathematics/Independent Study/Project/python/KalmanFilters/kalman_filters.py:127: RuntimeWarning: overflow encountered in exp\n",
      "  self.L = normalization_term * np.exp(exponent_term)\n",
      "/Users/jeremykight/Desktop/Applied Mathematics/Independent Study/Project/python/IMM/imm.py:90: RuntimeWarning: invalid value encountered in divide\n",
      "  self.mu /= np.sum(self.mu)  # normalize\n",
      "/Users/jeremykight/Desktop/Applied Mathematics/Independent Study/Project/python/KalmanFilters/kalman_filters.py:127: RuntimeWarning: overflow encountered in exp\n",
      "  self.L = normalization_term * np.exp(exponent_term)\n",
      "/Users/jeremykight/Desktop/Applied Mathematics/Independent Study/Project/python/IMM/imm.py:90: RuntimeWarning: invalid value encountered in divide\n",
      "  self.mu /= np.sum(self.mu)  # normalize\n",
      "/Users/jeremykight/Desktop/Applied Mathematics/Independent Study/Project/python/KalmanFilters/kalman_filters.py:127: RuntimeWarning: overflow encountered in exp\n",
      "  self.L = normalization_term * np.exp(exponent_term)\n",
      "/Users/jeremykight/Desktop/Applied Mathematics/Independent Study/Project/python/IMM/imm.py:90: RuntimeWarning: invalid value encountered in divide\n",
      "  self.mu /= np.sum(self.mu)  # normalize\n",
      "/Users/jeremykight/Desktop/Applied Mathematics/Independent Study/Project/python/KalmanFilters/kalman_filters.py:127: RuntimeWarning: overflow encountered in exp\n",
      "  self.L = normalization_term * np.exp(exponent_term)\n",
      "/Users/jeremykight/Desktop/Applied Mathematics/Independent Study/Project/python/IMM/imm.py:90: RuntimeWarning: invalid value encountered in divide\n",
      "  self.mu /= np.sum(self.mu)  # normalize\n"
     ]
    }
   ],
   "source": [
    "sim_df = run_simulations()"
   ]
  },
  {
   "cell_type": "code",
   "execution_count": 7,
   "id": "79066001-fb90-4206-92a4-0cdd754cdc37",
   "metadata": {},
   "outputs": [
    {
     "data": {
      "text/html": [
       "<div>\n",
       "<style scoped>\n",
       "    .dataframe tbody tr th:only-of-type {\n",
       "        vertical-align: middle;\n",
       "    }\n",
       "\n",
       "    .dataframe tbody tr th {\n",
       "        vertical-align: top;\n",
       "    }\n",
       "\n",
       "    .dataframe thead th {\n",
       "        text-align: right;\n",
       "    }\n",
       "</style>\n",
       "<table border=\"1\" class=\"dataframe\">\n",
       "  <thead>\n",
       "    <tr style=\"text-align: right;\">\n",
       "      <th></th>\n",
       "      <th>Test</th>\n",
       "      <th>RMSE_PC_OVERALL</th>\n",
       "      <th>VE_PC_OVERALL</th>\n",
       "      <th>RMSE_PC_QM</th>\n",
       "      <th>VE_PC_QM</th>\n",
       "    </tr>\n",
       "  </thead>\n",
       "  <tbody>\n",
       "  </tbody>\n",
       "</table>\n",
       "</div>"
      ],
      "text/plain": [
       "Empty DataFrame\n",
       "Columns: [Test, RMSE_PC_OVERALL, VE_PC_OVERALL, RMSE_PC_QM, VE_PC_QM]\n",
       "Index: []"
      ]
     },
     "execution_count": 7,
     "metadata": {},
     "output_type": "execute_result"
    }
   ],
   "source": [
    "sim_df"
   ]
  },
  {
   "cell_type": "code",
   "execution_count": null,
   "id": "6d4eb9ed-3018-4b6a-8289-8efb3c4aa2c0",
   "metadata": {},
   "outputs": [],
   "source": []
  }
 ],
 "metadata": {
  "kernelspec": {
   "display_name": "Python 3 (ipykernel)",
   "language": "python",
   "name": "python3"
  },
  "language_info": {
   "codemirror_mode": {
    "name": "ipython",
    "version": 3
   },
   "file_extension": ".py",
   "mimetype": "text/x-python",
   "name": "python",
   "nbconvert_exporter": "python",
   "pygments_lexer": "ipython3",
   "version": "3.11.10"
  }
 },
 "nbformat": 4,
 "nbformat_minor": 5
}
