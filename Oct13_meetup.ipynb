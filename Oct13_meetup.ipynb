{
 "cells": [
  {
   "cell_type": "markdown",
   "id": "82998ac6-298e-4218-abd4-82d5c85759d7",
   "metadata": {},
   "source": [
    "<center><h1>KALMAN FILTER EXAMPLE</h1></center>"
   ]
  },
  {
   "cell_type": "markdown",
   "id": "eb5a8819-cb13-480d-bba3-e3e31b71f5b1",
   "metadata": {
    "tags": []
   },
   "source": [
    "## LOAD LIBRARIES"
   ]
  },
  {
   "cell_type": "code",
   "execution_count": 2,
   "id": "e61d8201-7ee1-4552-bc45-063e3bde1cf5",
   "metadata": {
    "tags": []
   },
   "outputs": [],
   "source": [
    "import plotly.io as pio\n",
    "# pio.renderers.default = 'notebook'\n",
    "from NotebookFunctions.kf_example_functions import *"
   ]
  },
  {
   "cell_type": "markdown",
   "id": "dab10513-b7ca-4772-ad44-43a7749517ed",
   "metadata": {
    "tags": []
   },
   "source": [
    "## PROFILE 1:\n",
    "This scenario consist of a single object moving in a straight line with a constant velocity and 1 sensor producing noisy measurements every 10 seconds indicating where in space the object is. First, consider the sensor's measurements are being fed into a Kalman Filter using a constant velocity model:"
   ]
  },
  {
   "cell_type": "code",
   "execution_count": 14,
   "id": "86c50f0d",
   "metadata": {
    "tags": []
   },
   "outputs": [
    {
     "data": {
      "application/vnd.plotly.v1+json": {
       "config": {
        "plotlyServerURL": "https://plot.ly"
       },
       "data": [
        {
         "line": {
          "color": "black",
          "width": 1
         },
         "mode": "lines",
         "name": "Truth",
         "showlegend": true,
         "type": "scatter",
         "x": [
          0,
          0.2,
          0.4,
          0.6000000000000001,
          0.8,
          1,
          1.2000000000000002,
          1.4,
          1.6,
          1.8,
          2,
          2.2,
          2.4000000000000004,
          2.6,
          2.8000000000000003,
          3,
          3.2,
          3.4000000000000004,
          3.6,
          3.8,
          4,
          4.2,
          4.4,
          4.6000000000000005,
          4.800000000000001,
          5,
          5.2,
          5.4,
          5.6000000000000005,
          5.800000000000001,
          6,
          6.2,
          6.4,
          6.6000000000000005,
          6.800000000000001,
          7,
          7.2,
          7.4,
          7.6,
          7.800000000000001,
          8,
          8.200000000000001,
          8.4,
          8.6,
          8.8,
          9,
          9.2,
          9.4,
          9.6,
          9.8,
          10,
          10.2,
          10.4,
          10.6,
          10.8,
          11,
          11.2,
          11.4,
          11.6,
          11.8,
          12,
          12.2,
          12.4,
          12.6,
          12.8,
          13,
          13.2,
          13.4,
          13.6,
          13.8,
          14,
          14.2,
          14.4,
          14.6,
          14.8,
          15,
          15.2,
          15.4,
          15.6,
          15.8,
          16,
          16.2,
          16.400000000000002,
          16.6,
          16.8,
          17,
          17.2,
          17.400000000000002,
          17.6,
          17.8,
          18,
          18.2,
          18.4,
          18.6,
          18.8,
          19,
          19.200000000000003,
          19.4,
          19.6,
          19.8,
          20,
          20.200000000000003,
          20.4,
          20.6,
          20.8,
          21,
          21.200000000000003,
          21.4,
          21.6,
          21.8,
          22,
          22.200000000000003,
          22.4,
          22.6,
          22.8,
          23,
          23.200000000000003,
          23.4,
          23.6,
          23.8,
          24,
          24.200000000000003,
          24.4,
          24.6,
          24.8,
          25,
          25.200000000000003,
          25.4,
          25.6,
          25.8,
          26,
          26.200000000000003,
          26.4,
          26.6,
          26.8,
          27,
          27.200000000000003,
          27.4,
          27.6,
          27.8,
          28,
          28.200000000000003,
          28.4,
          28.6,
          28.8,
          29,
          29.200000000000003,
          29.4,
          29.6,
          29.8,
          30,
          30.200000000000003,
          30.4,
          30.6,
          30.8,
          31,
          31.200000000000003,
          31.4,
          31.6,
          31.8,
          32,
          32.2,
          32.4,
          32.6,
          32.800000000000004,
          33,
          33.2,
          33.4,
          33.6,
          33.800000000000004,
          34,
          34.2,
          34.4,
          34.6,
          34.800000000000004,
          35,
          35.2,
          35.4,
          35.6,
          35.800000000000004,
          36,
          36.2,
          36.4,
          36.6,
          36.8,
          37,
          37.2,
          37.4,
          37.6,
          37.8,
          38,
          38.2,
          38.400000000000006,
          38.6,
          38.8,
          39,
          39.2,
          39.400000000000006,
          39.6,
          39.8,
          40,
          40.2,
          40.400000000000006,
          40.6,
          40.8,
          41,
          41.2,
          41.400000000000006,
          41.6,
          41.8,
          42
         ],
         "xaxis": "x",
         "y": [
          0,
          0.2,
          0.4,
          0.6000000000000001,
          0.8,
          1,
          1.2000000000000002,
          1.4,
          1.6,
          1.8,
          2,
          2.2,
          2.4000000000000004,
          2.6,
          2.8000000000000003,
          3,
          3.2,
          3.4000000000000004,
          3.6,
          3.8,
          4,
          4.2,
          4.4,
          4.6000000000000005,
          4.800000000000001,
          5,
          5.2,
          5.4,
          5.6000000000000005,
          5.800000000000001,
          6,
          6.2,
          6.4,
          6.6000000000000005,
          6.800000000000001,
          7,
          7.2,
          7.4,
          7.6,
          7.800000000000001,
          8,
          8.200000000000001,
          8.4,
          8.6,
          8.8,
          9,
          9.2,
          9.4,
          9.6,
          9.8,
          10,
          10.2,
          10.4,
          10.6,
          10.8,
          11,
          11.2,
          11.4,
          11.6,
          11.8,
          12,
          12.2,
          12.4,
          12.6,
          12.8,
          13,
          13.2,
          13.4,
          13.6,
          13.8,
          14,
          14.2,
          14.4,
          14.6,
          14.8,
          15,
          15.2,
          15.4,
          15.6,
          15.8,
          16,
          16.2,
          16.400000000000002,
          16.6,
          16.8,
          17,
          17.2,
          17.400000000000002,
          17.6,
          17.8,
          18,
          18.2,
          18.4,
          18.6,
          18.8,
          19,
          19.200000000000003,
          19.4,
          19.6,
          19.8,
          20,
          20.200000000000003,
          20.4,
          20.6,
          20.8,
          21,
          21.200000000000003,
          21.4,
          21.6,
          21.8,
          22,
          22.200000000000003,
          22.4,
          22.6,
          22.8,
          23,
          23.200000000000003,
          23.4,
          23.6,
          23.8,
          24,
          24.200000000000003,
          24.4,
          24.6,
          24.8,
          25,
          25.200000000000003,
          25.4,
          25.6,
          25.8,
          26,
          26.200000000000003,
          26.4,
          26.6,
          26.8,
          27,
          27.200000000000003,
          27.4,
          27.6,
          27.8,
          28,
          28.200000000000003,
          28.4,
          28.6,
          28.8,
          29,
          29.200000000000003,
          29.4,
          29.6,
          29.8,
          30,
          30.200000000000003,
          30.4,
          30.6,
          30.8,
          31,
          31.200000000000003,
          31.4,
          31.6,
          31.8,
          32,
          32.2,
          32.4,
          32.6,
          32.800000000000004,
          33,
          33.2,
          33.4,
          33.6,
          33.800000000000004,
          34,
          34.2,
          34.4,
          34.6,
          34.800000000000004,
          35,
          35.2,
          35.4,
          35.6,
          35.800000000000004,
          36,
          36.2,
          36.4,
          36.6,
          36.8,
          37,
          37.2,
          37.4,
          37.6,
          37.8,
          38,
          38.2,
          38.400000000000006,
          38.6,
          38.8,
          39,
          39.2,
          39.400000000000006,
          39.6,
          39.8,
          40,
          40.2,
          40.400000000000006,
          40.6,
          40.8,
          41,
          41.2,
          41.400000000000006,
          41.6,
          41.8,
          42
         ],
         "yaxis": "y"
        },
        {
         "marker": {
          "color": "red",
          "size": 8,
          "symbol": "square"
         },
         "mode": "markers",
         "name": "Measurements",
         "opacity": 0.6,
         "showlegend": true,
         "type": "scatter",
         "x": [
          -0.0854626827857501,
          1.7822414051213828,
          4.0912335113847496,
          6.033375054884168,
          8.322698456297777,
          9.748298518281024,
          11.983450496240886,
          14.208857584464068,
          14.562784633554426,
          18.481982469623517,
          19.438233970783003,
          22.17322566741221,
          24.38577754550994,
          25.57174080589179,
          28.410571126897356,
          30.312347648708457,
          31.816254712254647,
          33.943323272347804,
          36.20643968071292,
          37.81671319148808,
          39.839765792283465,
          41.63672548149419
         ],
         "xaxis": "x",
         "y": [
          0.4068906426926921,
          1.61010439892765,
          3.8962704339121017,
          5.410550209406374,
          7.436636509278692,
          10.490420444656367,
          13.070986231003715,
          13.678000160554552,
          16.522867020476966,
          17.851889340781028,
          19.88152469572311,
          22.80958929617197,
          23.98943440627872,
          24.700842966466833,
          27.667440285256355,
          30.360146646495444,
          31.51558205505583,
          34.70660616682223,
          36.02753490507313,
          37.98822681807464,
          39.47773294213718,
          41.81565150981578
         ],
         "yaxis": "y"
        },
        {
         "marker": {
          "color": "blue",
          "size": 8,
          "symbol": "circle"
         },
         "mode": "markers",
         "name": "Kalman Filter",
         "opacity": 0.6,
         "showlegend": true,
         "type": "scatter",
         "x": [
          1.7822414051213828,
          3.649955209976711,
          5.518714215834893,
          7.396766950531324,
          9.28397447422094,
          11.208774429434113,
          13.205052297658012,
          15.052804541730952,
          17.219175229077777,
          19.231159411029594,
          21.419726563238946,
          23.65691801874129,
          25.669143171631486,
          27.885839331022108,
          30.04365031788778,
          32.045054528100636,
          34.06992865004289,
          36.150856546007425,
          38.11376107316649,
          40.080830195984156,
          41.9952229749222
         ],
         "xaxis": "x",
         "y": [
          1.61010439892765,
          2.8133420012466903,
          4.019407011627242,
          5.247437701812013,
          6.5754858534562945,
          8.128228433720015,
          9.874216408992341,
          12.029426006867862,
          14.377502933658606,
          16.911883691639574,
          19.728835328944403,
          22.328137642415637,
          24.540860850308245,
          26.951011862304853,
          29.46201863536857,
          31.661901648386905,
          34.10912356467178,
          36.29131162540803,
          38.407110601429196,
          40.34715287040026,
          42.355906367994116
         ],
         "yaxis": "y"
        },
        {
         "marker": {
          "color": "rgb(27,158,119)",
          "size": 8,
          "symbol": "diamond"
         },
         "mode": "markers",
         "name": "Uncertainty After Prediction",
         "opacity": 0.6,
         "showlegend": true,
         "type": "scatter",
         "x": [
          11,
          21,
          31,
          41,
          51,
          61,
          71,
          81,
          91,
          101,
          111,
          121,
          131,
          141,
          151,
          161,
          171,
          181,
          191,
          201,
          211
         ],
         "xaxis": "x2",
         "y": [
          1e-06,
          0.001101,
          0.1024009711526152,
          0.503081700968952,
          1.391003971028676,
          2.903424123329256,
          5.0523313194619055,
          7.653485261999902,
          10.34451164325413,
          12.731097736539486,
          14.561535269637407,
          15.79015193674651,
          16.517194874436214,
          16.893839694561187,
          17.058488863838,
          17.11295203545721,
          17.122145636107813,
          17.12236379677613,
          17.130506398114317,
          17.151629653264692,
          17.18439199152554
         ],
         "yaxis": "y2"
        },
        {
         "marker": {
          "color": "rgb(217,95,2)",
          "size": 8,
          "symbol": "diamond"
         },
         "mode": "markers",
         "name": "Uncertainty After Measurement",
         "opacity": 0.6,
         "showlegend": true,
         "type": "scatter",
         "x": [
          11,
          21,
          31,
          41,
          51,
          61,
          71,
          81,
          91,
          101,
          111,
          121,
          131,
          141,
          151,
          161,
          171,
          181,
          191,
          201,
          211
         ],
         "xaxis": "x2",
         "y": [
          1e-06,
          0.0011009757565138415,
          0.10219168060586005,
          0.49807029989548135,
          1.353353567302212,
          2.7440795860025524,
          4.588662458401488,
          6.637487072307496,
          8.571211665784137,
          10.14735768693866,
          11.277252940796734,
          12.000391754626012,
          12.415733184190602,
          12.627350867956485,
          12.7191121906096,
          12.749366192695613,
          12.754468345613414,
          12.75458940079708,
          12.759107086517904,
          12.77082160315884,
          12.788976339692955
         ],
         "yaxis": "y2"
        },
        {
         "marker": {
          "color": "rgb(27,158,119)",
          "size": 8,
          "symbol": "diamond"
         },
         "mode": "markers",
         "name": "Uncertainty After Prediction",
         "opacity": 0.6,
         "showlegend": false,
         "type": "scatter",
         "x": [
          11,
          21,
          31,
          41,
          51,
          61,
          71,
          81,
          91,
          101,
          111,
          121,
          131,
          141,
          151,
          161,
          171,
          181,
          191,
          201,
          211
         ],
         "xaxis": "x3",
         "y": [
          1e-06,
          0.001001,
          0.002000999998000044,
          0.0029989960941303614,
          0.003981187893726024,
          0.004912293303752929,
          0.005734385932370102,
          0.006383254631130855,
          0.006820605552917845,
          0.0070588264967473445,
          0.007154051123034853,
          0.007174882806526124,
          0.0071750897881627295,
          0.007184710790985862,
          0.007214333283548076,
          0.007262985688478432,
          0.007324577018773219,
          0.007391859911439568,
          0.00745845821081997,
          0.007519687574668165,
          0.007572696233253222
         ],
         "yaxis": "y3"
        },
        {
         "marker": {
          "color": "rgb(217,95,2)",
          "size": 8,
          "symbol": "diamond"
         },
         "mode": "markers",
         "name": "Uncertainty After Prediction",
         "opacity": 0.6,
         "showlegend": false,
         "type": "scatter",
         "x": [
          11,
          21,
          31,
          41,
          51,
          61,
          71,
          81,
          91,
          101,
          111,
          121,
          131,
          141,
          151,
          161,
          171,
          181,
          191,
          201,
          211
         ],
         "xaxis": "x3",
         "y": [
          1e-06,
          0.001000999998000044,
          0.0019989960941303613,
          0.0029811878937260243,
          0.003912293303752929,
          0.004734385932370102,
          0.005383254631130855,
          0.005820605552917845,
          0.0060588264967473444,
          0.006154051123034853,
          0.006174882806526124,
          0.0061750897881627295,
          0.006184710790985862,
          0.006214333283548076,
          0.006262985688478432,
          0.006324577018773219,
          0.006391859911439568,
          0.00645845821081997,
          0.006519687574668165,
          0.006572696233253222,
          0.006616250956968088
         ],
         "yaxis": "y3"
        }
       ],
       "layout": {
        "annotations": [
         {
          "font": {
           "size": 16
          },
          "showarrow": false,
          "text": "Filter Performance",
          "x": 0.225,
          "xanchor": "center",
          "xref": "paper",
          "y": 1,
          "yanchor": "bottom",
          "yref": "paper"
         },
         {
          "font": {
           "size": 16
          },
          "showarrow": false,
          "text": "Position Uncertainty",
          "x": 0.775,
          "xanchor": "center",
          "xref": "paper",
          "y": 1,
          "yanchor": "bottom",
          "yref": "paper"
         },
         {
          "font": {
           "size": 16
          },
          "showarrow": false,
          "text": "Velocity Uncertainty",
          "x": 0.775,
          "xanchor": "center",
          "xref": "paper",
          "y": 0.375,
          "yanchor": "bottom",
          "yref": "paper"
         }
        ],
        "height": 500,
        "legend": {
         "bgcolor": "white",
         "bordercolor": "black",
         "borderwidth": 2,
         "orientation": "h",
         "x": 0.5,
         "xanchor": "center",
         "y": -0.3,
         "yanchor": "bottom"
        },
        "margin": {
         "b": 0,
         "l": 0,
         "r": 0,
         "t": 30
        },
        "showlegend": true,
        "template": {
         "data": {
          "bar": [
           {
            "error_x": {
             "color": "#2a3f5f"
            },
            "error_y": {
             "color": "#2a3f5f"
            },
            "marker": {
             "line": {
              "color": "#E5ECF6",
              "width": 0.5
             },
             "pattern": {
              "fillmode": "overlay",
              "size": 10,
              "solidity": 0.2
             }
            },
            "type": "bar"
           }
          ],
          "barpolar": [
           {
            "marker": {
             "line": {
              "color": "#E5ECF6",
              "width": 0.5
             },
             "pattern": {
              "fillmode": "overlay",
              "size": 10,
              "solidity": 0.2
             }
            },
            "type": "barpolar"
           }
          ],
          "carpet": [
           {
            "aaxis": {
             "endlinecolor": "#2a3f5f",
             "gridcolor": "white",
             "linecolor": "white",
             "minorgridcolor": "white",
             "startlinecolor": "#2a3f5f"
            },
            "baxis": {
             "endlinecolor": "#2a3f5f",
             "gridcolor": "white",
             "linecolor": "white",
             "minorgridcolor": "white",
             "startlinecolor": "#2a3f5f"
            },
            "type": "carpet"
           }
          ],
          "choropleth": [
           {
            "colorbar": {
             "outlinewidth": 0,
             "ticks": ""
            },
            "type": "choropleth"
           }
          ],
          "contour": [
           {
            "colorbar": {
             "outlinewidth": 0,
             "ticks": ""
            },
            "colorscale": [
             [
              0,
              "#0d0887"
             ],
             [
              0.1111111111111111,
              "#46039f"
             ],
             [
              0.2222222222222222,
              "#7201a8"
             ],
             [
              0.3333333333333333,
              "#9c179e"
             ],
             [
              0.4444444444444444,
              "#bd3786"
             ],
             [
              0.5555555555555556,
              "#d8576b"
             ],
             [
              0.6666666666666666,
              "#ed7953"
             ],
             [
              0.7777777777777778,
              "#fb9f3a"
             ],
             [
              0.8888888888888888,
              "#fdca26"
             ],
             [
              1,
              "#f0f921"
             ]
            ],
            "type": "contour"
           }
          ],
          "contourcarpet": [
           {
            "colorbar": {
             "outlinewidth": 0,
             "ticks": ""
            },
            "type": "contourcarpet"
           }
          ],
          "heatmap": [
           {
            "colorbar": {
             "outlinewidth": 0,
             "ticks": ""
            },
            "colorscale": [
             [
              0,
              "#0d0887"
             ],
             [
              0.1111111111111111,
              "#46039f"
             ],
             [
              0.2222222222222222,
              "#7201a8"
             ],
             [
              0.3333333333333333,
              "#9c179e"
             ],
             [
              0.4444444444444444,
              "#bd3786"
             ],
             [
              0.5555555555555556,
              "#d8576b"
             ],
             [
              0.6666666666666666,
              "#ed7953"
             ],
             [
              0.7777777777777778,
              "#fb9f3a"
             ],
             [
              0.8888888888888888,
              "#fdca26"
             ],
             [
              1,
              "#f0f921"
             ]
            ],
            "type": "heatmap"
           }
          ],
          "heatmapgl": [
           {
            "colorbar": {
             "outlinewidth": 0,
             "ticks": ""
            },
            "colorscale": [
             [
              0,
              "#0d0887"
             ],
             [
              0.1111111111111111,
              "#46039f"
             ],
             [
              0.2222222222222222,
              "#7201a8"
             ],
             [
              0.3333333333333333,
              "#9c179e"
             ],
             [
              0.4444444444444444,
              "#bd3786"
             ],
             [
              0.5555555555555556,
              "#d8576b"
             ],
             [
              0.6666666666666666,
              "#ed7953"
             ],
             [
              0.7777777777777778,
              "#fb9f3a"
             ],
             [
              0.8888888888888888,
              "#fdca26"
             ],
             [
              1,
              "#f0f921"
             ]
            ],
            "type": "heatmapgl"
           }
          ],
          "histogram": [
           {
            "marker": {
             "pattern": {
              "fillmode": "overlay",
              "size": 10,
              "solidity": 0.2
             }
            },
            "type": "histogram"
           }
          ],
          "histogram2d": [
           {
            "colorbar": {
             "outlinewidth": 0,
             "ticks": ""
            },
            "colorscale": [
             [
              0,
              "#0d0887"
             ],
             [
              0.1111111111111111,
              "#46039f"
             ],
             [
              0.2222222222222222,
              "#7201a8"
             ],
             [
              0.3333333333333333,
              "#9c179e"
             ],
             [
              0.4444444444444444,
              "#bd3786"
             ],
             [
              0.5555555555555556,
              "#d8576b"
             ],
             [
              0.6666666666666666,
              "#ed7953"
             ],
             [
              0.7777777777777778,
              "#fb9f3a"
             ],
             [
              0.8888888888888888,
              "#fdca26"
             ],
             [
              1,
              "#f0f921"
             ]
            ],
            "type": "histogram2d"
           }
          ],
          "histogram2dcontour": [
           {
            "colorbar": {
             "outlinewidth": 0,
             "ticks": ""
            },
            "colorscale": [
             [
              0,
              "#0d0887"
             ],
             [
              0.1111111111111111,
              "#46039f"
             ],
             [
              0.2222222222222222,
              "#7201a8"
             ],
             [
              0.3333333333333333,
              "#9c179e"
             ],
             [
              0.4444444444444444,
              "#bd3786"
             ],
             [
              0.5555555555555556,
              "#d8576b"
             ],
             [
              0.6666666666666666,
              "#ed7953"
             ],
             [
              0.7777777777777778,
              "#fb9f3a"
             ],
             [
              0.8888888888888888,
              "#fdca26"
             ],
             [
              1,
              "#f0f921"
             ]
            ],
            "type": "histogram2dcontour"
           }
          ],
          "mesh3d": [
           {
            "colorbar": {
             "outlinewidth": 0,
             "ticks": ""
            },
            "type": "mesh3d"
           }
          ],
          "parcoords": [
           {
            "line": {
             "colorbar": {
              "outlinewidth": 0,
              "ticks": ""
             }
            },
            "type": "parcoords"
           }
          ],
          "pie": [
           {
            "automargin": true,
            "type": "pie"
           }
          ],
          "scatter": [
           {
            "fillpattern": {
             "fillmode": "overlay",
             "size": 10,
             "solidity": 0.2
            },
            "type": "scatter"
           }
          ],
          "scatter3d": [
           {
            "line": {
             "colorbar": {
              "outlinewidth": 0,
              "ticks": ""
             }
            },
            "marker": {
             "colorbar": {
              "outlinewidth": 0,
              "ticks": ""
             }
            },
            "type": "scatter3d"
           }
          ],
          "scattercarpet": [
           {
            "marker": {
             "colorbar": {
              "outlinewidth": 0,
              "ticks": ""
             }
            },
            "type": "scattercarpet"
           }
          ],
          "scattergeo": [
           {
            "marker": {
             "colorbar": {
              "outlinewidth": 0,
              "ticks": ""
             }
            },
            "type": "scattergeo"
           }
          ],
          "scattergl": [
           {
            "marker": {
             "colorbar": {
              "outlinewidth": 0,
              "ticks": ""
             }
            },
            "type": "scattergl"
           }
          ],
          "scattermapbox": [
           {
            "marker": {
             "colorbar": {
              "outlinewidth": 0,
              "ticks": ""
             }
            },
            "type": "scattermapbox"
           }
          ],
          "scatterpolar": [
           {
            "marker": {
             "colorbar": {
              "outlinewidth": 0,
              "ticks": ""
             }
            },
            "type": "scatterpolar"
           }
          ],
          "scatterpolargl": [
           {
            "marker": {
             "colorbar": {
              "outlinewidth": 0,
              "ticks": ""
             }
            },
            "type": "scatterpolargl"
           }
          ],
          "scatterternary": [
           {
            "marker": {
             "colorbar": {
              "outlinewidth": 0,
              "ticks": ""
             }
            },
            "type": "scatterternary"
           }
          ],
          "surface": [
           {
            "colorbar": {
             "outlinewidth": 0,
             "ticks": ""
            },
            "colorscale": [
             [
              0,
              "#0d0887"
             ],
             [
              0.1111111111111111,
              "#46039f"
             ],
             [
              0.2222222222222222,
              "#7201a8"
             ],
             [
              0.3333333333333333,
              "#9c179e"
             ],
             [
              0.4444444444444444,
              "#bd3786"
             ],
             [
              0.5555555555555556,
              "#d8576b"
             ],
             [
              0.6666666666666666,
              "#ed7953"
             ],
             [
              0.7777777777777778,
              "#fb9f3a"
             ],
             [
              0.8888888888888888,
              "#fdca26"
             ],
             [
              1,
              "#f0f921"
             ]
            ],
            "type": "surface"
           }
          ],
          "table": [
           {
            "cells": {
             "fill": {
              "color": "#EBF0F8"
             },
             "line": {
              "color": "white"
             }
            },
            "header": {
             "fill": {
              "color": "#C8D4E3"
             },
             "line": {
              "color": "white"
             }
            },
            "type": "table"
           }
          ]
         },
         "layout": {
          "annotationdefaults": {
           "arrowcolor": "#2a3f5f",
           "arrowhead": 0,
           "arrowwidth": 1
          },
          "autotypenumbers": "strict",
          "coloraxis": {
           "colorbar": {
            "outlinewidth": 0,
            "ticks": ""
           }
          },
          "colorscale": {
           "diverging": [
            [
             0,
             "#8e0152"
            ],
            [
             0.1,
             "#c51b7d"
            ],
            [
             0.2,
             "#de77ae"
            ],
            [
             0.3,
             "#f1b6da"
            ],
            [
             0.4,
             "#fde0ef"
            ],
            [
             0.5,
             "#f7f7f7"
            ],
            [
             0.6,
             "#e6f5d0"
            ],
            [
             0.7,
             "#b8e186"
            ],
            [
             0.8,
             "#7fbc41"
            ],
            [
             0.9,
             "#4d9221"
            ],
            [
             1,
             "#276419"
            ]
           ],
           "sequential": [
            [
             0,
             "#0d0887"
            ],
            [
             0.1111111111111111,
             "#46039f"
            ],
            [
             0.2222222222222222,
             "#7201a8"
            ],
            [
             0.3333333333333333,
             "#9c179e"
            ],
            [
             0.4444444444444444,
             "#bd3786"
            ],
            [
             0.5555555555555556,
             "#d8576b"
            ],
            [
             0.6666666666666666,
             "#ed7953"
            ],
            [
             0.7777777777777778,
             "#fb9f3a"
            ],
            [
             0.8888888888888888,
             "#fdca26"
            ],
            [
             1,
             "#f0f921"
            ]
           ],
           "sequentialminus": [
            [
             0,
             "#0d0887"
            ],
            [
             0.1111111111111111,
             "#46039f"
            ],
            [
             0.2222222222222222,
             "#7201a8"
            ],
            [
             0.3333333333333333,
             "#9c179e"
            ],
            [
             0.4444444444444444,
             "#bd3786"
            ],
            [
             0.5555555555555556,
             "#d8576b"
            ],
            [
             0.6666666666666666,
             "#ed7953"
            ],
            [
             0.7777777777777778,
             "#fb9f3a"
            ],
            [
             0.8888888888888888,
             "#fdca26"
            ],
            [
             1,
             "#f0f921"
            ]
           ]
          },
          "colorway": [
           "#636efa",
           "#EF553B",
           "#00cc96",
           "#ab63fa",
           "#FFA15A",
           "#19d3f3",
           "#FF6692",
           "#B6E880",
           "#FF97FF",
           "#FECB52"
          ],
          "font": {
           "color": "#2a3f5f"
          },
          "geo": {
           "bgcolor": "white",
           "lakecolor": "white",
           "landcolor": "#E5ECF6",
           "showlakes": true,
           "showland": true,
           "subunitcolor": "white"
          },
          "hoverlabel": {
           "align": "left"
          },
          "hovermode": "closest",
          "mapbox": {
           "style": "light"
          },
          "paper_bgcolor": "white",
          "plot_bgcolor": "#E5ECF6",
          "polar": {
           "angularaxis": {
            "gridcolor": "white",
            "linecolor": "white",
            "ticks": ""
           },
           "bgcolor": "#E5ECF6",
           "radialaxis": {
            "gridcolor": "white",
            "linecolor": "white",
            "ticks": ""
           }
          },
          "scene": {
           "xaxis": {
            "backgroundcolor": "#E5ECF6",
            "gridcolor": "white",
            "gridwidth": 2,
            "linecolor": "white",
            "showbackground": true,
            "ticks": "",
            "zerolinecolor": "white"
           },
           "yaxis": {
            "backgroundcolor": "#E5ECF6",
            "gridcolor": "white",
            "gridwidth": 2,
            "linecolor": "white",
            "showbackground": true,
            "ticks": "",
            "zerolinecolor": "white"
           },
           "zaxis": {
            "backgroundcolor": "#E5ECF6",
            "gridcolor": "white",
            "gridwidth": 2,
            "linecolor": "white",
            "showbackground": true,
            "ticks": "",
            "zerolinecolor": "white"
           }
          },
          "shapedefaults": {
           "line": {
            "color": "#2a3f5f"
           }
          },
          "ternary": {
           "aaxis": {
            "gridcolor": "white",
            "linecolor": "white",
            "ticks": ""
           },
           "baxis": {
            "gridcolor": "white",
            "linecolor": "white",
            "ticks": ""
           },
           "bgcolor": "#E5ECF6",
           "caxis": {
            "gridcolor": "white",
            "linecolor": "white",
            "ticks": ""
           }
          },
          "title": {
           "x": 0.05
          },
          "xaxis": {
           "automargin": true,
           "gridcolor": "white",
           "linecolor": "white",
           "ticks": "",
           "title": {
            "standoff": 15
           },
           "zerolinecolor": "white",
           "zerolinewidth": 2
          },
          "yaxis": {
           "automargin": true,
           "gridcolor": "white",
           "linecolor": "white",
           "ticks": "",
           "title": {
            "standoff": 15
           },
           "zerolinecolor": "white",
           "zerolinewidth": 2
          }
         }
        },
        "width": 750,
        "xaxis": {
         "anchor": "y",
         "autorange": true,
         "domain": [
          0,
          0.45
         ],
         "range": [
          -3.266813839195304,
          45.176574131331755
         ],
         "title": {
          "text": "x position"
         },
         "type": "linear"
        },
        "xaxis2": {
         "anchor": "y2",
         "autorange": true,
         "domain": [
          0.55,
          1
         ],
         "range": [
          -4.120243915639829,
          226.12024391563983
         ],
         "title": {
          "text": "Time (seconds)"
         },
         "type": "linear"
        },
        "xaxis3": {
         "anchor": "y3",
         "autorange": true,
         "domain": [
          0.55,
          1
         ],
         "range": [
          -4.120243915639829,
          226.12024391563983
         ],
         "title": {
          "text": "Time (seconds)"
         },
         "type": "linear"
        },
        "yaxis": {
         "anchor": "x",
         "autorange": true,
         "domain": [
          0,
          1
         ],
         "range": [
          -2.661577575339173,
          45.42437458602598
         ],
         "title": {
          "text": "y position"
         },
         "type": "linear"
        },
        "yaxis2": {
         "anchor": "x2",
         "autorange": true,
         "domain": [
          0.625,
          1
         ],
         "range": [
          -1.8057579374870274,
          18.990150929012568
         ],
         "title": {
          "text": "Uncertainty"
         },
         "type": "linear"
        },
        "yaxis3": {
         "anchor": "x3",
         "autorange": true,
         "domain": [
          0,
          0.375
         ],
         "range": [
          -0.0007946440325337406,
          0.008368340265786962
         ],
         "title": {
          "text": "Uncertainty"
         },
         "type": "linear"
        }
       }
      },
      "image/png": "[encoded data removed]",
      "text/html": [
       "<div>                            <div id=\"3f88056b-8f3e-4b0f-8830-755f2c2ed635\" class=\"plotly-graph-div\" style=\"height:500px; width:750px;\"></div>            <script type=\"text/javascript\">                require([\"plotly\"], function(Plotly) {                    window.PLOTLYENV=window.PLOTLYENV || {};                                    if (document.getElementById(\"3f88056b-8f3e-4b0f-8830-755f2c2ed635\")) {                    Plotly.newPlot(                        \"3f88056b-8f3e-4b0f-8830-755f2c2ed635\",                        [{\"line\":{\"color\":\"black\",\"width\":1},\"mode\":\"lines\",\"name\":\"Truth\",\"showlegend\":true,\"x\":[0.0,0.2,0.4,0.6000000000000001,0.8,1.0,1.2000000000000002,1.4,1.6,1.8,2.0,2.2,2.4000000000000004,2.6,2.8000000000000003,3.0,3.2,3.4000000000000004,3.6,3.8,4.0,4.2,4.4,4.6000000000000005,4.800000000000001,5.0,5.2,5.4,5.6000000000000005,5.800000000000001,6.0,6.2,6.4,6.6000000000000005,6.800000000000001,7.0,7.2,7.4,7.6,7.800000000000001,8.0,8.200000000000001,8.4,8.6,8.8,9.0,9.2,9.4,9.6,9.8,10.0,10.2,10.4,10.6,10.8,11.0,11.2,11.4,11.6,11.8,12.0,12.2,12.4,12.6,12.8,13.0,13.2,13.4,13.6,13.8,14.0,14.2,14.4,14.6,14.8,15.0,15.2,15.4,15.6,15.8,16.0,16.2,16.400000000000002,16.6,16.8,17.0,17.2,17.400000000000002,17.6,17.8,18.0,18.2,18.4,18.6,18.8,19.0,19.200000000000003,19.4,19.6,19.8,20.0,20.200000000000003,20.4,20.6,20.8,21.0,21.200000000000003,21.4,21.6,21.8,22.0,22.200000000000003,22.4,22.6,22.8,23.0,23.200000000000003,23.4,23.6,23.8,24.0,24.200000000000003,24.4,24.6,24.8,25.0,25.200000000000003,25.4,25.6,25.8,26.0,26.200000000000003,26.4,26.6,26.8,27.0,27.200000000000003,27.4,27.6,27.8,28.0,28.200000000000003,28.4,28.6,28.8,29.0,29.200000000000003,29.4,29.6,29.8,30.0,30.200000000000003,30.4,30.6,30.8,31.0,31.200000000000003,31.4,31.6,31.8,32.0,32.2,32.4,32.6,32.800000000000004,33.0,33.2,33.4,33.6,33.800000000000004,34.0,34.2,34.4,34.6,34.800000000000004,35.0,35.2,35.4,35.6,35.800000000000004,36.0,36.2,36.4,36.6,36.8,37.0,37.2,37.4,37.6,37.8,38.0,38.2,38.400000000000006,38.6,38.8,39.0,39.2,39.400000000000006,39.6,39.8,40.0,40.2,40.400000000000006,40.6,40.8,41.0,41.2,41.400000000000006,41.6,41.8,42.0],\"y\":[0.0,0.2,0.4,0.6000000000000001,0.8,1.0,1.2000000000000002,1.4,1.6,1.8,2.0,2.2,2.4000000000000004,2.6,2.8000000000000003,3.0,3.2,3.4000000000000004,3.6,3.8,4.0,4.2,4.4,4.6000000000000005,4.800000000000001,5.0,5.2,5.4,5.6000000000000005,5.800000000000001,6.0,6.2,6.4,6.6000000000000005,6.800000000000001,7.0,7.2,7.4,7.6,7.800000000000001,8.0,8.200000000000001,8.4,8.6,8.8,9.0,9.2,9.4,9.6,9.8,10.0,10.2,10.4,10.6,10.8,11.0,11.2,11.4,11.6,11.8,12.0,12.2,12.4,12.6,12.8,13.0,13.2,13.4,13.6,13.8,14.0,14.2,14.4,14.6,14.8,15.0,15.2,15.4,15.6,15.8,16.0,16.2,16.400000000000002,16.6,16.8,17.0,17.2,17.400000000000002,17.6,17.8,18.0,18.2,18.4,18.6,18.8,19.0,19.200000000000003,19.4,19.6,19.8,20.0,20.200000000000003,20.4,20.6,20.8,21.0,21.200000000000003,21.4,21.6,21.8,22.0,22.200000000000003,22.4,22.6,22.8,23.0,23.200000000000003,23.4,23.6,23.8,24.0,24.200000000000003,24.4,24.6,24.8,25.0,25.200000000000003,25.4,25.6,25.8,26.0,26.200000000000003,26.4,26.6,26.8,27.0,27.200000000000003,27.4,27.6,27.8,28.0,28.200000000000003,28.4,28.6,28.8,29.0,29.200000000000003,29.4,29.6,29.8,30.0,30.200000000000003,30.4,30.6,30.8,31.0,31.200000000000003,31.4,31.6,31.8,32.0,32.2,32.4,32.6,32.800000000000004,33.0,33.2,33.4,33.6,33.800000000000004,34.0,34.2,34.4,34.6,34.800000000000004,35.0,35.2,35.4,35.6,35.800000000000004,36.0,36.2,36.4,36.6,36.8,37.0,37.2,37.4,37.6,37.8,38.0,38.2,38.400000000000006,38.6,38.8,39.0,39.2,39.400000000000006,39.6,39.8,40.0,40.2,40.400000000000006,40.6,40.8,41.0,41.2,41.400000000000006,41.6,41.8,42.0],\"type\":\"scatter\",\"xaxis\":\"x\",\"yaxis\":\"y\"},{\"marker\":{\"color\":\"red\",\"size\":8,\"symbol\":\"square\"},\"mode\":\"markers\",\"name\":\"Measurements\",\"opacity\":0.6,\"showlegend\":true,\"x\":[-0.0854626827857501,1.7822414051213828,4.0912335113847496,6.033375054884168,8.322698456297777,9.748298518281024,11.983450496240886,14.208857584464068,14.562784633554426,18.481982469623517,19.438233970783003,22.17322566741221,24.38577754550994,25.57174080589179,28.410571126897356,30.312347648708457,31.816254712254647,33.943323272347804,36.20643968071292,37.81671319148808,39.839765792283465,41.63672548149419],\"y\":[0.4068906426926921,1.61010439892765,3.8962704339121017,5.410550209406374,7.436636509278692,10.490420444656367,13.070986231003715,13.678000160554552,16.522867020476966,17.851889340781028,19.88152469572311,22.80958929617197,23.98943440627872,24.700842966466833,27.667440285256355,30.360146646495444,31.51558205505583,34.70660616682223,36.02753490507313,37.98822681807464,39.47773294213718,41.81565150981578],\"type\":\"scatter\",\"xaxis\":\"x\",\"yaxis\":\"y\"},{\"marker\":{\"color\":\"blue\",\"size\":8,\"symbol\":\"circle\"},\"mode\":\"markers\",\"name\":\"Kalman Filter\",\"opacity\":0.6,\"showlegend\":true,\"x\":[1.7822414051213828,3.649955209976711,5.518714215834893,7.396766950531324,9.28397447422094,11.208774429434113,13.205052297658012,15.052804541730952,17.219175229077777,19.231159411029594,21.419726563238946,23.65691801874129,25.669143171631486,27.885839331022108,30.04365031788778,32.045054528100636,34.06992865004289,36.150856546007425,38.11376107316649,40.080830195984156,41.9952229749222],\"y\":[1.61010439892765,2.8133420012466903,4.019407011627242,5.247437701812013,6.5754858534562945,8.128228433720015,9.874216408992341,12.029426006867862,14.377502933658606,16.911883691639574,19.728835328944403,22.328137642415637,24.540860850308245,26.951011862304853,29.46201863536857,31.661901648386905,34.10912356467178,36.29131162540803,38.407110601429196,40.34715287040026,42.355906367994116],\"type\":\"scatter\",\"xaxis\":\"x\",\"yaxis\":\"y\"},{\"marker\":{\"color\":\"rgb(27,158,119)\",\"size\":8,\"symbol\":\"diamond\"},\"mode\":\"markers\",\"name\":\"Uncertainty After Prediction\",\"opacity\":0.6,\"showlegend\":true,\"x\":[11,21,31,41,51,61,71,81,91,101,111,121,131,141,151,161,171,181,191,201,211],\"y\":[1e-06,0.001101,0.1024009711526152,0.503081700968952,1.391003971028676,2.903424123329256,5.0523313194619055,7.653485261999902,10.34451164325413,12.731097736539486,14.561535269637407,15.79015193674651,16.517194874436214,16.893839694561187,17.058488863838,17.11295203545721,17.122145636107813,17.12236379677613,17.130506398114317,17.151629653264692,17.18439199152554],\"type\":\"scatter\",\"xaxis\":\"x2\",\"yaxis\":\"y2\"},{\"marker\":{\"color\":\"rgb(217,95,2)\",\"size\":8,\"symbol\":\"diamond\"},\"mode\":\"markers\",\"name\":\"Uncertainty After Measurement\",\"opacity\":0.6,\"showlegend\":true,\"x\":[11,21,31,41,51,61,71,81,91,101,111,121,131,141,151,161,171,181,191,201,211],\"y\":[1e-06,0.0011009757565138415,0.10219168060586005,0.49807029989548135,1.353353567302212,2.7440795860025524,4.588662458401488,6.637487072307496,8.571211665784137,10.14735768693866,11.277252940796734,12.000391754626012,12.415733184190602,12.627350867956485,12.7191121906096,12.749366192695613,12.754468345613414,12.75458940079708,12.759107086517904,12.77082160315884,12.788976339692955],\"type\":\"scatter\",\"xaxis\":\"x2\",\"yaxis\":\"y2\"},{\"marker\":{\"color\":\"rgb(27,158,119)\",\"size\":8,\"symbol\":\"diamond\"},\"mode\":\"markers\",\"name\":\"Uncertainty After Prediction\",\"opacity\":0.6,\"showlegend\":false,\"x\":[11,21,31,41,51,61,71,81,91,101,111,121,131,141,151,161,171,181,191,201,211],\"y\":[1e-06,0.001001,0.002000999998000044,0.0029989960941303614,0.003981187893726024,0.004912293303752929,0.005734385932370102,0.006383254631130855,0.006820605552917845,0.0070588264967473445,0.007154051123034853,0.007174882806526124,0.0071750897881627295,0.007184710790985862,0.007214333283548076,0.007262985688478432,0.007324577018773219,0.007391859911439568,0.00745845821081997,0.007519687574668165,0.007572696233253222],\"type\":\"scatter\",\"xaxis\":\"x3\",\"yaxis\":\"y3\"},{\"marker\":{\"color\":\"rgb(217,95,2)\",\"size\":8,\"symbol\":\"diamond\"},\"mode\":\"markers\",\"name\":\"Uncertainty After Prediction\",\"opacity\":0.6,\"showlegend\":false,\"x\":[11,21,31,41,51,61,71,81,91,101,111,121,131,141,151,161,171,181,191,201,211],\"y\":[1e-06,0.001000999998000044,0.0019989960941303613,0.0029811878937260243,0.003912293303752929,0.004734385932370102,0.005383254631130855,0.005820605552917845,0.0060588264967473444,0.006154051123034853,0.006174882806526124,0.0061750897881627295,0.006184710790985862,0.006214333283548076,0.006262985688478432,0.006324577018773219,0.006391859911439568,0.00645845821081997,0.006519687574668165,0.006572696233253222,0.006616250956968088],\"type\":\"scatter\",\"xaxis\":\"x3\",\"yaxis\":\"y3\"}],                        {\"template\":{\"data\":{\"histogram2dcontour\":[{\"type\":\"histogram2dcontour\",\"colorbar\":{\"outlinewidth\":0,\"ticks\":\"\"},\"colorscale\":[[0.0,\"#0d0887\"],[0.1111111111111111,\"#46039f\"],[0.2222222222222222,\"#7201a8\"],[0.3333333333333333,\"#9c179e\"],[0.4444444444444444,\"#bd3786\"],[0.5555555555555556,\"#d8576b\"],[0.6666666666666666,\"#ed7953\"],[0.7777777777777778,\"#fb9f3a\"],[0.8888888888888888,\"#fdca26\"],[1.0,\"#f0f921\"]]}],\"choropleth\":[{\"type\":\"choropleth\",\"colorbar\":{\"outlinewidth\":0,\"ticks\":\"\"}}],\"histogram2d\":[{\"type\":\"histogram2d\",\"colorbar\":{\"outlinewidth\":0,\"ticks\":\"\"},\"colorscale\":[[0.0,\"#0d0887\"],[0.1111111111111111,\"#46039f\"],[0.2222222222222222,\"#7201a8\"],[0.3333333333333333,\"#9c179e\"],[0.4444444444444444,\"#bd3786\"],[0.5555555555555556,\"#d8576b\"],[0.6666666666666666,\"#ed7953\"],[0.7777777777777778,\"#fb9f3a\"],[0.8888888888888888,\"#fdca26\"],[1.0,\"#f0f921\"]]}],\"heatmap\":[{\"type\":\"heatmap\",\"colorbar\":{\"outlinewidth\":0,\"ticks\":\"\"},\"colorscale\":[[0.0,\"#0d0887\"],[0.1111111111111111,\"#46039f\"],[0.2222222222222222,\"#7201a8\"],[0.3333333333333333,\"#9c179e\"],[0.4444444444444444,\"#bd3786\"],[0.5555555555555556,\"#d8576b\"],[0.6666666666666666,\"#ed7953\"],[0.7777777777777778,\"#fb9f3a\"],[0.8888888888888888,\"#fdca26\"],[1.0,\"#f0f921\"]]}],\"heatmapgl\":[{\"type\":\"heatmapgl\",\"colorbar\":{\"outlinewidth\":0,\"ticks\":\"\"},\"colorscale\":[[0.0,\"#0d0887\"],[0.1111111111111111,\"#46039f\"],[0.2222222222222222,\"#7201a8\"],[0.3333333333333333,\"#9c179e\"],[0.4444444444444444,\"#bd3786\"],[0.5555555555555556,\"#d8576b\"],[0.6666666666666666,\"#ed7953\"],[0.7777777777777778,\"#fb9f3a\"],[0.8888888888888888,\"#fdca26\"],[1.0,\"#f0f921\"]]}],\"contourcarpet\":[{\"type\":\"contourcarpet\",\"colorbar\":{\"outlinewidth\":0,\"ticks\":\"\"}}],\"contour\":[{\"type\":\"contour\",\"colorbar\":{\"outlinewidth\":0,\"ticks\":\"\"},\"colorscale\":[[0.0,\"#0d0887\"],[0.1111111111111111,\"#46039f\"],[0.2222222222222222,\"#7201a8\"],[0.3333333333333333,\"#9c179e\"],[0.4444444444444444,\"#bd3786\"],[0.5555555555555556,\"#d8576b\"],[0.6666666666666666,\"#ed7953\"],[0.7777777777777778,\"#fb9f3a\"],[0.8888888888888888,\"#fdca26\"],[1.0,\"#f0f921\"]]}],\"surface\":[{\"type\":\"surface\",\"colorbar\":{\"outlinewidth\":0,\"ticks\":\"\"},\"colorscale\":[[0.0,\"#0d0887\"],[0.1111111111111111,\"#46039f\"],[0.2222222222222222,\"#7201a8\"],[0.3333333333333333,\"#9c179e\"],[0.4444444444444444,\"#bd3786\"],[0.5555555555555556,\"#d8576b\"],[0.6666666666666666,\"#ed7953\"],[0.7777777777777778,\"#fb9f3a\"],[0.8888888888888888,\"#fdca26\"],[1.0,\"#f0f921\"]]}],\"mesh3d\":[{\"type\":\"mesh3d\",\"colorbar\":{\"outlinewidth\":0,\"ticks\":\"\"}}],\"scatter\":[{\"fillpattern\":{\"fillmode\":\"overlay\",\"size\":10,\"solidity\":0.2},\"type\":\"scatter\"}],\"parcoords\":[{\"type\":\"parcoords\",\"line\":{\"colorbar\":{\"outlinewidth\":0,\"ticks\":\"\"}}}],\"scatterpolargl\":[{\"type\":\"scatterpolargl\",\"marker\":{\"colorbar\":{\"outlinewidth\":0,\"ticks\":\"\"}}}],\"bar\":[{\"error_x\":{\"color\":\"#2a3f5f\"},\"error_y\":{\"color\":\"#2a3f5f\"},\"marker\":{\"line\":{\"color\":\"#E5ECF6\",\"width\":0.5},\"pattern\":{\"fillmode\":\"overlay\",\"size\":10,\"solidity\":0.2}},\"type\":\"bar\"}],\"scattergeo\":[{\"type\":\"scattergeo\",\"marker\":{\"colorbar\":{\"outlinewidth\":0,\"ticks\":\"\"}}}],\"scatterpolar\":[{\"type\":\"scatterpolar\",\"marker\":{\"colorbar\":{\"outlinewidth\":0,\"ticks\":\"\"}}}],\"histogram\":[{\"marker\":{\"pattern\":{\"fillmode\":\"overlay\",\"size\":10,\"solidity\":0.2}},\"type\":\"histogram\"}],\"scattergl\":[{\"type\":\"scattergl\",\"marker\":{\"colorbar\":{\"outlinewidth\":0,\"ticks\":\"\"}}}],\"scatter3d\":[{\"type\":\"scatter3d\",\"line\":{\"colorbar\":{\"outlinewidth\":0,\"ticks\":\"\"}},\"marker\":{\"colorbar\":{\"outlinewidth\":0,\"ticks\":\"\"}}}],\"scattermapbox\":[{\"type\":\"scattermapbox\",\"marker\":{\"colorbar\":{\"outlinewidth\":0,\"ticks\":\"\"}}}],\"scatterternary\":[{\"type\":\"scatterternary\",\"marker\":{\"colorbar\":{\"outlinewidth\":0,\"ticks\":\"\"}}}],\"scattercarpet\":[{\"type\":\"scattercarpet\",\"marker\":{\"colorbar\":{\"outlinewidth\":0,\"ticks\":\"\"}}}],\"carpet\":[{\"aaxis\":{\"endlinecolor\":\"#2a3f5f\",\"gridcolor\":\"white\",\"linecolor\":\"white\",\"minorgridcolor\":\"white\",\"startlinecolor\":\"#2a3f5f\"},\"baxis\":{\"endlinecolor\":\"#2a3f5f\",\"gridcolor\":\"white\",\"linecolor\":\"white\",\"minorgridcolor\":\"white\",\"startlinecolor\":\"#2a3f5f\"},\"type\":\"carpet\"}],\"table\":[{\"cells\":{\"fill\":{\"color\":\"#EBF0F8\"},\"line\":{\"color\":\"white\"}},\"header\":{\"fill\":{\"color\":\"#C8D4E3\"},\"line\":{\"color\":\"white\"}},\"type\":\"table\"}],\"barpolar\":[{\"marker\":{\"line\":{\"color\":\"#E5ECF6\",\"width\":0.5},\"pattern\":{\"fillmode\":\"overlay\",\"size\":10,\"solidity\":0.2}},\"type\":\"barpolar\"}],\"pie\":[{\"automargin\":true,\"type\":\"pie\"}]},\"layout\":{\"autotypenumbers\":\"strict\",\"colorway\":[\"#636efa\",\"#EF553B\",\"#00cc96\",\"#ab63fa\",\"#FFA15A\",\"#19d3f3\",\"#FF6692\",\"#B6E880\",\"#FF97FF\",\"#FECB52\"],\"font\":{\"color\":\"#2a3f5f\"},\"hovermode\":\"closest\",\"hoverlabel\":{\"align\":\"left\"},\"paper_bgcolor\":\"white\",\"plot_bgcolor\":\"#E5ECF6\",\"polar\":{\"bgcolor\":\"#E5ECF6\",\"angularaxis\":{\"gridcolor\":\"white\",\"linecolor\":\"white\",\"ticks\":\"\"},\"radialaxis\":{\"gridcolor\":\"white\",\"linecolor\":\"white\",\"ticks\":\"\"}},\"ternary\":{\"bgcolor\":\"#E5ECF6\",\"aaxis\":{\"gridcolor\":\"white\",\"linecolor\":\"white\",\"ticks\":\"\"},\"baxis\":{\"gridcolor\":\"white\",\"linecolor\":\"white\",\"ticks\":\"\"},\"caxis\":{\"gridcolor\":\"white\",\"linecolor\":\"white\",\"ticks\":\"\"}},\"coloraxis\":{\"colorbar\":{\"outlinewidth\":0,\"ticks\":\"\"}},\"colorscale\":{\"sequential\":[[0.0,\"#0d0887\"],[0.1111111111111111,\"#46039f\"],[0.2222222222222222,\"#7201a8\"],[0.3333333333333333,\"#9c179e\"],[0.4444444444444444,\"#bd3786\"],[0.5555555555555556,\"#d8576b\"],[0.6666666666666666,\"#ed7953\"],[0.7777777777777778,\"#fb9f3a\"],[0.8888888888888888,\"#fdca26\"],[1.0,\"#f0f921\"]],\"sequentialminus\":[[0.0,\"#0d0887\"],[0.1111111111111111,\"#46039f\"],[0.2222222222222222,\"#7201a8\"],[0.3333333333333333,\"#9c179e\"],[0.4444444444444444,\"#bd3786\"],[0.5555555555555556,\"#d8576b\"],[0.6666666666666666,\"#ed7953\"],[0.7777777777777778,\"#fb9f3a\"],[0.8888888888888888,\"#fdca26\"],[1.0,\"#f0f921\"]],\"diverging\":[[0,\"#8e0152\"],[0.1,\"#c51b7d\"],[0.2,\"#de77ae\"],[0.3,\"#f1b6da\"],[0.4,\"#fde0ef\"],[0.5,\"#f7f7f7\"],[0.6,\"#e6f5d0\"],[0.7,\"#b8e186\"],[0.8,\"#7fbc41\"],[0.9,\"#4d9221\"],[1,\"#276419\"]]},\"xaxis\":{\"gridcolor\":\"white\",\"linecolor\":\"white\",\"ticks\":\"\",\"title\":{\"standoff\":15},\"zerolinecolor\":\"white\",\"automargin\":true,\"zerolinewidth\":2},\"yaxis\":{\"gridcolor\":\"white\",\"linecolor\":\"white\",\"ticks\":\"\",\"title\":{\"standoff\":15},\"zerolinecolor\":\"white\",\"automargin\":true,\"zerolinewidth\":2},\"scene\":{\"xaxis\":{\"backgroundcolor\":\"#E5ECF6\",\"gridcolor\":\"white\",\"linecolor\":\"white\",\"showbackground\":true,\"ticks\":\"\",\"zerolinecolor\":\"white\",\"gridwidth\":2},\"yaxis\":{\"backgroundcolor\":\"#E5ECF6\",\"gridcolor\":\"white\",\"linecolor\":\"white\",\"showbackground\":true,\"ticks\":\"\",\"zerolinecolor\":\"white\",\"gridwidth\":2},\"zaxis\":{\"backgroundcolor\":\"#E5ECF6\",\"gridcolor\":\"white\",\"linecolor\":\"white\",\"showbackground\":true,\"ticks\":\"\",\"zerolinecolor\":\"white\",\"gridwidth\":2}},\"shapedefaults\":{\"line\":{\"color\":\"#2a3f5f\"}},\"annotationdefaults\":{\"arrowcolor\":\"#2a3f5f\",\"arrowhead\":0,\"arrowwidth\":1},\"geo\":{\"bgcolor\":\"white\",\"landcolor\":\"#E5ECF6\",\"subunitcolor\":\"white\",\"showland\":true,\"showlakes\":true,\"lakecolor\":\"white\"},\"title\":{\"x\":0.05},\"mapbox\":{\"style\":\"light\"}}},\"xaxis\":{\"anchor\":\"y\",\"domain\":[0.0,0.45],\"title\":{\"text\":\"x position\"}},\"yaxis\":{\"anchor\":\"x\",\"domain\":[0.0,1.0],\"title\":{\"text\":\"y position\"}},\"xaxis2\":{\"anchor\":\"y2\",\"domain\":[0.55,1.0],\"title\":{\"text\":\"Time (seconds)\"}},\"yaxis2\":{\"anchor\":\"x2\",\"domain\":[0.625,1.0],\"title\":{\"text\":\"Uncertainty\"}},\"xaxis3\":{\"anchor\":\"y3\",\"domain\":[0.55,1.0],\"title\":{\"text\":\"Time (seconds)\"}},\"yaxis3\":{\"anchor\":\"x3\",\"domain\":[0.0,0.375],\"title\":{\"text\":\"Uncertainty\"}},\"annotations\":[{\"font\":{\"size\":16},\"showarrow\":false,\"text\":\"Filter Performance\",\"x\":0.225,\"xanchor\":\"center\",\"xref\":\"paper\",\"y\":1.0,\"yanchor\":\"bottom\",\"yref\":\"paper\"},{\"font\":{\"size\":16},\"showarrow\":false,\"text\":\"Position Uncertainty\",\"x\":0.775,\"xanchor\":\"center\",\"xref\":\"paper\",\"y\":1.0,\"yanchor\":\"bottom\",\"yref\":\"paper\"},{\"font\":{\"size\":16},\"showarrow\":false,\"text\":\"Velocity Uncertainty\",\"x\":0.775,\"xanchor\":\"center\",\"xref\":\"paper\",\"y\":0.375,\"yanchor\":\"bottom\",\"yref\":\"paper\"}],\"margin\":{\"t\":30,\"b\":0,\"l\":0,\"r\":0},\"legend\":{\"orientation\":\"h\",\"yanchor\":\"bottom\",\"y\":-0.3,\"xanchor\":\"center\",\"x\":0.5,\"bgcolor\":\"white\",\"bordercolor\":\"black\",\"borderwidth\":2},\"width\":750,\"height\":500,\"showlegend\":true},                        {\"responsive\": true}                    ).then(function(){\n",
       "                            \n",
       "var gd = document.getElementById('3f88056b-8f3e-4b0f-8830-755f2c2ed635');\n",
       "var x = new MutationObserver(function (mutations, observer) {{\n",
       "        var display = window.getComputedStyle(gd).display;\n",
       "        if (!display || display === 'none') {{\n",
       "            console.log([gd, 'removed!']);\n",
       "            Plotly.purge(gd);\n",
       "            observer.disconnect();\n",
       "        }}\n",
       "}});\n",
       "\n",
       "// Listen for the removal of the full notebook cells\n",
       "var notebookContainer = gd.closest('#notebook-container');\n",
       "if (notebookContainer) {{\n",
       "    x.observe(notebookContainer, {childList: true});\n",
       "}}\n",
       "\n",
       "// Listen for the clearing of the current output cell\n",
       "var outputEl = gd.closest('.output');\n",
       "if (outputEl) {{\n",
       "    x.observe(outputEl, {childList: true});\n",
       "}}\n",
       "\n",
       "                        })                };                });            </script>        </div>"
      ]
     },
     "metadata": {},
     "output_type": "display_data"
    }
   ],
   "source": [
    "fig = straight_level_const_vel(meas_noise=50,process_noise=0.001,leg_pos=-0.3,height=500,width=750)\n",
    "fig.show()"
   ]
  },
  {
   "cell_type": "markdown",
   "id": "c1d6e9d9-3bc2-467a-a1ae-22e1259a1eb8",
   "metadata": {},
   "source": [
    "The Kalman filter is initiated on the second measurement since it takes two measurements to calculate an approximate velocity. The first prediction of the Kalman filter produces an extremely large uncertainty value pertaining to the estimated position of the object. However, due to the consistent income of measurements, the models uncertainty quickly approaches a confident state. Next, observe what happens when there is 5 consecutive missed measurements."
   ]
  },
  {
   "cell_type": "code",
   "execution_count": 8,
   "id": "0fe80592-6251-43f2-96e4-bdddd092d5d6",
   "metadata": {
    "tags": []
   },
   "outputs": [
    {
     "data": {
      "application/vnd.plotly.v1+json": {
       "config": {
        "plotlyServerURL": "https://plot.ly"
       },
       "data": [
        {
         "line": {
          "color": "black",
          "width": 1
         },
         "mode": "lines",
         "name": "Truth",
         "showlegend": true,
         "type": "scatter",
         "x": [
          0,
          0.2,
          0.4,
          0.6000000000000001,
          0.8,
          1,
          1.2000000000000002,
          1.4,
          1.6,
          1.8,
          2,
          2.2,
          2.4000000000000004,
          2.6,
          2.8000000000000003,
          3,
          3.2,
          3.4000000000000004,
          3.6,
          3.8,
          4,
          4.2,
          4.4,
          4.6000000000000005,
          4.800000000000001,
          5,
          5.2,
          5.4,
          5.6000000000000005,
          5.800000000000001,
          6,
          6.2,
          6.4,
          6.6000000000000005,
          6.800000000000001,
          7,
          7.2,
          7.4,
          7.6,
          7.800000000000001,
          8,
          8.200000000000001,
          8.4,
          8.6,
          8.8,
          9,
          9.2,
          9.4,
          9.6,
          9.8,
          10,
          10.2,
          10.4,
          10.6,
          10.8,
          11,
          11.2,
          11.4,
          11.6,
          11.8,
          12,
          12.2,
          12.4,
          12.6,
          12.8,
          13,
          13.2,
          13.4,
          13.6,
          13.8,
          14,
          14.2,
          14.4,
          14.6,
          14.8,
          15,
          15.2,
          15.4,
          15.6,
          15.8,
          16,
          16.2,
          16.400000000000002,
          16.6,
          16.8,
          17,
          17.2,
          17.400000000000002,
          17.6,
          17.8,
          18,
          18.2,
          18.4,
          18.6,
          18.8,
          19,
          19.200000000000003,
          19.4,
          19.6,
          19.8,
          20,
          20.200000000000003,
          20.4,
          20.6,
          20.8,
          21,
          21.200000000000003,
          21.4,
          21.6,
          21.8,
          22,
          22.200000000000003,
          22.4,
          22.6,
          22.8,
          23,
          23.200000000000003,
          23.4,
          23.6,
          23.8,
          24,
          24.200000000000003,
          24.4,
          24.6,
          24.8,
          25,
          25.200000000000003,
          25.4,
          25.6,
          25.8,
          26,
          26.200000000000003,
          26.4,
          26.6,
          26.8,
          27,
          27.200000000000003,
          27.4,
          27.6,
          27.8,
          28,
          28.200000000000003,
          28.4,
          28.6,
          28.8,
          29,
          29.200000000000003,
          29.4,
          29.6,
          29.8,
          30,
          30.200000000000003,
          30.4,
          30.6,
          30.8,
          31,
          31.200000000000003,
          31.4,
          31.6,
          31.8,
          32,
          32.2,
          32.4,
          32.6,
          32.800000000000004,
          33,
          33.2,
          33.4,
          33.6,
          33.800000000000004,
          34,
          34.2,
          34.4,
          34.6,
          34.800000000000004,
          35,
          35.2,
          35.4,
          35.6,
          35.800000000000004,
          36,
          36.2,
          36.4,
          36.6,
          36.8,
          37,
          37.2,
          37.4,
          37.6,
          37.8,
          38,
          38.2,
          38.400000000000006,
          38.6,
          38.8,
          39,
          39.2,
          39.400000000000006,
          39.6,
          39.8,
          40,
          40.2,
          40.400000000000006,
          40.6,
          40.8,
          41,
          41.2,
          41.400000000000006,
          41.6,
          41.8,
          42
         ],
         "xaxis": "x",
         "y": [
          0,
          0.2,
          0.4,
          0.6000000000000001,
          0.8,
          1,
          1.2000000000000002,
          1.4,
          1.6,
          1.8,
          2,
          2.2,
          2.4000000000000004,
          2.6,
          2.8000000000000003,
          3,
          3.2,
          3.4000000000000004,
          3.6,
          3.8,
          4,
          4.2,
          4.4,
          4.6000000000000005,
          4.800000000000001,
          5,
          5.2,
          5.4,
          5.6000000000000005,
          5.800000000000001,
          6,
          6.2,
          6.4,
          6.6000000000000005,
          6.800000000000001,
          7,
          7.2,
          7.4,
          7.6,
          7.800000000000001,
          8,
          8.200000000000001,
          8.4,
          8.6,
          8.8,
          9,
          9.2,
          9.4,
          9.6,
          9.8,
          10,
          10.2,
          10.4,
          10.6,
          10.8,
          11,
          11.2,
          11.4,
          11.6,
          11.8,
          12,
          12.2,
          12.4,
          12.6,
          12.8,
          13,
          13.2,
          13.4,
          13.6,
          13.8,
          14,
          14.2,
          14.4,
          14.6,
          14.8,
          15,
          15.2,
          15.4,
          15.6,
          15.8,
          16,
          16.2,
          16.400000000000002,
          16.6,
          16.8,
          17,
          17.2,
          17.400000000000002,
          17.6,
          17.8,
          18,
          18.2,
          18.4,
          18.6,
          18.8,
          19,
          19.200000000000003,
          19.4,
          19.6,
          19.8,
          20,
          20.200000000000003,
          20.4,
          20.6,
          20.8,
          21,
          21.200000000000003,
          21.4,
          21.6,
          21.8,
          22,
          22.200000000000003,
          22.4,
          22.6,
          22.8,
          23,
          23.200000000000003,
          23.4,
          23.6,
          23.8,
          24,
          24.200000000000003,
          24.4,
          24.6,
          24.8,
          25,
          25.200000000000003,
          25.4,
          25.6,
          25.8,
          26,
          26.200000000000003,
          26.4,
          26.6,
          26.8,
          27,
          27.200000000000003,
          27.4,
          27.6,
          27.8,
          28,
          28.200000000000003,
          28.4,
          28.6,
          28.8,
          29,
          29.200000000000003,
          29.4,
          29.6,
          29.8,
          30,
          30.200000000000003,
          30.4,
          30.6,
          30.8,
          31,
          31.200000000000003,
          31.4,
          31.6,
          31.8,
          32,
          32.2,
          32.4,
          32.6,
          32.800000000000004,
          33,
          33.2,
          33.4,
          33.6,
          33.800000000000004,
          34,
          34.2,
          34.4,
          34.6,
          34.800000000000004,
          35,
          35.2,
          35.4,
          35.6,
          35.800000000000004,
          36,
          36.2,
          36.4,
          36.6,
          36.8,
          37,
          37.2,
          37.4,
          37.6,
          37.8,
          38,
          38.2,
          38.400000000000006,
          38.6,
          38.8,
          39,
          39.2,
          39.400000000000006,
          39.6,
          39.8,
          40,
          40.2,
          40.400000000000006,
          40.6,
          40.8,
          41,
          41.2,
          41.400000000000006,
          41.6,
          41.8,
          42
         ],
         "yaxis": "y"
        },
        {
         "marker": {
          "color": "red",
          "size": 8,
          "symbol": "square"
         },
         "mode": "markers",
         "name": "Measurements",
         "opacity": 0.6,
         "showlegend": true,
         "type": "scatter",
         "x": [
          -0.0854626827857501,
          1.7822414051213828,
          4.0912335113847496,
          6.033375054884168,
          8.322698456297777,
          9.748298518281024,
          11.983450496240886,
          25.57174080589179,
          28.410571126897356,
          30.312347648708457,
          31.816254712254647,
          33.943323272347804,
          36.20643968071292,
          37.81671319148808,
          39.839765792283465,
          41.63672548149419
         ],
         "xaxis": "x",
         "y": [
          0.4068906426926921,
          1.61010439892765,
          3.8962704339121017,
          5.410550209406374,
          7.436636509278692,
          10.490420444656367,
          13.070986231003715,
          24.700842966466833,
          27.667440285256355,
          30.360146646495444,
          31.51558205505583,
          34.70660616682223,
          36.02753490507313,
          37.98822681807464,
          39.47773294213718,
          41.81565150981578
         ],
         "yaxis": "y"
        },
        {
         "marker": {
          "color": "blue",
          "size": 8,
          "symbol": "circle"
         },
         "mode": "markers",
         "name": "Kalman Filter",
         "opacity": 0.6,
         "showlegend": true,
         "type": "scatter",
         "x": [
          1.7822414051213828,
          3.650123719028948,
          5.53804682574371,
          7.571937737637236,
          9.611165864276625,
          11.76850196058704,
          13.827369340260038,
          15.886236719933036,
          17.945104099606034,
          20.00397147927903,
          22.062838858952027,
          24.121706238625023,
          25.618482905763486,
          28.061829311872604,
          30.22165063383318,
          32.07808396487014,
          34.024102230568154,
          36.11055436788213,
          37.982381484894894,
          39.9024067609574,
          41.75499950885359
         ],
         "xaxis": "x",
         "y": [
          1.61010439892765,
          2.8137555344823983,
          4.071623100358253,
          5.672369646188415,
          8.202253026713501,
          11.359710762975723,
          13.73322689834621,
          16.106743033716697,
          18.480259169087184,
          20.85377530445767,
          23.227291439828157,
          25.600807575198644,
          24.95215886263902,
          27.326195764714576,
          29.839516617879,
          31.763419139489514,
          34.2589590492895,
          36.25764535053426,
          38.20344923396269,
          39.89997127994728,
          41.84066104126545
         ],
         "yaxis": "y"
        },
        {
         "marker": {
          "color": "rgb(27,158,119)",
          "size": 8,
          "symbol": "diamond"
         },
         "mode": "markers",
         "name": "Uncertainty After Prediction",
         "opacity": 0.6,
         "showlegend": true,
         "type": "scatter",
         "x": [
          11,
          21,
          31,
          41,
          51,
          61,
          71,
          81,
          91,
          101,
          111,
          121,
          131,
          141,
          151,
          161,
          171,
          181,
          191,
          201,
          211
         ],
         "xaxis": "x2",
         "y": [
          1e-06,
          0.010101,
          1.0203968392650633,
          4.8739886421973075,
          11.656113054038023,
          17.905703003201836,
          20.952875103680046,
          38.4517677185397,
          64.92984974824503,
          102.38712119279604,
          152.8235820521927,
          218.23923232643506,
          300.6340720155231,
          33.68535583567665,
          24.12192323515112,
          22.948034683296022,
          23.22225196387746,
          23.350913750635,
          23.170241519124534,
          22.875702399804844,
          22.619701662552593
         ],
         "yaxis": "y2"
        },
        {
         "marker": {
          "color": "rgb(217,95,2)",
          "size": 8,
          "symbol": "diamond"
         },
         "mode": "markers",
         "name": "Uncertainty After Measurement",
         "opacity": 0.6,
         "showlegend": true,
         "type": "scatter",
         "x": [
          11,
          21,
          31,
          41,
          51,
          61,
          71,
          81,
          91,
          101,
          111,
          121,
          131,
          141,
          151,
          161,
          171,
          181,
          191,
          201,
          211
         ],
         "xaxis": "x2",
         "y": [
          1e-06,
          0.010096920440265314,
          0.980381703599994,
          4.078789662617021,
          7.9496379204573016,
          10.43317190366606,
          null,
          null,
          null,
          null,
          null,
          null,
          23.08066767666067,
          14.349983635610112,
          12.276556803200315,
          11.96505489477892,
          12.039178500660281,
          12.073667248081907,
          12.025184423211524,
          11.945361244401342,
          11.87518026826509
         ],
         "yaxis": "y2"
        },
        {
         "marker": {
          "color": "rgb(27,158,119)",
          "size": 8,
          "symbol": "diamond"
         },
         "mode": "markers",
         "name": "Uncertainty After Prediction",
         "opacity": 0.6,
         "showlegend": false,
         "type": "scatter",
         "x": [
          11,
          21,
          31,
          41,
          51,
          61,
          71,
          81,
          91,
          101,
          111,
          121,
          131,
          141,
          151,
          161,
          171,
          181,
          191,
          201,
          211
         ],
         "xaxis": "x3",
         "y": [
          1e-06,
          0.010001,
          0.020000999996001613,
          0.02961653239368625,
          0.0367572668502284,
          0.039601565786543315,
          0.039895947074228374,
          0.049895947074228376,
          0.05989594707422838,
          0.06989594707422837,
          0.07989594707422837,
          0.08989594707422836,
          0.09989594707422836,
          0.045795719404530956,
          0.04723695519042433,
          0.0479812938393317,
          0.04707989591911647,
          0.04548475057868341,
          0.044082238760368916,
          0.043178246653480364,
          0.04271058475409944
         ],
         "yaxis": "y3"
        },
        {
         "marker": {
          "color": "rgb(217,95,2)",
          "size": 8,
          "symbol": "diamond"
         },
         "mode": "markers",
         "name": "Uncertainty After Prediction",
         "opacity": 0.6,
         "showlegend": false,
         "type": "scatter",
         "x": [
          11,
          21,
          31,
          41,
          51,
          61,
          71,
          81,
          91,
          101,
          111,
          121,
          131,
          141,
          151,
          161,
          171,
          181,
          191,
          201,
          211
         ],
         "xaxis": "x3",
         "y": [
          1e-06,
          0.010000999996001615,
          0.01961653239368625,
          0.026757266850228396,
          0.029601565786543313,
          0.029895947074228373,
          null,
          null,
          null,
          null,
          null,
          null,
          0.035795719404530954,
          0.03723695519042433,
          0.0379812938393317,
          0.037079895919116465,
          0.03548475057868341,
          0.034082238760368914,
          0.03317824665348036,
          0.03271058475409944,
          0.03251546931118924
         ],
         "yaxis": "y3"
        }
       ],
       "layout": {
        "annotations": [
         {
          "font": {
           "size": 16
          },
          "showarrow": false,
          "text": "Filter Performance",
          "x": 0.225,
          "xanchor": "center",
          "xref": "paper",
          "y": 1,
          "yanchor": "bottom",
          "yref": "paper"
         },
         {
          "font": {
           "size": 16
          },
          "showarrow": false,
          "text": "Position Uncertainty",
          "x": 0.775,
          "xanchor": "center",
          "xref": "paper",
          "y": 1,
          "yanchor": "bottom",
          "yref": "paper"
         },
         {
          "font": {
           "size": 16
          },
          "showarrow": false,
          "text": "Velocity Uncertainty",
          "x": 0.775,
          "xanchor": "center",
          "xref": "paper",
          "y": 0.375,
          "yanchor": "bottom",
          "yref": "paper"
         }
        ],
        "height": 500,
        "legend": {
         "bgcolor": "white",
         "bordercolor": "black",
         "borderwidth": 2,
         "orientation": "h",
         "x": 0.5,
         "xanchor": "center",
         "y": -0.3,
         "yanchor": "bottom"
        },
        "margin": {
         "b": 0,
         "l": 0,
         "r": 0,
         "t": 30
        },
        "showlegend": true,
        "template": {
         "data": {
          "bar": [
           {
            "error_x": {
             "color": "#2a3f5f"
            },
            "error_y": {
             "color": "#2a3f5f"
            },
            "marker": {
             "line": {
              "color": "#E5ECF6",
              "width": 0.5
             },
             "pattern": {
              "fillmode": "overlay",
              "size": 10,
              "solidity": 0.2
             }
            },
            "type": "bar"
           }
          ],
          "barpolar": [
           {
            "marker": {
             "line": {
              "color": "#E5ECF6",
              "width": 0.5
             },
             "pattern": {
              "fillmode": "overlay",
              "size": 10,
              "solidity": 0.2
             }
            },
            "type": "barpolar"
           }
          ],
          "carpet": [
           {
            "aaxis": {
             "endlinecolor": "#2a3f5f",
             "gridcolor": "white",
             "linecolor": "white",
             "minorgridcolor": "white",
             "startlinecolor": "#2a3f5f"
            },
            "baxis": {
             "endlinecolor": "#2a3f5f",
             "gridcolor": "white",
             "linecolor": "white",
             "minorgridcolor": "white",
             "startlinecolor": "#2a3f5f"
            },
            "type": "carpet"
           }
          ],
          "choropleth": [
           {
            "colorbar": {
             "outlinewidth": 0,
             "ticks": ""
            },
            "type": "choropleth"
           }
          ],
          "contour": [
           {
            "colorbar": {
             "outlinewidth": 0,
             "ticks": ""
            },
            "colorscale": [
             [
              0,
              "#0d0887"
             ],
             [
              0.1111111111111111,
              "#46039f"
             ],
             [
              0.2222222222222222,
              "#7201a8"
             ],
             [
              0.3333333333333333,
              "#9c179e"
             ],
             [
              0.4444444444444444,
              "#bd3786"
             ],
             [
              0.5555555555555556,
              "#d8576b"
             ],
             [
              0.6666666666666666,
              "#ed7953"
             ],
             [
              0.7777777777777778,
              "#fb9f3a"
             ],
             [
              0.8888888888888888,
              "#fdca26"
             ],
             [
              1,
              "#f0f921"
             ]
            ],
            "type": "contour"
           }
          ],
          "contourcarpet": [
           {
            "colorbar": {
             "outlinewidth": 0,
             "ticks": ""
            },
            "type": "contourcarpet"
           }
          ],
          "heatmap": [
           {
            "colorbar": {
             "outlinewidth": 0,
             "ticks": ""
            },
            "colorscale": [
             [
              0,
              "#0d0887"
             ],
             [
              0.1111111111111111,
              "#46039f"
             ],
             [
              0.2222222222222222,
              "#7201a8"
             ],
             [
              0.3333333333333333,
              "#9c179e"
             ],
             [
              0.4444444444444444,
              "#bd3786"
             ],
             [
              0.5555555555555556,
              "#d8576b"
             ],
             [
              0.6666666666666666,
              "#ed7953"
             ],
             [
              0.7777777777777778,
              "#fb9f3a"
             ],
             [
              0.8888888888888888,
              "#fdca26"
             ],
             [
              1,
              "#f0f921"
             ]
            ],
            "type": "heatmap"
           }
          ],
          "heatmapgl": [
           {
            "colorbar": {
             "outlinewidth": 0,
             "ticks": ""
            },
            "colorscale": [
             [
              0,
              "#0d0887"
             ],
             [
              0.1111111111111111,
              "#46039f"
             ],
             [
              0.2222222222222222,
              "#7201a8"
             ],
             [
              0.3333333333333333,
              "#9c179e"
             ],
             [
              0.4444444444444444,
              "#bd3786"
             ],
             [
              0.5555555555555556,
              "#d8576b"
             ],
             [
              0.6666666666666666,
              "#ed7953"
             ],
             [
              0.7777777777777778,
              "#fb9f3a"
             ],
             [
              0.8888888888888888,
              "#fdca26"
             ],
             [
              1,
              "#f0f921"
             ]
            ],
            "type": "heatmapgl"
           }
          ],
          "histogram": [
           {
            "marker": {
             "pattern": {
              "fillmode": "overlay",
              "size": 10,
              "solidity": 0.2
             }
            },
            "type": "histogram"
           }
          ],
          "histogram2d": [
           {
            "colorbar": {
             "outlinewidth": 0,
             "ticks": ""
            },
            "colorscale": [
             [
              0,
              "#0d0887"
             ],
             [
              0.1111111111111111,
              "#46039f"
             ],
             [
              0.2222222222222222,
              "#7201a8"
             ],
             [
              0.3333333333333333,
              "#9c179e"
             ],
             [
              0.4444444444444444,
              "#bd3786"
             ],
             [
              0.5555555555555556,
              "#d8576b"
             ],
             [
              0.6666666666666666,
              "#ed7953"
             ],
             [
              0.7777777777777778,
              "#fb9f3a"
             ],
             [
              0.8888888888888888,
              "#fdca26"
             ],
             [
              1,
              "#f0f921"
             ]
            ],
            "type": "histogram2d"
           }
          ],
          "histogram2dcontour": [
           {
            "colorbar": {
             "outlinewidth": 0,
             "ticks": ""
            },
            "colorscale": [
             [
              0,
              "#0d0887"
             ],
             [
              0.1111111111111111,
              "#46039f"
             ],
             [
              0.2222222222222222,
              "#7201a8"
             ],
             [
              0.3333333333333333,
              "#9c179e"
             ],
             [
              0.4444444444444444,
              "#bd3786"
             ],
             [
              0.5555555555555556,
              "#d8576b"
             ],
             [
              0.6666666666666666,
              "#ed7953"
             ],
             [
              0.7777777777777778,
              "#fb9f3a"
             ],
             [
              0.8888888888888888,
              "#fdca26"
             ],
             [
              1,
              "#f0f921"
             ]
            ],
            "type": "histogram2dcontour"
           }
          ],
          "mesh3d": [
           {
            "colorbar": {
             "outlinewidth": 0,
             "ticks": ""
            },
            "type": "mesh3d"
           }
          ],
          "parcoords": [
           {
            "line": {
             "colorbar": {
              "outlinewidth": 0,
              "ticks": ""
             }
            },
            "type": "parcoords"
           }
          ],
          "pie": [
           {
            "automargin": true,
            "type": "pie"
           }
          ],
          "scatter": [
           {
            "fillpattern": {
             "fillmode": "overlay",
             "size": 10,
             "solidity": 0.2
            },
            "type": "scatter"
           }
          ],
          "scatter3d": [
           {
            "line": {
             "colorbar": {
              "outlinewidth": 0,
              "ticks": ""
             }
            },
            "marker": {
             "colorbar": {
              "outlinewidth": 0,
              "ticks": ""
             }
            },
            "type": "scatter3d"
           }
          ],
          "scattercarpet": [
           {
            "marker": {
             "colorbar": {
              "outlinewidth": 0,
              "ticks": ""
             }
            },
            "type": "scattercarpet"
           }
          ],
          "scattergeo": [
           {
            "marker": {
             "colorbar": {
              "outlinewidth": 0,
              "ticks": ""
             }
            },
            "type": "scattergeo"
           }
          ],
          "scattergl": [
           {
            "marker": {
             "colorbar": {
              "outlinewidth": 0,
              "ticks": ""
             }
            },
            "type": "scattergl"
           }
          ],
          "scattermapbox": [
           {
            "marker": {
             "colorbar": {
              "outlinewidth": 0,
              "ticks": ""
             }
            },
            "type": "scattermapbox"
           }
          ],
          "scatterpolar": [
           {
            "marker": {
             "colorbar": {
              "outlinewidth": 0,
              "ticks": ""
             }
            },
            "type": "scatterpolar"
           }
          ],
          "scatterpolargl": [
           {
            "marker": {
             "colorbar": {
              "outlinewidth": 0,
              "ticks": ""
             }
            },
            "type": "scatterpolargl"
           }
          ],
          "scatterternary": [
           {
            "marker": {
             "colorbar": {
              "outlinewidth": 0,
              "ticks": ""
             }
            },
            "type": "scatterternary"
           }
          ],
          "surface": [
           {
            "colorbar": {
             "outlinewidth": 0,
             "ticks": ""
            },
            "colorscale": [
             [
              0,
              "#0d0887"
             ],
             [
              0.1111111111111111,
              "#46039f"
             ],
             [
              0.2222222222222222,
              "#7201a8"
             ],
             [
              0.3333333333333333,
              "#9c179e"
             ],
             [
              0.4444444444444444,
              "#bd3786"
             ],
             [
              0.5555555555555556,
              "#d8576b"
             ],
             [
              0.6666666666666666,
              "#ed7953"
             ],
             [
              0.7777777777777778,
              "#fb9f3a"
             ],
             [
              0.8888888888888888,
              "#fdca26"
             ],
             [
              1,
              "#f0f921"
             ]
            ],
            "type": "surface"
           }
          ],
          "table": [
           {
            "cells": {
             "fill": {
              "color": "#EBF0F8"
             },
             "line": {
              "color": "white"
             }
            },
            "header": {
             "fill": {
              "color": "#C8D4E3"
             },
             "line": {
              "color": "white"
             }
            },
            "type": "table"
           }
          ]
         },
         "layout": {
          "annotationdefaults": {
           "arrowcolor": "#2a3f5f",
           "arrowhead": 0,
           "arrowwidth": 1
          },
          "autotypenumbers": "strict",
          "coloraxis": {
           "colorbar": {
            "outlinewidth": 0,
            "ticks": ""
           }
          },
          "colorscale": {
           "diverging": [
            [
             0,
             "#8e0152"
            ],
            [
             0.1,
             "#c51b7d"
            ],
            [
             0.2,
             "#de77ae"
            ],
            [
             0.3,
             "#f1b6da"
            ],
            [
             0.4,
             "#fde0ef"
            ],
            [
             0.5,
             "#f7f7f7"
            ],
            [
             0.6,
             "#e6f5d0"
            ],
            [
             0.7,
             "#b8e186"
            ],
            [
             0.8,
             "#7fbc41"
            ],
            [
             0.9,
             "#4d9221"
            ],
            [
             1,
             "#276419"
            ]
           ],
           "sequential": [
            [
             0,
             "#0d0887"
            ],
            [
             0.1111111111111111,
             "#46039f"
            ],
            [
             0.2222222222222222,
             "#7201a8"
            ],
            [
             0.3333333333333333,
             "#9c179e"
            ],
            [
             0.4444444444444444,
             "#bd3786"
            ],
            [
             0.5555555555555556,
             "#d8576b"
            ],
            [
             0.6666666666666666,
             "#ed7953"
            ],
            [
             0.7777777777777778,
             "#fb9f3a"
            ],
            [
             0.8888888888888888,
             "#fdca26"
            ],
            [
             1,
             "#f0f921"
            ]
           ],
           "sequentialminus": [
            [
             0,
             "#0d0887"
            ],
            [
             0.1111111111111111,
             "#46039f"
            ],
            [
             0.2222222222222222,
             "#7201a8"
            ],
            [
             0.3333333333333333,
             "#9c179e"
            ],
            [
             0.4444444444444444,
             "#bd3786"
            ],
            [
             0.5555555555555556,
             "#d8576b"
            ],
            [
             0.6666666666666666,
             "#ed7953"
            ],
            [
             0.7777777777777778,
             "#fb9f3a"
            ],
            [
             0.8888888888888888,
             "#fdca26"
            ],
            [
             1,
             "#f0f921"
            ]
           ]
          },
          "colorway": [
           "#636efa",
           "#EF553B",
           "#00cc96",
           "#ab63fa",
           "#FFA15A",
           "#19d3f3",
           "#FF6692",
           "#B6E880",
           "#FF97FF",
           "#FECB52"
          ],
          "font": {
           "color": "#2a3f5f"
          },
          "geo": {
           "bgcolor": "white",
           "lakecolor": "white",
           "landcolor": "#E5ECF6",
           "showlakes": true,
           "showland": true,
           "subunitcolor": "white"
          },
          "hoverlabel": {
           "align": "left"
          },
          "hovermode": "closest",
          "mapbox": {
           "style": "light"
          },
          "paper_bgcolor": "white",
          "plot_bgcolor": "#E5ECF6",
          "polar": {
           "angularaxis": {
            "gridcolor": "white",
            "linecolor": "white",
            "ticks": ""
           },
           "bgcolor": "#E5ECF6",
           "radialaxis": {
            "gridcolor": "white",
            "linecolor": "white",
            "ticks": ""
           }
          },
          "scene": {
           "xaxis": {
            "backgroundcolor": "#E5ECF6",
            "gridcolor": "white",
            "gridwidth": 2,
            "linecolor": "white",
            "showbackground": true,
            "ticks": "",
            "zerolinecolor": "white"
           },
           "yaxis": {
            "backgroundcolor": "#E5ECF6",
            "gridcolor": "white",
            "gridwidth": 2,
            "linecolor": "white",
            "showbackground": true,
            "ticks": "",
            "zerolinecolor": "white"
           },
           "zaxis": {
            "backgroundcolor": "#E5ECF6",
            "gridcolor": "white",
            "gridwidth": 2,
            "linecolor": "white",
            "showbackground": true,
            "ticks": "",
            "zerolinecolor": "white"
           }
          },
          "shapedefaults": {
           "line": {
            "color": "#2a3f5f"
           }
          },
          "ternary": {
           "aaxis": {
            "gridcolor": "white",
            "linecolor": "white",
            "ticks": ""
           },
           "baxis": {
            "gridcolor": "white",
            "linecolor": "white",
            "ticks": ""
           },
           "bgcolor": "#E5ECF6",
           "caxis": {
            "gridcolor": "white",
            "linecolor": "white",
            "ticks": ""
           }
          },
          "title": {
           "x": 0.05
          },
          "xaxis": {
           "automargin": true,
           "gridcolor": "white",
           "linecolor": "white",
           "ticks": "",
           "title": {
            "standoff": 15
           },
           "zerolinecolor": "white",
           "zerolinewidth": 2
          },
          "yaxis": {
           "automargin": true,
           "gridcolor": "white",
           "linecolor": "white",
           "ticks": "",
           "title": {
            "standoff": 15
           },
           "zerolinecolor": "white",
           "zerolinewidth": 2
          }
         }
        },
        "width": 750,
        "xaxis": {
         "anchor": "y",
         "autorange": true,
         "domain": [
          0,
          0.45
         ],
         "range": [
          -3.248652652189215,
          44.91818947825705
         ],
         "title": {
          "text": "x position"
         },
         "type": "linear"
        },
        "xaxis2": {
         "anchor": "y2",
         "autorange": true,
         "domain": [
          0.55,
          1
         ],
         "range": [
          -4.120243915639829,
          226.12024391563983
         ],
         "title": {
          "text": "Time (seconds)"
         },
         "type": "linear"
        },
        "xaxis3": {
         "anchor": "y3",
         "autorange": true,
         "domain": [
          0.55,
          1
         ],
         "range": [
          -4.120243915639829,
          226.12024391563983
         ],
         "title": {
          "text": "Time (seconds)"
         },
         "type": "linear"
        },
        "yaxis": {
         "anchor": "x",
         "autorange": true,
         "domain": [
          0,
          1
         ],
         "range": [
          -2.6238886359869498,
          44.871440319945094
         ],
         "title": {
          "text": "y position"
         },
         "type": "linear"
        },
        "yaxis2": {
         "anchor": "x2",
         "autorange": true,
         "domain": [
          0.625,
          1
         ],
         "range": [
          -31.591031869137314,
          332.2251048846604
         ],
         "title": {
          "text": "Uncertainty"
         },
         "type": "linear"
        },
        "yaxis3": {
         "anchor": "x3",
         "autorange": true,
         "domain": [
          0,
          0.375
         ],
         "range": [
          -0.010496095508245748,
          0.11039304258247411
         ],
         "title": {
          "text": "Uncertainty"
         },
         "type": "linear"
        }
       }
      },
      "image/png": "[encoded data removed]",
      "text/html": [
       "<div>                            <div id=\"d6c9db83-adb6-4e6c-8cff-810f52fb1ba5\" class=\"plotly-graph-div\" style=\"height:500px; width:750px;\"></div>            <script type=\"text/javascript\">                require([\"plotly\"], function(Plotly) {                    window.PLOTLYENV=window.PLOTLYENV || {};                                    if (document.getElementById(\"d6c9db83-adb6-4e6c-8cff-810f52fb1ba5\")) {                    Plotly.newPlot(                        \"d6c9db83-adb6-4e6c-8cff-810f52fb1ba5\",                        [{\"line\":{\"color\":\"black\",\"width\":1},\"mode\":\"lines\",\"name\":\"Truth\",\"showlegend\":true,\"x\":[0.0,0.2,0.4,0.6000000000000001,0.8,1.0,1.2000000000000002,1.4,1.6,1.8,2.0,2.2,2.4000000000000004,2.6,2.8000000000000003,3.0,3.2,3.4000000000000004,3.6,3.8,4.0,4.2,4.4,4.6000000000000005,4.800000000000001,5.0,5.2,5.4,5.6000000000000005,5.800000000000001,6.0,6.2,6.4,6.6000000000000005,6.800000000000001,7.0,7.2,7.4,7.6,7.800000000000001,8.0,8.200000000000001,8.4,8.6,8.8,9.0,9.2,9.4,9.6,9.8,10.0,10.2,10.4,10.6,10.8,11.0,11.2,11.4,11.6,11.8,12.0,12.2,12.4,12.6,12.8,13.0,13.2,13.4,13.6,13.8,14.0,14.2,14.4,14.6,14.8,15.0,15.2,15.4,15.6,15.8,16.0,16.2,16.400000000000002,16.6,16.8,17.0,17.2,17.400000000000002,17.6,17.8,18.0,18.2,18.4,18.6,18.8,19.0,19.200000000000003,19.4,19.6,19.8,20.0,20.200000000000003,20.4,20.6,20.8,21.0,21.200000000000003,21.4,21.6,21.8,22.0,22.200000000000003,22.4,22.6,22.8,23.0,23.200000000000003,23.4,23.6,23.8,24.0,24.200000000000003,24.4,24.6,24.8,25.0,25.200000000000003,25.4,25.6,25.8,26.0,26.200000000000003,26.4,26.6,26.8,27.0,27.200000000000003,27.4,27.6,27.8,28.0,28.200000000000003,28.4,28.6,28.8,29.0,29.200000000000003,29.4,29.6,29.8,30.0,30.200000000000003,30.4,30.6,30.8,31.0,31.200000000000003,31.4,31.6,31.8,32.0,32.2,32.4,32.6,32.800000000000004,33.0,33.2,33.4,33.6,33.800000000000004,34.0,34.2,34.4,34.6,34.800000000000004,35.0,35.2,35.4,35.6,35.800000000000004,36.0,36.2,36.4,36.6,36.8,37.0,37.2,37.4,37.6,37.8,38.0,38.2,38.400000000000006,38.6,38.8,39.0,39.2,39.400000000000006,39.6,39.8,40.0,40.2,40.400000000000006,40.6,40.8,41.0,41.2,41.400000000000006,41.6,41.8,42.0],\"y\":[0.0,0.2,0.4,0.6000000000000001,0.8,1.0,1.2000000000000002,1.4,1.6,1.8,2.0,2.2,2.4000000000000004,2.6,2.8000000000000003,3.0,3.2,3.4000000000000004,3.6,3.8,4.0,4.2,4.4,4.6000000000000005,4.800000000000001,5.0,5.2,5.4,5.6000000000000005,5.800000000000001,6.0,6.2,6.4,6.6000000000000005,6.800000000000001,7.0,7.2,7.4,7.6,7.800000000000001,8.0,8.200000000000001,8.4,8.6,8.8,9.0,9.2,9.4,9.6,9.8,10.0,10.2,10.4,10.6,10.8,11.0,11.2,11.4,11.6,11.8,12.0,12.2,12.4,12.6,12.8,13.0,13.2,13.4,13.6,13.8,14.0,14.2,14.4,14.6,14.8,15.0,15.2,15.4,15.6,15.8,16.0,16.2,16.400000000000002,16.6,16.8,17.0,17.2,17.400000000000002,17.6,17.8,18.0,18.2,18.4,18.6,18.8,19.0,19.200000000000003,19.4,19.6,19.8,20.0,20.200000000000003,20.4,20.6,20.8,21.0,21.200000000000003,21.4,21.6,21.8,22.0,22.200000000000003,22.4,22.6,22.8,23.0,23.200000000000003,23.4,23.6,23.8,24.0,24.200000000000003,24.4,24.6,24.8,25.0,25.200000000000003,25.4,25.6,25.8,26.0,26.200000000000003,26.4,26.6,26.8,27.0,27.200000000000003,27.4,27.6,27.8,28.0,28.200000000000003,28.4,28.6,28.8,29.0,29.200000000000003,29.4,29.6,29.8,30.0,30.200000000000003,30.4,30.6,30.8,31.0,31.200000000000003,31.4,31.6,31.8,32.0,32.2,32.4,32.6,32.800000000000004,33.0,33.2,33.4,33.6,33.800000000000004,34.0,34.2,34.4,34.6,34.800000000000004,35.0,35.2,35.4,35.6,35.800000000000004,36.0,36.2,36.4,36.6,36.8,37.0,37.2,37.4,37.6,37.8,38.0,38.2,38.400000000000006,38.6,38.8,39.0,39.2,39.400000000000006,39.6,39.8,40.0,40.2,40.400000000000006,40.6,40.8,41.0,41.2,41.400000000000006,41.6,41.8,42.0],\"type\":\"scatter\",\"xaxis\":\"x\",\"yaxis\":\"y\"},{\"marker\":{\"color\":\"red\",\"size\":8,\"symbol\":\"square\"},\"mode\":\"markers\",\"name\":\"Measurements\",\"opacity\":0.6,\"showlegend\":true,\"x\":[-0.0854626827857501,1.7822414051213828,4.0912335113847496,6.033375054884168,8.322698456297777,9.748298518281024,11.983450496240886,25.57174080589179,28.410571126897356,30.312347648708457,31.816254712254647,33.943323272347804,36.20643968071292,37.81671319148808,39.839765792283465,41.63672548149419],\"y\":[0.4068906426926921,1.61010439892765,3.8962704339121017,5.410550209406374,7.436636509278692,10.490420444656367,13.070986231003715,24.700842966466833,27.667440285256355,30.360146646495444,31.51558205505583,34.70660616682223,36.02753490507313,37.98822681807464,39.47773294213718,41.81565150981578],\"type\":\"scatter\",\"xaxis\":\"x\",\"yaxis\":\"y\"},{\"marker\":{\"color\":\"blue\",\"size\":8,\"symbol\":\"circle\"},\"mode\":\"markers\",\"name\":\"Kalman Filter\",\"opacity\":0.6,\"showlegend\":true,\"x\":[1.7822414051213828,3.650123719028948,5.53804682574371,7.571937737637236,9.611165864276625,11.76850196058704,13.827369340260038,15.886236719933036,17.945104099606034,20.00397147927903,22.062838858952027,24.121706238625023,25.618482905763486,28.061829311872604,30.22165063383318,32.07808396487014,34.024102230568154,36.11055436788213,37.982381484894894,39.9024067609574,41.75499950885359],\"y\":[1.61010439892765,2.8137555344823983,4.071623100358253,5.672369646188415,8.202253026713501,11.359710762975723,13.73322689834621,16.106743033716697,18.480259169087184,20.85377530445767,23.227291439828157,25.600807575198644,24.95215886263902,27.326195764714576,29.839516617879,31.763419139489514,34.2589590492895,36.25764535053426,38.20344923396269,39.89997127994728,41.84066104126545],\"type\":\"scatter\",\"xaxis\":\"x\",\"yaxis\":\"y\"},{\"marker\":{\"color\":\"rgb(27,158,119)\",\"size\":8,\"symbol\":\"diamond\"},\"mode\":\"markers\",\"name\":\"Uncertainty After Prediction\",\"opacity\":0.6,\"showlegend\":true,\"x\":[11,21,31,41,51,61,71,81,91,101,111,121,131,141,151,161,171,181,191,201,211],\"y\":[1e-06,0.010101,1.0203968392650633,4.8739886421973075,11.656113054038023,17.905703003201836,20.952875103680046,38.4517677185397,64.92984974824503,102.38712119279604,152.8235820521927,218.23923232643506,300.6340720155231,33.68535583567665,24.12192323515112,22.948034683296022,23.22225196387746,23.350913750635,23.170241519124534,22.875702399804844,22.619701662552593],\"type\":\"scatter\",\"xaxis\":\"x2\",\"yaxis\":\"y2\"},{\"marker\":{\"color\":\"rgb(217,95,2)\",\"size\":8,\"symbol\":\"diamond\"},\"mode\":\"markers\",\"name\":\"Uncertainty After Measurement\",\"opacity\":0.6,\"showlegend\":true,\"x\":[11,21,31,41,51,61,71,81,91,101,111,121,131,141,151,161,171,181,191,201,211],\"y\":[1e-06,0.010096920440265314,0.980381703599994,4.078789662617021,7.9496379204573016,10.43317190366606,null,null,null,null,null,null,23.08066767666067,14.349983635610112,12.276556803200315,11.96505489477892,12.039178500660281,12.073667248081907,12.025184423211524,11.945361244401342,11.87518026826509],\"type\":\"scatter\",\"xaxis\":\"x2\",\"yaxis\":\"y2\"},{\"marker\":{\"color\":\"rgb(27,158,119)\",\"size\":8,\"symbol\":\"diamond\"},\"mode\":\"markers\",\"name\":\"Uncertainty After Prediction\",\"opacity\":0.6,\"showlegend\":false,\"x\":[11,21,31,41,51,61,71,81,91,101,111,121,131,141,151,161,171,181,191,201,211],\"y\":[1e-06,0.010001,0.020000999996001613,0.02961653239368625,0.0367572668502284,0.039601565786543315,0.039895947074228374,0.049895947074228376,0.05989594707422838,0.06989594707422837,0.07989594707422837,0.08989594707422836,0.09989594707422836,0.045795719404530956,0.04723695519042433,0.0479812938393317,0.04707989591911647,0.04548475057868341,0.044082238760368916,0.043178246653480364,0.04271058475409944],\"type\":\"scatter\",\"xaxis\":\"x3\",\"yaxis\":\"y3\"},{\"marker\":{\"color\":\"rgb(217,95,2)\",\"size\":8,\"symbol\":\"diamond\"},\"mode\":\"markers\",\"name\":\"Uncertainty After Prediction\",\"opacity\":0.6,\"showlegend\":false,\"x\":[11,21,31,41,51,61,71,81,91,101,111,121,131,141,151,161,171,181,191,201,211],\"y\":[1e-06,0.010000999996001615,0.01961653239368625,0.026757266850228396,0.029601565786543313,0.029895947074228373,null,null,null,null,null,null,0.035795719404530954,0.03723695519042433,0.0379812938393317,0.037079895919116465,0.03548475057868341,0.034082238760368914,0.03317824665348036,0.03271058475409944,0.03251546931118924],\"type\":\"scatter\",\"xaxis\":\"x3\",\"yaxis\":\"y3\"}],                        {\"template\":{\"data\":{\"histogram2dcontour\":[{\"type\":\"histogram2dcontour\",\"colorbar\":{\"outlinewidth\":0,\"ticks\":\"\"},\"colorscale\":[[0.0,\"#0d0887\"],[0.1111111111111111,\"#46039f\"],[0.2222222222222222,\"#7201a8\"],[0.3333333333333333,\"#9c179e\"],[0.4444444444444444,\"#bd3786\"],[0.5555555555555556,\"#d8576b\"],[0.6666666666666666,\"#ed7953\"],[0.7777777777777778,\"#fb9f3a\"],[0.8888888888888888,\"#fdca26\"],[1.0,\"#f0f921\"]]}],\"choropleth\":[{\"type\":\"choropleth\",\"colorbar\":{\"outlinewidth\":0,\"ticks\":\"\"}}],\"histogram2d\":[{\"type\":\"histogram2d\",\"colorbar\":{\"outlinewidth\":0,\"ticks\":\"\"},\"colorscale\":[[0.0,\"#0d0887\"],[0.1111111111111111,\"#46039f\"],[0.2222222222222222,\"#7201a8\"],[0.3333333333333333,\"#9c179e\"],[0.4444444444444444,\"#bd3786\"],[0.5555555555555556,\"#d8576b\"],[0.6666666666666666,\"#ed7953\"],[0.7777777777777778,\"#fb9f3a\"],[0.8888888888888888,\"#fdca26\"],[1.0,\"#f0f921\"]]}],\"heatmap\":[{\"type\":\"heatmap\",\"colorbar\":{\"outlinewidth\":0,\"ticks\":\"\"},\"colorscale\":[[0.0,\"#0d0887\"],[0.1111111111111111,\"#46039f\"],[0.2222222222222222,\"#7201a8\"],[0.3333333333333333,\"#9c179e\"],[0.4444444444444444,\"#bd3786\"],[0.5555555555555556,\"#d8576b\"],[0.6666666666666666,\"#ed7953\"],[0.7777777777777778,\"#fb9f3a\"],[0.8888888888888888,\"#fdca26\"],[1.0,\"#f0f921\"]]}],\"heatmapgl\":[{\"type\":\"heatmapgl\",\"colorbar\":{\"outlinewidth\":0,\"ticks\":\"\"},\"colorscale\":[[0.0,\"#0d0887\"],[0.1111111111111111,\"#46039f\"],[0.2222222222222222,\"#7201a8\"],[0.3333333333333333,\"#9c179e\"],[0.4444444444444444,\"#bd3786\"],[0.5555555555555556,\"#d8576b\"],[0.6666666666666666,\"#ed7953\"],[0.7777777777777778,\"#fb9f3a\"],[0.8888888888888888,\"#fdca26\"],[1.0,\"#f0f921\"]]}],\"contourcarpet\":[{\"type\":\"contourcarpet\",\"colorbar\":{\"outlinewidth\":0,\"ticks\":\"\"}}],\"contour\":[{\"type\":\"contour\",\"colorbar\":{\"outlinewidth\":0,\"ticks\":\"\"},\"colorscale\":[[0.0,\"#0d0887\"],[0.1111111111111111,\"#46039f\"],[0.2222222222222222,\"#7201a8\"],[0.3333333333333333,\"#9c179e\"],[0.4444444444444444,\"#bd3786\"],[0.5555555555555556,\"#d8576b\"],[0.6666666666666666,\"#ed7953\"],[0.7777777777777778,\"#fb9f3a\"],[0.8888888888888888,\"#fdca26\"],[1.0,\"#f0f921\"]]}],\"surface\":[{\"type\":\"surface\",\"colorbar\":{\"outlinewidth\":0,\"ticks\":\"\"},\"colorscale\":[[0.0,\"#0d0887\"],[0.1111111111111111,\"#46039f\"],[0.2222222222222222,\"#7201a8\"],[0.3333333333333333,\"#9c179e\"],[0.4444444444444444,\"#bd3786\"],[0.5555555555555556,\"#d8576b\"],[0.6666666666666666,\"#ed7953\"],[0.7777777777777778,\"#fb9f3a\"],[0.8888888888888888,\"#fdca26\"],[1.0,\"#f0f921\"]]}],\"mesh3d\":[{\"type\":\"mesh3d\",\"colorbar\":{\"outlinewidth\":0,\"ticks\":\"\"}}],\"scatter\":[{\"fillpattern\":{\"fillmode\":\"overlay\",\"size\":10,\"solidity\":0.2},\"type\":\"scatter\"}],\"parcoords\":[{\"type\":\"parcoords\",\"line\":{\"colorbar\":{\"outlinewidth\":0,\"ticks\":\"\"}}}],\"scatterpolargl\":[{\"type\":\"scatterpolargl\",\"marker\":{\"colorbar\":{\"outlinewidth\":0,\"ticks\":\"\"}}}],\"bar\":[{\"error_x\":{\"color\":\"#2a3f5f\"},\"error_y\":{\"color\":\"#2a3f5f\"},\"marker\":{\"line\":{\"color\":\"#E5ECF6\",\"width\":0.5},\"pattern\":{\"fillmode\":\"overlay\",\"size\":10,\"solidity\":0.2}},\"type\":\"bar\"}],\"scattergeo\":[{\"type\":\"scattergeo\",\"marker\":{\"colorbar\":{\"outlinewidth\":0,\"ticks\":\"\"}}}],\"scatterpolar\":[{\"type\":\"scatterpolar\",\"marker\":{\"colorbar\":{\"outlinewidth\":0,\"ticks\":\"\"}}}],\"histogram\":[{\"marker\":{\"pattern\":{\"fillmode\":\"overlay\",\"size\":10,\"solidity\":0.2}},\"type\":\"histogram\"}],\"scattergl\":[{\"type\":\"scattergl\",\"marker\":{\"colorbar\":{\"outlinewidth\":0,\"ticks\":\"\"}}}],\"scatter3d\":[{\"type\":\"scatter3d\",\"line\":{\"colorbar\":{\"outlinewidth\":0,\"ticks\":\"\"}},\"marker\":{\"colorbar\":{\"outlinewidth\":0,\"ticks\":\"\"}}}],\"scattermapbox\":[{\"type\":\"scattermapbox\",\"marker\":{\"colorbar\":{\"outlinewidth\":0,\"ticks\":\"\"}}}],\"scatterternary\":[{\"type\":\"scatterternary\",\"marker\":{\"colorbar\":{\"outlinewidth\":0,\"ticks\":\"\"}}}],\"scattercarpet\":[{\"type\":\"scattercarpet\",\"marker\":{\"colorbar\":{\"outlinewidth\":0,\"ticks\":\"\"}}}],\"carpet\":[{\"aaxis\":{\"endlinecolor\":\"#2a3f5f\",\"gridcolor\":\"white\",\"linecolor\":\"white\",\"minorgridcolor\":\"white\",\"startlinecolor\":\"#2a3f5f\"},\"baxis\":{\"endlinecolor\":\"#2a3f5f\",\"gridcolor\":\"white\",\"linecolor\":\"white\",\"minorgridcolor\":\"white\",\"startlinecolor\":\"#2a3f5f\"},\"type\":\"carpet\"}],\"table\":[{\"cells\":{\"fill\":{\"color\":\"#EBF0F8\"},\"line\":{\"color\":\"white\"}},\"header\":{\"fill\":{\"color\":\"#C8D4E3\"},\"line\":{\"color\":\"white\"}},\"type\":\"table\"}],\"barpolar\":[{\"marker\":{\"line\":{\"color\":\"#E5ECF6\",\"width\":0.5},\"pattern\":{\"fillmode\":\"overlay\",\"size\":10,\"solidity\":0.2}},\"type\":\"barpolar\"}],\"pie\":[{\"automargin\":true,\"type\":\"pie\"}]},\"layout\":{\"autotypenumbers\":\"strict\",\"colorway\":[\"#636efa\",\"#EF553B\",\"#00cc96\",\"#ab63fa\",\"#FFA15A\",\"#19d3f3\",\"#FF6692\",\"#B6E880\",\"#FF97FF\",\"#FECB52\"],\"font\":{\"color\":\"#2a3f5f\"},\"hovermode\":\"closest\",\"hoverlabel\":{\"align\":\"left\"},\"paper_bgcolor\":\"white\",\"plot_bgcolor\":\"#E5ECF6\",\"polar\":{\"bgcolor\":\"#E5ECF6\",\"angularaxis\":{\"gridcolor\":\"white\",\"linecolor\":\"white\",\"ticks\":\"\"},\"radialaxis\":{\"gridcolor\":\"white\",\"linecolor\":\"white\",\"ticks\":\"\"}},\"ternary\":{\"bgcolor\":\"#E5ECF6\",\"aaxis\":{\"gridcolor\":\"white\",\"linecolor\":\"white\",\"ticks\":\"\"},\"baxis\":{\"gridcolor\":\"white\",\"linecolor\":\"white\",\"ticks\":\"\"},\"caxis\":{\"gridcolor\":\"white\",\"linecolor\":\"white\",\"ticks\":\"\"}},\"coloraxis\":{\"colorbar\":{\"outlinewidth\":0,\"ticks\":\"\"}},\"colorscale\":{\"sequential\":[[0.0,\"#0d0887\"],[0.1111111111111111,\"#46039f\"],[0.2222222222222222,\"#7201a8\"],[0.3333333333333333,\"#9c179e\"],[0.4444444444444444,\"#bd3786\"],[0.5555555555555556,\"#d8576b\"],[0.6666666666666666,\"#ed7953\"],[0.7777777777777778,\"#fb9f3a\"],[0.8888888888888888,\"#fdca26\"],[1.0,\"#f0f921\"]],\"sequentialminus\":[[0.0,\"#0d0887\"],[0.1111111111111111,\"#46039f\"],[0.2222222222222222,\"#7201a8\"],[0.3333333333333333,\"#9c179e\"],[0.4444444444444444,\"#bd3786\"],[0.5555555555555556,\"#d8576b\"],[0.6666666666666666,\"#ed7953\"],[0.7777777777777778,\"#fb9f3a\"],[0.8888888888888888,\"#fdca26\"],[1.0,\"#f0f921\"]],\"diverging\":[[0,\"#8e0152\"],[0.1,\"#c51b7d\"],[0.2,\"#de77ae\"],[0.3,\"#f1b6da\"],[0.4,\"#fde0ef\"],[0.5,\"#f7f7f7\"],[0.6,\"#e6f5d0\"],[0.7,\"#b8e186\"],[0.8,\"#7fbc41\"],[0.9,\"#4d9221\"],[1,\"#276419\"]]},\"xaxis\":{\"gridcolor\":\"white\",\"linecolor\":\"white\",\"ticks\":\"\",\"title\":{\"standoff\":15},\"zerolinecolor\":\"white\",\"automargin\":true,\"zerolinewidth\":2},\"yaxis\":{\"gridcolor\":\"white\",\"linecolor\":\"white\",\"ticks\":\"\",\"title\":{\"standoff\":15},\"zerolinecolor\":\"white\",\"automargin\":true,\"zerolinewidth\":2},\"scene\":{\"xaxis\":{\"backgroundcolor\":\"#E5ECF6\",\"gridcolor\":\"white\",\"linecolor\":\"white\",\"showbackground\":true,\"ticks\":\"\",\"zerolinecolor\":\"white\",\"gridwidth\":2},\"yaxis\":{\"backgroundcolor\":\"#E5ECF6\",\"gridcolor\":\"white\",\"linecolor\":\"white\",\"showbackground\":true,\"ticks\":\"\",\"zerolinecolor\":\"white\",\"gridwidth\":2},\"zaxis\":{\"backgroundcolor\":\"#E5ECF6\",\"gridcolor\":\"white\",\"linecolor\":\"white\",\"showbackground\":true,\"ticks\":\"\",\"zerolinecolor\":\"white\",\"gridwidth\":2}},\"shapedefaults\":{\"line\":{\"color\":\"#2a3f5f\"}},\"annotationdefaults\":{\"arrowcolor\":\"#2a3f5f\",\"arrowhead\":0,\"arrowwidth\":1},\"geo\":{\"bgcolor\":\"white\",\"landcolor\":\"#E5ECF6\",\"subunitcolor\":\"white\",\"showland\":true,\"showlakes\":true,\"lakecolor\":\"white\"},\"title\":{\"x\":0.05},\"mapbox\":{\"style\":\"light\"}}},\"xaxis\":{\"anchor\":\"y\",\"domain\":[0.0,0.45],\"title\":{\"text\":\"x position\"}},\"yaxis\":{\"anchor\":\"x\",\"domain\":[0.0,1.0],\"title\":{\"text\":\"y position\"}},\"xaxis2\":{\"anchor\":\"y2\",\"domain\":[0.55,1.0],\"title\":{\"text\":\"Time (seconds)\"}},\"yaxis2\":{\"anchor\":\"x2\",\"domain\":[0.625,1.0],\"title\":{\"text\":\"Uncertainty\"}},\"xaxis3\":{\"anchor\":\"y3\",\"domain\":[0.55,1.0],\"title\":{\"text\":\"Time (seconds)\"}},\"yaxis3\":{\"anchor\":\"x3\",\"domain\":[0.0,0.375],\"title\":{\"text\":\"Uncertainty\"}},\"annotations\":[{\"font\":{\"size\":16},\"showarrow\":false,\"text\":\"Filter Performance\",\"x\":0.225,\"xanchor\":\"center\",\"xref\":\"paper\",\"y\":1.0,\"yanchor\":\"bottom\",\"yref\":\"paper\"},{\"font\":{\"size\":16},\"showarrow\":false,\"text\":\"Position Uncertainty\",\"x\":0.775,\"xanchor\":\"center\",\"xref\":\"paper\",\"y\":1.0,\"yanchor\":\"bottom\",\"yref\":\"paper\"},{\"font\":{\"size\":16},\"showarrow\":false,\"text\":\"Velocity Uncertainty\",\"x\":0.775,\"xanchor\":\"center\",\"xref\":\"paper\",\"y\":0.375,\"yanchor\":\"bottom\",\"yref\":\"paper\"}],\"margin\":{\"t\":30,\"b\":0,\"l\":0,\"r\":0},\"legend\":{\"orientation\":\"h\",\"yanchor\":\"bottom\",\"y\":-0.3,\"xanchor\":\"center\",\"x\":0.5,\"bgcolor\":\"white\",\"bordercolor\":\"black\",\"borderwidth\":2},\"width\":750,\"height\":500,\"showlegend\":true},                        {\"responsive\": true}                    ).then(function(){\n",
       "                            \n",
       "var gd = document.getElementById('d6c9db83-adb6-4e6c-8cff-810f52fb1ba5');\n",
       "var x = new MutationObserver(function (mutations, observer) {{\n",
       "        var display = window.getComputedStyle(gd).display;\n",
       "        if (!display || display === 'none') {{\n",
       "            console.log([gd, 'removed!']);\n",
       "            Plotly.purge(gd);\n",
       "            observer.disconnect();\n",
       "        }}\n",
       "}});\n",
       "\n",
       "// Listen for the removal of the full notebook cells\n",
       "var notebookContainer = gd.closest('#notebook-container');\n",
       "if (notebookContainer) {{\n",
       "    x.observe(notebookContainer, {childList: true});\n",
       "}}\n",
       "\n",
       "// Listen for the clearing of the current output cell\n",
       "var outputEl = gd.closest('.output');\n",
       "if (outputEl) {{\n",
       "    x.observe(outputEl, {childList: true});\n",
       "}}\n",
       "\n",
       "                        })                };                });            </script>        </div>"
      ]
     },
     "metadata": {},
     "output_type": "display_data"
    }
   ],
   "source": [
    "fig = straight_level_const_vel_missed_meas(meas_noise=25,process_noise=0.01,leg_pos=-0.3,height=500,width=750)\n",
    "fig.show()"
   ]
  },
  {
   "cell_type": "markdown",
   "id": "e9d7a150-6d31-413d-b533-c9802bb76bf8",
   "metadata": {},
   "source": [
    "As expected, the uncertainty of the predicted state increases until the next measurement is available for use. Now, a constant acceleration model will be used to track the same object using the same measurement and process noises."
   ]
  },
  {
   "cell_type": "code",
   "execution_count": 17,
   "id": "166ca26e-7a87-43c1-a42d-c5addf6a5e6a",
   "metadata": {
    "tags": []
   },
   "outputs": [
    {
     "data": {
      "application/vnd.plotly.v1+json": {
       "config": {
        "plotlyServerURL": "https://plot.ly"
       },
       "data": [
        {
         "line": {
          "color": "black",
          "width": 1
         },
         "mode": "lines",
         "name": "Truth",
         "showlegend": true,
         "type": "scatter",
         "x": [
          0,
          0.2,
          0.4,
          0.6000000000000001,
          0.8,
          1,
          1.2000000000000002,
          1.4,
          1.6,
          1.8,
          2,
          2.2,
          2.4000000000000004,
          2.6,
          2.8000000000000003,
          3,
          3.2,
          3.4000000000000004,
          3.6,
          3.8,
          4,
          4.2,
          4.4,
          4.6000000000000005,
          4.800000000000001,
          5,
          5.2,
          5.4,
          5.6000000000000005,
          5.800000000000001,
          6,
          6.2,
          6.4,
          6.6000000000000005,
          6.800000000000001,
          7,
          7.2,
          7.4,
          7.6,
          7.800000000000001,
          8,
          8.200000000000001,
          8.4,
          8.6,
          8.8,
          9,
          9.2,
          9.4,
          9.6,
          9.8,
          10,
          10.2,
          10.4,
          10.6,
          10.8,
          11,
          11.2,
          11.4,
          11.6,
          11.8,
          12,
          12.2,
          12.4,
          12.6,
          12.8,
          13,
          13.2,
          13.4,
          13.6,
          13.8,
          14,
          14.2,
          14.4,
          14.6,
          14.8,
          15,
          15.2,
          15.4,
          15.6,
          15.8,
          16,
          16.2,
          16.400000000000002,
          16.6,
          16.8,
          17,
          17.2,
          17.400000000000002,
          17.6,
          17.8,
          18,
          18.2,
          18.4,
          18.6,
          18.8,
          19,
          19.200000000000003,
          19.4,
          19.6,
          19.8,
          20,
          20.200000000000003,
          20.4,
          20.6,
          20.8,
          21,
          21.200000000000003,
          21.4,
          21.6,
          21.8,
          22,
          22.200000000000003,
          22.4,
          22.6,
          22.8,
          23,
          23.200000000000003,
          23.4,
          23.6,
          23.8,
          24,
          24.200000000000003,
          24.4,
          24.6,
          24.8,
          25,
          25.200000000000003,
          25.4,
          25.6,
          25.8,
          26,
          26.200000000000003,
          26.4,
          26.6,
          26.8,
          27,
          27.200000000000003,
          27.4,
          27.6,
          27.8,
          28,
          28.200000000000003,
          28.4,
          28.6,
          28.8,
          29,
          29.200000000000003,
          29.4,
          29.6,
          29.8,
          30,
          30.200000000000003,
          30.4,
          30.6,
          30.8,
          31,
          31.200000000000003,
          31.4,
          31.6,
          31.8,
          32,
          32.2,
          32.4,
          32.6,
          32.800000000000004,
          33,
          33.2,
          33.4,
          33.6,
          33.800000000000004,
          34,
          34.2,
          34.4,
          34.6,
          34.800000000000004,
          35,
          35.2,
          35.4,
          35.6,
          35.800000000000004,
          36,
          36.2,
          36.4,
          36.6,
          36.8,
          37,
          37.2,
          37.4,
          37.6,
          37.8,
          38,
          38.2,
          38.400000000000006,
          38.6,
          38.8,
          39,
          39.2,
          39.400000000000006,
          39.6,
          39.8,
          40,
          40.2,
          40.400000000000006,
          40.6,
          40.8,
          41,
          41.2,
          41.400000000000006,
          41.6,
          41.8,
          42
         ],
         "xaxis": "x",
         "y": [
          0,
          0.2,
          0.4,
          0.6000000000000001,
          0.8,
          1,
          1.2000000000000002,
          1.4,
          1.6,
          1.8,
          2,
          2.2,
          2.4000000000000004,
          2.6,
          2.8000000000000003,
          3,
          3.2,
          3.4000000000000004,
          3.6,
          3.8,
          4,
          4.2,
          4.4,
          4.6000000000000005,
          4.800000000000001,
          5,
          5.2,
          5.4,
          5.6000000000000005,
          5.800000000000001,
          6,
          6.2,
          6.4,
          6.6000000000000005,
          6.800000000000001,
          7,
          7.2,
          7.4,
          7.6,
          7.800000000000001,
          8,
          8.200000000000001,
          8.4,
          8.6,
          8.8,
          9,
          9.2,
          9.4,
          9.6,
          9.8,
          10,
          10.2,
          10.4,
          10.6,
          10.8,
          11,
          11.2,
          11.4,
          11.6,
          11.8,
          12,
          12.2,
          12.4,
          12.6,
          12.8,
          13,
          13.2,
          13.4,
          13.6,
          13.8,
          14,
          14.2,
          14.4,
          14.6,
          14.8,
          15,
          15.2,
          15.4,
          15.6,
          15.8,
          16,
          16.2,
          16.400000000000002,
          16.6,
          16.8,
          17,
          17.2,
          17.400000000000002,
          17.6,
          17.8,
          18,
          18.2,
          18.4,
          18.6,
          18.8,
          19,
          19.200000000000003,
          19.4,
          19.6,
          19.8,
          20,
          20.200000000000003,
          20.4,
          20.6,
          20.8,
          21,
          21.200000000000003,
          21.4,
          21.6,
          21.8,
          22,
          22.200000000000003,
          22.4,
          22.6,
          22.8,
          23,
          23.200000000000003,
          23.4,
          23.6,
          23.8,
          24,
          24.200000000000003,
          24.4,
          24.6,
          24.8,
          25,
          25.200000000000003,
          25.4,
          25.6,
          25.8,
          26,
          26.200000000000003,
          26.4,
          26.6,
          26.8,
          27,
          27.200000000000003,
          27.4,
          27.6,
          27.8,
          28,
          28.200000000000003,
          28.4,
          28.6,
          28.8,
          29,
          29.200000000000003,
          29.4,
          29.6,
          29.8,
          30,
          30.200000000000003,
          30.4,
          30.6,
          30.8,
          31,
          31.200000000000003,
          31.4,
          31.6,
          31.8,
          32,
          32.2,
          32.4,
          32.6,
          32.800000000000004,
          33,
          33.2,
          33.4,
          33.6,
          33.800000000000004,
          34,
          34.2,
          34.4,
          34.6,
          34.800000000000004,
          35,
          35.2,
          35.4,
          35.6,
          35.800000000000004,
          36,
          36.2,
          36.4,
          36.6,
          36.8,
          37,
          37.2,
          37.4,
          37.6,
          37.8,
          38,
          38.2,
          38.400000000000006,
          38.6,
          38.8,
          39,
          39.2,
          39.400000000000006,
          39.6,
          39.8,
          40,
          40.2,
          40.400000000000006,
          40.6,
          40.8,
          41,
          41.2,
          41.400000000000006,
          41.6,
          41.8,
          42
         ],
         "yaxis": "y"
        },
        {
         "marker": {
          "color": "red",
          "size": 8,
          "symbol": "square"
         },
         "mode": "markers",
         "name": "Measurements",
         "opacity": 0.6,
         "showlegend": true,
         "type": "scatter",
         "x": [
          -0.0854626827857501,
          1.7822414051213828,
          4.0912335113847496,
          6.033375054884168,
          8.322698456297777,
          9.748298518281024,
          11.983450496240886,
          14.208857584464068,
          14.562784633554426,
          18.481982469623517,
          19.438233970783003,
          22.17322566741221,
          24.38577754550994,
          25.57174080589179,
          28.410571126897356,
          30.312347648708457,
          31.816254712254647,
          33.943323272347804,
          36.20643968071292,
          37.81671319148808,
          39.839765792283465,
          41.63672548149419
         ],
         "xaxis": "x",
         "y": [
          0.4068906426926921,
          1.61010439892765,
          3.8962704339121017,
          5.410550209406374,
          7.436636509278692,
          10.490420444656367,
          13.070986231003715,
          13.678000160554552,
          16.522867020476966,
          17.851889340781028,
          19.88152469572311,
          22.80958929617197,
          23.98943440627872,
          24.700842966466833,
          27.667440285256355,
          30.360146646495444,
          31.51558205505583,
          34.70660616682223,
          36.02753490507313,
          37.98822681807464,
          39.47773294213718,
          41.81565150981578
         ],
         "yaxis": "y"
        },
        {
         "marker": {
          "color": "blue",
          "size": 8,
          "symbol": "circle"
         },
         "mode": "markers",
         "name": "Kalman Filter",
         "opacity": 0.6,
         "showlegend": true,
         "type": "scatter",
         "x": [
          4.0912335113847496,
          -1.3536779053509809,
          -10.215485575860543,
          7.038526918536464,
          15.215412730970506,
          16.508031224835733,
          14.833360333342526,
          17.379456666624176,
          19.169704396080814,
          22.04189400347254,
          24.51693526235126,
          25.778666603159436,
          28.258885643195505,
          30.33744162410233,
          31.881907890609142,
          33.876027871718705,
          36.16282553422961,
          37.89391028501774,
          39.820914558728596,
          41.63933718592653
         ],
         "xaxis": "x",
         "y": [
          3.8962704339121017,
          -0.7226715773105951,
          -8.65583853011366,
          7.830234067036676,
          16.001774369213756,
          16.013177553988776,
          16.382688624220602,
          17.232697010044262,
          19.4030658450739,
          22.65166062022371,
          24.28145679219329,
          24.872306669700478,
          27.39688326639311,
          30.304961737880692,
          31.73977132847652,
          34.56245342080225,
          36.16093759002019,
          37.95784714443615,
          39.478207264686866,
          41.71556841593705
         ],
         "yaxis": "y"
        },
        {
         "marker": {
          "color": "rgb(27,158,119)",
          "size": 8,
          "symbol": "diamond"
         },
         "mode": "markers",
         "name": "Uncertainty After Prediction",
         "opacity": 0.6,
         "showlegend": true,
         "type": "scatter",
         "x": [
          21,
          31,
          41,
          51,
          61,
          71,
          81,
          91,
          101,
          111,
          121,
          131,
          141,
          151,
          161,
          171,
          181,
          191,
          201,
          211
         ],
         "xaxis": "x2",
         "y": [
          1e-06,
          0.007601,
          13.050389450869199,
          136.2096333581875,
          150.17078292788642,
          171.6590822619471,
          183.20956011548236,
          183.27680554861973,
          184.6190201235101,
          185.17159319755962,
          185.18135153342664,
          185.21252170458558,
          185.22958778709562,
          185.2301416983211,
          185.2309070442308,
          185.2314475459277,
          185.23147640861362,
          185.2314938319149,
          185.2315103941372,
          185.23151170130933
         ],
         "yaxis": "y2"
        },
        {
         "marker": {
          "color": "rgb(217,95,2)",
          "size": 8,
          "symbol": "diamond"
         },
         "mode": "markers",
         "name": "Uncertainty After Measurement",
         "opacity": 0.6,
         "showlegend": true,
         "type": "scatter",
         "x": [
          21,
          31,
          41,
          51,
          61,
          71,
          81,
          91,
          101,
          111,
          121,
          131,
          141,
          151,
          161,
          171,
          181,
          191,
          201,
          211
         ],
         "xaxis": "x2",
         "y": [
          1e-06,
          0.007598112337406169,
          7.8972681821308965,
          17.43933846203452,
          17.64942022879739,
          17.912960892438658,
          18.031588672439014,
          18.032239837100704,
          18.0451475148373,
          18.050412370610974,
          18.050505092150956,
          18.050801205124213,
          18.050963292802795,
          18.05096855320608,
          18.05097582152286,
          18.05098095451241,
          18.0509812286123,
          18.050981394075897,
          18.050981551362074,
          18.05098156377587
         ],
         "yaxis": "y2"
        },
        {
         "marker": {
          "color": "rgb(27,158,119)",
          "size": 8,
          "symbol": "diamond"
         },
         "mode": "markers",
         "name": "Uncertainty After Prediction",
         "opacity": 0.6,
         "showlegend": false,
         "type": "scatter",
         "x": [
          21,
          31,
          41,
          51,
          61,
          71,
          81,
          91,
          101,
          111,
          121,
          131,
          141,
          151,
          161,
          171,
          181,
          191,
          201,
          211
         ],
         "xaxis": "x3",
         "y": [
          1e-06,
          0.0051010000000000005,
          0.510400949014377,
          1.7424356693130845,
          1.763242404380737,
          2.2044524081802903,
          2.316332123607882,
          2.321690541818618,
          2.3468110564090687,
          2.3527017010455644,
          2.3527396284558355,
          2.353384898064998,
          2.3535798244769306,
          2.3535807757120994,
          2.3535980665730643,
          2.353604644308618,
          2.35360472115173,
          2.3536051618320837,
          2.353605375826287,
          2.3536053811741375
         ],
         "yaxis": "y3"
        },
        {
         "marker": {
          "color": "rgb(217,95,2)",
          "size": 8,
          "symbol": "diamond"
         },
         "mode": "markers",
         "name": "Uncertainty After Prediction",
         "opacity": 0.6,
         "showlegend": false,
         "type": "scatter",
         "x": [
          21,
          31,
          41,
          51,
          61,
          71,
          81,
          91,
          101,
          111,
          121,
          131,
          141,
          151,
          161,
          171,
          181,
          191,
          201,
          211
         ],
         "xaxis": "x3",
         "y": [
          1e-06,
          0.005100986999940673,
          0.3130352190160196,
          0.3314479980873538,
          0.45180406598015854,
          0.5113497246763485,
          0.5118054096467444,
          0.5173444283897206,
          0.5197833072404958,
          0.5198319873355666,
          0.5199657549980066,
          0.5200424495298179,
          0.5200452283435796,
          0.5200484519652298,
          0.5200508599037685,
          0.5200509996273784,
          0.5200510722734901,
          0.5200511457723366,
          0.5200511519841549,
          0.5200511535101436
         ],
         "yaxis": "y3"
        }
       ],
       "layout": {
        "annotations": [
         {
          "font": {
           "size": 16
          },
          "showarrow": false,
          "text": "Filter Performance",
          "x": 0.225,
          "xanchor": "center",
          "xref": "paper",
          "y": 1,
          "yanchor": "bottom",
          "yref": "paper"
         },
         {
          "font": {
           "size": 16
          },
          "showarrow": false,
          "text": "Position Uncertainty",
          "x": 0.775,
          "xanchor": "center",
          "xref": "paper",
          "y": 1,
          "yanchor": "bottom",
          "yref": "paper"
         },
         {
          "font": {
           "size": 16
          },
          "showarrow": false,
          "text": "Velocity Uncertainty",
          "x": 0.775,
          "xanchor": "center",
          "xref": "paper",
          "y": 0.375,
          "yanchor": "bottom",
          "yref": "paper"
         }
        ],
        "height": 500,
        "legend": {
         "bgcolor": "white",
         "bordercolor": "black",
         "borderwidth": 2,
         "orientation": "h",
         "x": 0.5,
         "xanchor": "center",
         "y": -0.3,
         "yanchor": "bottom"
        },
        "margin": {
         "b": 0,
         "l": 0,
         "r": 0,
         "t": 30
        },
        "showlegend": true,
        "template": {
         "data": {
          "bar": [
           {
            "error_x": {
             "color": "#2a3f5f"
            },
            "error_y": {
             "color": "#2a3f5f"
            },
            "marker": {
             "line": {
              "color": "#E5ECF6",
              "width": 0.5
             },
             "pattern": {
              "fillmode": "overlay",
              "size": 10,
              "solidity": 0.2
             }
            },
            "type": "bar"
           }
          ],
          "barpolar": [
           {
            "marker": {
             "line": {
              "color": "#E5ECF6",
              "width": 0.5
             },
             "pattern": {
              "fillmode": "overlay",
              "size": 10,
              "solidity": 0.2
             }
            },
            "type": "barpolar"
           }
          ],
          "carpet": [
           {
            "aaxis": {
             "endlinecolor": "#2a3f5f",
             "gridcolor": "white",
             "linecolor": "white",
             "minorgridcolor": "white",
             "startlinecolor": "#2a3f5f"
            },
            "baxis": {
             "endlinecolor": "#2a3f5f",
             "gridcolor": "white",
             "linecolor": "white",
             "minorgridcolor": "white",
             "startlinecolor": "#2a3f5f"
            },
            "type": "carpet"
           }
          ],
          "choropleth": [
           {
            "colorbar": {
             "outlinewidth": 0,
             "ticks": ""
            },
            "type": "choropleth"
           }
          ],
          "contour": [
           {
            "colorbar": {
             "outlinewidth": 0,
             "ticks": ""
            },
            "colorscale": [
             [
              0,
              "#0d0887"
             ],
             [
              0.1111111111111111,
              "#46039f"
             ],
             [
              0.2222222222222222,
              "#7201a8"
             ],
             [
              0.3333333333333333,
              "#9c179e"
             ],
             [
              0.4444444444444444,
              "#bd3786"
             ],
             [
              0.5555555555555556,
              "#d8576b"
             ],
             [
              0.6666666666666666,
              "#ed7953"
             ],
             [
              0.7777777777777778,
              "#fb9f3a"
             ],
             [
              0.8888888888888888,
              "#fdca26"
             ],
             [
              1,
              "#f0f921"
             ]
            ],
            "type": "contour"
           }
          ],
          "contourcarpet": [
           {
            "colorbar": {
             "outlinewidth": 0,
             "ticks": ""
            },
            "type": "contourcarpet"
           }
          ],
          "heatmap": [
           {
            "colorbar": {
             "outlinewidth": 0,
             "ticks": ""
            },
            "colorscale": [
             [
              0,
              "#0d0887"
             ],
             [
              0.1111111111111111,
              "#46039f"
             ],
             [
              0.2222222222222222,
              "#7201a8"
             ],
             [
              0.3333333333333333,
              "#9c179e"
             ],
             [
              0.4444444444444444,
              "#bd3786"
             ],
             [
              0.5555555555555556,
              "#d8576b"
             ],
             [
              0.6666666666666666,
              "#ed7953"
             ],
             [
              0.7777777777777778,
              "#fb9f3a"
             ],
             [
              0.8888888888888888,
              "#fdca26"
             ],
             [
              1,
              "#f0f921"
             ]
            ],
            "type": "heatmap"
           }
          ],
          "heatmapgl": [
           {
            "colorbar": {
             "outlinewidth": 0,
             "ticks": ""
            },
            "colorscale": [
             [
              0,
              "#0d0887"
             ],
             [
              0.1111111111111111,
              "#46039f"
             ],
             [
              0.2222222222222222,
              "#7201a8"
             ],
             [
              0.3333333333333333,
              "#9c179e"
             ],
             [
              0.4444444444444444,
              "#bd3786"
             ],
             [
              0.5555555555555556,
              "#d8576b"
             ],
             [
              0.6666666666666666,
              "#ed7953"
             ],
             [
              0.7777777777777778,
              "#fb9f3a"
             ],
             [
              0.8888888888888888,
              "#fdca26"
             ],
             [
              1,
              "#f0f921"
             ]
            ],
            "type": "heatmapgl"
           }
          ],
          "histogram": [
           {
            "marker": {
             "pattern": {
              "fillmode": "overlay",
              "size": 10,
              "solidity": 0.2
             }
            },
            "type": "histogram"
           }
          ],
          "histogram2d": [
           {
            "colorbar": {
             "outlinewidth": 0,
             "ticks": ""
            },
            "colorscale": [
             [
              0,
              "#0d0887"
             ],
             [
              0.1111111111111111,
              "#46039f"
             ],
             [
              0.2222222222222222,
              "#7201a8"
             ],
             [
              0.3333333333333333,
              "#9c179e"
             ],
             [
              0.4444444444444444,
              "#bd3786"
             ],
             [
              0.5555555555555556,
              "#d8576b"
             ],
             [
              0.6666666666666666,
              "#ed7953"
             ],
             [
              0.7777777777777778,
              "#fb9f3a"
             ],
             [
              0.8888888888888888,
              "#fdca26"
             ],
             [
              1,
              "#f0f921"
             ]
            ],
            "type": "histogram2d"
           }
          ],
          "histogram2dcontour": [
           {
            "colorbar": {
             "outlinewidth": 0,
             "ticks": ""
            },
            "colorscale": [
             [
              0,
              "#0d0887"
             ],
             [
              0.1111111111111111,
              "#46039f"
             ],
             [
              0.2222222222222222,
              "#7201a8"
             ],
             [
              0.3333333333333333,
              "#9c179e"
             ],
             [
              0.4444444444444444,
              "#bd3786"
             ],
             [
              0.5555555555555556,
              "#d8576b"
             ],
             [
              0.6666666666666666,
              "#ed7953"
             ],
             [
              0.7777777777777778,
              "#fb9f3a"
             ],
             [
              0.8888888888888888,
              "#fdca26"
             ],
             [
              1,
              "#f0f921"
             ]
            ],
            "type": "histogram2dcontour"
           }
          ],
          "mesh3d": [
           {
            "colorbar": {
             "outlinewidth": 0,
             "ticks": ""
            },
            "type": "mesh3d"
           }
          ],
          "parcoords": [
           {
            "line": {
             "colorbar": {
              "outlinewidth": 0,
              "ticks": ""
             }
            },
            "type": "parcoords"
           }
          ],
          "pie": [
           {
            "automargin": true,
            "type": "pie"
           }
          ],
          "scatter": [
           {
            "fillpattern": {
             "fillmode": "overlay",
             "size": 10,
             "solidity": 0.2
            },
            "type": "scatter"
           }
          ],
          "scatter3d": [
           {
            "line": {
             "colorbar": {
              "outlinewidth": 0,
              "ticks": ""
             }
            },
            "marker": {
             "colorbar": {
              "outlinewidth": 0,
              "ticks": ""
             }
            },
            "type": "scatter3d"
           }
          ],
          "scattercarpet": [
           {
            "marker": {
             "colorbar": {
              "outlinewidth": 0,
              "ticks": ""
             }
            },
            "type": "scattercarpet"
           }
          ],
          "scattergeo": [
           {
            "marker": {
             "colorbar": {
              "outlinewidth": 0,
              "ticks": ""
             }
            },
            "type": "scattergeo"
           }
          ],
          "scattergl": [
           {
            "marker": {
             "colorbar": {
              "outlinewidth": 0,
              "ticks": ""
             }
            },
            "type": "scattergl"
           }
          ],
          "scattermapbox": [
           {
            "marker": {
             "colorbar": {
              "outlinewidth": 0,
              "ticks": ""
             }
            },
            "type": "scattermapbox"
           }
          ],
          "scatterpolar": [
           {
            "marker": {
             "colorbar": {
              "outlinewidth": 0,
              "ticks": ""
             }
            },
            "type": "scatterpolar"
           }
          ],
          "scatterpolargl": [
           {
            "marker": {
             "colorbar": {
              "outlinewidth": 0,
              "ticks": ""
             }
            },
            "type": "scatterpolargl"
           }
          ],
          "scatterternary": [
           {
            "marker": {
             "colorbar": {
              "outlinewidth": 0,
              "ticks": ""
             }
            },
            "type": "scatterternary"
           }
          ],
          "surface": [
           {
            "colorbar": {
             "outlinewidth": 0,
             "ticks": ""
            },
            "colorscale": [
             [
              0,
              "#0d0887"
             ],
             [
              0.1111111111111111,
              "#46039f"
             ],
             [
              0.2222222222222222,
              "#7201a8"
             ],
             [
              0.3333333333333333,
              "#9c179e"
             ],
             [
              0.4444444444444444,
              "#bd3786"
             ],
             [
              0.5555555555555556,
              "#d8576b"
             ],
             [
              0.6666666666666666,
              "#ed7953"
             ],
             [
              0.7777777777777778,
              "#fb9f3a"
             ],
             [
              0.8888888888888888,
              "#fdca26"
             ],
             [
              1,
              "#f0f921"
             ]
            ],
            "type": "surface"
           }
          ],
          "table": [
           {
            "cells": {
             "fill": {
              "color": "#EBF0F8"
             },
             "line": {
              "color": "white"
             }
            },
            "header": {
             "fill": {
              "color": "#C8D4E3"
             },
             "line": {
              "color": "white"
             }
            },
            "type": "table"
           }
          ]
         },
         "layout": {
          "annotationdefaults": {
           "arrowcolor": "#2a3f5f",
           "arrowhead": 0,
           "arrowwidth": 1
          },
          "autotypenumbers": "strict",
          "coloraxis": {
           "colorbar": {
            "outlinewidth": 0,
            "ticks": ""
           }
          },
          "colorscale": {
           "diverging": [
            [
             0,
             "#8e0152"
            ],
            [
             0.1,
             "#c51b7d"
            ],
            [
             0.2,
             "#de77ae"
            ],
            [
             0.3,
             "#f1b6da"
            ],
            [
             0.4,
             "#fde0ef"
            ],
            [
             0.5,
             "#f7f7f7"
            ],
            [
             0.6,
             "#e6f5d0"
            ],
            [
             0.7,
             "#b8e186"
            ],
            [
             0.8,
             "#7fbc41"
            ],
            [
             0.9,
             "#4d9221"
            ],
            [
             1,
             "#276419"
            ]
           ],
           "sequential": [
            [
             0,
             "#0d0887"
            ],
            [
             0.1111111111111111,
             "#46039f"
            ],
            [
             0.2222222222222222,
             "#7201a8"
            ],
            [
             0.3333333333333333,
             "#9c179e"
            ],
            [
             0.4444444444444444,
             "#bd3786"
            ],
            [
             0.5555555555555556,
             "#d8576b"
            ],
            [
             0.6666666666666666,
             "#ed7953"
            ],
            [
             0.7777777777777778,
             "#fb9f3a"
            ],
            [
             0.8888888888888888,
             "#fdca26"
            ],
            [
             1,
             "#f0f921"
            ]
           ],
           "sequentialminus": [
            [
             0,
             "#0d0887"
            ],
            [
             0.1111111111111111,
             "#46039f"
            ],
            [
             0.2222222222222222,
             "#7201a8"
            ],
            [
             0.3333333333333333,
             "#9c179e"
            ],
            [
             0.4444444444444444,
             "#bd3786"
            ],
            [
             0.5555555555555556,
             "#d8576b"
            ],
            [
             0.6666666666666666,
             "#ed7953"
            ],
            [
             0.7777777777777778,
             "#fb9f3a"
            ],
            [
             0.8888888888888888,
             "#fdca26"
            ],
            [
             1,
             "#f0f921"
            ]
           ]
          },
          "colorway": [
           "#636efa",
           "#EF553B",
           "#00cc96",
           "#ab63fa",
           "#FFA15A",
           "#19d3f3",
           "#FF6692",
           "#B6E880",
           "#FF97FF",
           "#FECB52"
          ],
          "font": {
           "color": "#2a3f5f"
          },
          "geo": {
           "bgcolor": "white",
           "lakecolor": "white",
           "landcolor": "#E5ECF6",
           "showlakes": true,
           "showland": true,
           "subunitcolor": "white"
          },
          "hoverlabel": {
           "align": "left"
          },
          "hovermode": "closest",
          "mapbox": {
           "style": "light"
          },
          "paper_bgcolor": "white",
          "plot_bgcolor": "#E5ECF6",
          "polar": {
           "angularaxis": {
            "gridcolor": "white",
            "linecolor": "white",
            "ticks": ""
           },
           "bgcolor": "#E5ECF6",
           "radialaxis": {
            "gridcolor": "white",
            "linecolor": "white",
            "ticks": ""
           }
          },
          "scene": {
           "xaxis": {
            "backgroundcolor": "#E5ECF6",
            "gridcolor": "white",
            "gridwidth": 2,
            "linecolor": "white",
            "showbackground": true,
            "ticks": "",
            "zerolinecolor": "white"
           },
           "yaxis": {
            "backgroundcolor": "#E5ECF6",
            "gridcolor": "white",
            "gridwidth": 2,
            "linecolor": "white",
            "showbackground": true,
            "ticks": "",
            "zerolinecolor": "white"
           },
           "zaxis": {
            "backgroundcolor": "#E5ECF6",
            "gridcolor": "white",
            "gridwidth": 2,
            "linecolor": "white",
            "showbackground": true,
            "ticks": "",
            "zerolinecolor": "white"
           }
          },
          "shapedefaults": {
           "line": {
            "color": "#2a3f5f"
           }
          },
          "ternary": {
           "aaxis": {
            "gridcolor": "white",
            "linecolor": "white",
            "ticks": ""
           },
           "baxis": {
            "gridcolor": "white",
            "linecolor": "white",
            "ticks": ""
           },
           "bgcolor": "#E5ECF6",
           "caxis": {
            "gridcolor": "white",
            "linecolor": "white",
            "ticks": ""
           }
          },
          "title": {
           "x": 0.05
          },
          "xaxis": {
           "automargin": true,
           "gridcolor": "white",
           "linecolor": "white",
           "ticks": "",
           "title": {
            "standoff": 15
           },
           "zerolinecolor": "white",
           "zerolinewidth": 2
          },
          "yaxis": {
           "automargin": true,
           "gridcolor": "white",
           "linecolor": "white",
           "ticks": "",
           "title": {
            "standoff": 15
           },
           "zerolinecolor": "white",
           "zerolinewidth": 2
          }
         }
        },
        "width": 750,
        "xaxis": {
         "anchor": "y",
         "autorange": true,
         "domain": [
          0,
          0.45
         ],
         "range": [
          -14.15118867842537,
          45.57504028849136
         ],
         "title": {
          "text": "x position"
         },
         "type": "linear"
        },
        "xaxis2": {
         "anchor": "y2",
         "autorange": true,
         "domain": [
          0.55,
          1
         ],
         "range": [
          6.579285596587264,
          225.42071440341275
         ],
         "title": {
          "text": "Time (seconds)"
         },
         "type": "linear"
        },
        "xaxis3": {
         "anchor": "y3",
         "autorange": true,
         "domain": [
          0.55,
          1
         ],
         "range": [
          6.579285596587264,
          225.42071440341275
         ],
         "title": {
          "text": "Time (seconds)"
         },
         "type": "linear"
        },
        "yaxis": {
         "anchor": "x",
         "autorange": true,
         "domain": [
          0,
          1
         ],
         "range": [
          -12.347704964320027,
          45.50751794402215
         ],
         "title": {
          "text": "y position"
         },
         "type": "linear"
        },
        "yaxis2": {
         "anchor": "x2",
         "autorange": true,
         "domain": [
          0.625,
          1
         ],
         "range": [
          -19.464375486665332,
          204.69588818797467
         ],
         "title": {
          "text": "Uncertainty"
         },
         "type": "linear"
        },
        "yaxis3": {
         "anchor": "x3",
         "autorange": true,
         "domain": [
          0,
          0.375
         ],
         "range": [
          -0.2473189165864956,
          2.600925297760633
         ],
         "title": {
          "text": "Uncertainty"
         },
         "type": "linear"
        }
       }
      },
      "image/png": "[encoded data removed]",
      "text/html": [
       "<div>                            <div id=\"c48550e7-e5df-49ca-9c9f-b1754f47d004\" class=\"plotly-graph-div\" style=\"height:500px; width:750px;\"></div>            <script type=\"text/javascript\">                require([\"plotly\"], function(Plotly) {                    window.PLOTLYENV=window.PLOTLYENV || {};                                    if (document.getElementById(\"c48550e7-e5df-49ca-9c9f-b1754f47d004\")) {                    Plotly.newPlot(                        \"c48550e7-e5df-49ca-9c9f-b1754f47d004\",                        [{\"line\":{\"color\":\"black\",\"width\":1},\"mode\":\"lines\",\"name\":\"Truth\",\"showlegend\":true,\"x\":[0.0,0.2,0.4,0.6000000000000001,0.8,1.0,1.2000000000000002,1.4,1.6,1.8,2.0,2.2,2.4000000000000004,2.6,2.8000000000000003,3.0,3.2,3.4000000000000004,3.6,3.8,4.0,4.2,4.4,4.6000000000000005,4.800000000000001,5.0,5.2,5.4,5.6000000000000005,5.800000000000001,6.0,6.2,6.4,6.6000000000000005,6.800000000000001,7.0,7.2,7.4,7.6,7.800000000000001,8.0,8.200000000000001,8.4,8.6,8.8,9.0,9.2,9.4,9.6,9.8,10.0,10.2,10.4,10.6,10.8,11.0,11.2,11.4,11.6,11.8,12.0,12.2,12.4,12.6,12.8,13.0,13.2,13.4,13.6,13.8,14.0,14.2,14.4,14.6,14.8,15.0,15.2,15.4,15.6,15.8,16.0,16.2,16.400000000000002,16.6,16.8,17.0,17.2,17.400000000000002,17.6,17.8,18.0,18.2,18.4,18.6,18.8,19.0,19.200000000000003,19.4,19.6,19.8,20.0,20.200000000000003,20.4,20.6,20.8,21.0,21.200000000000003,21.4,21.6,21.8,22.0,22.200000000000003,22.4,22.6,22.8,23.0,23.200000000000003,23.4,23.6,23.8,24.0,24.200000000000003,24.4,24.6,24.8,25.0,25.200000000000003,25.4,25.6,25.8,26.0,26.200000000000003,26.4,26.6,26.8,27.0,27.200000000000003,27.4,27.6,27.8,28.0,28.200000000000003,28.4,28.6,28.8,29.0,29.200000000000003,29.4,29.6,29.8,30.0,30.200000000000003,30.4,30.6,30.8,31.0,31.200000000000003,31.4,31.6,31.8,32.0,32.2,32.4,32.6,32.800000000000004,33.0,33.2,33.4,33.6,33.800000000000004,34.0,34.2,34.4,34.6,34.800000000000004,35.0,35.2,35.4,35.6,35.800000000000004,36.0,36.2,36.4,36.6,36.8,37.0,37.2,37.4,37.6,37.8,38.0,38.2,38.400000000000006,38.6,38.8,39.0,39.2,39.400000000000006,39.6,39.8,40.0,40.2,40.400000000000006,40.6,40.8,41.0,41.2,41.400000000000006,41.6,41.8,42.0],\"y\":[0.0,0.2,0.4,0.6000000000000001,0.8,1.0,1.2000000000000002,1.4,1.6,1.8,2.0,2.2,2.4000000000000004,2.6,2.8000000000000003,3.0,3.2,3.4000000000000004,3.6,3.8,4.0,4.2,4.4,4.6000000000000005,4.800000000000001,5.0,5.2,5.4,5.6000000000000005,5.800000000000001,6.0,6.2,6.4,6.6000000000000005,6.800000000000001,7.0,7.2,7.4,7.6,7.800000000000001,8.0,8.200000000000001,8.4,8.6,8.8,9.0,9.2,9.4,9.6,9.8,10.0,10.2,10.4,10.6,10.8,11.0,11.2,11.4,11.6,11.8,12.0,12.2,12.4,12.6,12.8,13.0,13.2,13.4,13.6,13.8,14.0,14.2,14.4,14.6,14.8,15.0,15.2,15.4,15.6,15.8,16.0,16.2,16.400000000000002,16.6,16.8,17.0,17.2,17.400000000000002,17.6,17.8,18.0,18.2,18.4,18.6,18.8,19.0,19.200000000000003,19.4,19.6,19.8,20.0,20.200000000000003,20.4,20.6,20.8,21.0,21.200000000000003,21.4,21.6,21.8,22.0,22.200000000000003,22.4,22.6,22.8,23.0,23.200000000000003,23.4,23.6,23.8,24.0,24.200000000000003,24.4,24.6,24.8,25.0,25.200000000000003,25.4,25.6,25.8,26.0,26.200000000000003,26.4,26.6,26.8,27.0,27.200000000000003,27.4,27.6,27.8,28.0,28.200000000000003,28.4,28.6,28.8,29.0,29.200000000000003,29.4,29.6,29.8,30.0,30.200000000000003,30.4,30.6,30.8,31.0,31.200000000000003,31.4,31.6,31.8,32.0,32.2,32.4,32.6,32.800000000000004,33.0,33.2,33.4,33.6,33.800000000000004,34.0,34.2,34.4,34.6,34.800000000000004,35.0,35.2,35.4,35.6,35.800000000000004,36.0,36.2,36.4,36.6,36.8,37.0,37.2,37.4,37.6,37.8,38.0,38.2,38.400000000000006,38.6,38.8,39.0,39.2,39.400000000000006,39.6,39.8,40.0,40.2,40.400000000000006,40.6,40.8,41.0,41.2,41.400000000000006,41.6,41.8,42.0],\"type\":\"scatter\",\"xaxis\":\"x\",\"yaxis\":\"y\"},{\"marker\":{\"color\":\"red\",\"size\":8,\"symbol\":\"square\"},\"mode\":\"markers\",\"name\":\"Measurements\",\"opacity\":0.6,\"showlegend\":true,\"x\":[-0.0854626827857501,1.7822414051213828,4.0912335113847496,6.033375054884168,8.322698456297777,9.748298518281024,11.983450496240886,14.208857584464068,14.562784633554426,18.481982469623517,19.438233970783003,22.17322566741221,24.38577754550994,25.57174080589179,28.410571126897356,30.312347648708457,31.816254712254647,33.943323272347804,36.20643968071292,37.81671319148808,39.839765792283465,41.63672548149419],\"y\":[0.4068906426926921,1.61010439892765,3.8962704339121017,5.410550209406374,7.436636509278692,10.490420444656367,13.070986231003715,13.678000160554552,16.522867020476966,17.851889340781028,19.88152469572311,22.80958929617197,23.98943440627872,24.700842966466833,27.667440285256355,30.360146646495444,31.51558205505583,34.70660616682223,36.02753490507313,37.98822681807464,39.47773294213718,41.81565150981578],\"type\":\"scatter\",\"xaxis\":\"x\",\"yaxis\":\"y\"},{\"marker\":{\"color\":\"blue\",\"size\":8,\"symbol\":\"circle\"},\"mode\":\"markers\",\"name\":\"Kalman Filter\",\"opacity\":0.6,\"showlegend\":true,\"x\":[4.0912335113847496,-1.3536779053509809,-10.215485575860543,7.038526918536464,15.215412730970506,16.508031224835733,14.833360333342526,17.379456666624176,19.169704396080814,22.04189400347254,24.51693526235126,25.778666603159436,28.258885643195505,30.33744162410233,31.881907890609142,33.876027871718705,36.16282553422961,37.89391028501774,39.820914558728596,41.63933718592653],\"y\":[3.8962704339121017,-0.7226715773105951,-8.65583853011366,7.830234067036676,16.001774369213756,16.013177553988776,16.382688624220602,17.232697010044262,19.4030658450739,22.65166062022371,24.28145679219329,24.872306669700478,27.39688326639311,30.304961737880692,31.73977132847652,34.56245342080225,36.16093759002019,37.95784714443615,39.478207264686866,41.71556841593705],\"type\":\"scatter\",\"xaxis\":\"x\",\"yaxis\":\"y\"},{\"marker\":{\"color\":\"rgb(27,158,119)\",\"size\":8,\"symbol\":\"diamond\"},\"mode\":\"markers\",\"name\":\"Uncertainty After Prediction\",\"opacity\":0.6,\"showlegend\":true,\"x\":[21,31,41,51,61,71,81,91,101,111,121,131,141,151,161,171,181,191,201,211],\"y\":[1e-06,0.007601,13.050389450869199,136.2096333581875,150.17078292788642,171.6590822619471,183.20956011548236,183.27680554861973,184.6190201235101,185.17159319755962,185.18135153342664,185.21252170458558,185.22958778709562,185.2301416983211,185.2309070442308,185.2314475459277,185.23147640861362,185.2314938319149,185.2315103941372,185.23151170130933],\"type\":\"scatter\",\"xaxis\":\"x2\",\"yaxis\":\"y2\"},{\"marker\":{\"color\":\"rgb(217,95,2)\",\"size\":8,\"symbol\":\"diamond\"},\"mode\":\"markers\",\"name\":\"Uncertainty After Measurement\",\"opacity\":0.6,\"showlegend\":true,\"x\":[21,31,41,51,61,71,81,91,101,111,121,131,141,151,161,171,181,191,201,211],\"y\":[1e-06,0.007598112337406169,7.8972681821308965,17.43933846203452,17.64942022879739,17.912960892438658,18.031588672439014,18.032239837100704,18.0451475148373,18.050412370610974,18.050505092150956,18.050801205124213,18.050963292802795,18.05096855320608,18.05097582152286,18.05098095451241,18.0509812286123,18.050981394075897,18.050981551362074,18.05098156377587],\"type\":\"scatter\",\"xaxis\":\"x2\",\"yaxis\":\"y2\"},{\"marker\":{\"color\":\"rgb(27,158,119)\",\"size\":8,\"symbol\":\"diamond\"},\"mode\":\"markers\",\"name\":\"Uncertainty After Prediction\",\"opacity\":0.6,\"showlegend\":false,\"x\":[21,31,41,51,61,71,81,91,101,111,121,131,141,151,161,171,181,191,201,211],\"y\":[1e-06,0.0051010000000000005,0.510400949014377,1.7424356693130845,1.763242404380737,2.2044524081802903,2.316332123607882,2.321690541818618,2.3468110564090687,2.3527017010455644,2.3527396284558355,2.353384898064998,2.3535798244769306,2.3535807757120994,2.3535980665730643,2.353604644308618,2.35360472115173,2.3536051618320837,2.353605375826287,2.3536053811741375],\"type\":\"scatter\",\"xaxis\":\"x3\",\"yaxis\":\"y3\"},{\"marker\":{\"color\":\"rgb(217,95,2)\",\"size\":8,\"symbol\":\"diamond\"},\"mode\":\"markers\",\"name\":\"Uncertainty After Prediction\",\"opacity\":0.6,\"showlegend\":false,\"x\":[21,31,41,51,61,71,81,91,101,111,121,131,141,151,161,171,181,191,201,211],\"y\":[1e-06,0.005100986999940673,0.3130352190160196,0.3314479980873538,0.45180406598015854,0.5113497246763485,0.5118054096467444,0.5173444283897206,0.5197833072404958,0.5198319873355666,0.5199657549980066,0.5200424495298179,0.5200452283435796,0.5200484519652298,0.5200508599037685,0.5200509996273784,0.5200510722734901,0.5200511457723366,0.5200511519841549,0.5200511535101436],\"type\":\"scatter\",\"xaxis\":\"x3\",\"yaxis\":\"y3\"}],                        {\"template\":{\"data\":{\"histogram2dcontour\":[{\"type\":\"histogram2dcontour\",\"colorbar\":{\"outlinewidth\":0,\"ticks\":\"\"},\"colorscale\":[[0.0,\"#0d0887\"],[0.1111111111111111,\"#46039f\"],[0.2222222222222222,\"#7201a8\"],[0.3333333333333333,\"#9c179e\"],[0.4444444444444444,\"#bd3786\"],[0.5555555555555556,\"#d8576b\"],[0.6666666666666666,\"#ed7953\"],[0.7777777777777778,\"#fb9f3a\"],[0.8888888888888888,\"#fdca26\"],[1.0,\"#f0f921\"]]}],\"choropleth\":[{\"type\":\"choropleth\",\"colorbar\":{\"outlinewidth\":0,\"ticks\":\"\"}}],\"histogram2d\":[{\"type\":\"histogram2d\",\"colorbar\":{\"outlinewidth\":0,\"ticks\":\"\"},\"colorscale\":[[0.0,\"#0d0887\"],[0.1111111111111111,\"#46039f\"],[0.2222222222222222,\"#7201a8\"],[0.3333333333333333,\"#9c179e\"],[0.4444444444444444,\"#bd3786\"],[0.5555555555555556,\"#d8576b\"],[0.6666666666666666,\"#ed7953\"],[0.7777777777777778,\"#fb9f3a\"],[0.8888888888888888,\"#fdca26\"],[1.0,\"#f0f921\"]]}],\"heatmap\":[{\"type\":\"heatmap\",\"colorbar\":{\"outlinewidth\":0,\"ticks\":\"\"},\"colorscale\":[[0.0,\"#0d0887\"],[0.1111111111111111,\"#46039f\"],[0.2222222222222222,\"#7201a8\"],[0.3333333333333333,\"#9c179e\"],[0.4444444444444444,\"#bd3786\"],[0.5555555555555556,\"#d8576b\"],[0.6666666666666666,\"#ed7953\"],[0.7777777777777778,\"#fb9f3a\"],[0.8888888888888888,\"#fdca26\"],[1.0,\"#f0f921\"]]}],\"heatmapgl\":[{\"type\":\"heatmapgl\",\"colorbar\":{\"outlinewidth\":0,\"ticks\":\"\"},\"colorscale\":[[0.0,\"#0d0887\"],[0.1111111111111111,\"#46039f\"],[0.2222222222222222,\"#7201a8\"],[0.3333333333333333,\"#9c179e\"],[0.4444444444444444,\"#bd3786\"],[0.5555555555555556,\"#d8576b\"],[0.6666666666666666,\"#ed7953\"],[0.7777777777777778,\"#fb9f3a\"],[0.8888888888888888,\"#fdca26\"],[1.0,\"#f0f921\"]]}],\"contourcarpet\":[{\"type\":\"contourcarpet\",\"colorbar\":{\"outlinewidth\":0,\"ticks\":\"\"}}],\"contour\":[{\"type\":\"contour\",\"colorbar\":{\"outlinewidth\":0,\"ticks\":\"\"},\"colorscale\":[[0.0,\"#0d0887\"],[0.1111111111111111,\"#46039f\"],[0.2222222222222222,\"#7201a8\"],[0.3333333333333333,\"#9c179e\"],[0.4444444444444444,\"#bd3786\"],[0.5555555555555556,\"#d8576b\"],[0.6666666666666666,\"#ed7953\"],[0.7777777777777778,\"#fb9f3a\"],[0.8888888888888888,\"#fdca26\"],[1.0,\"#f0f921\"]]}],\"surface\":[{\"type\":\"surface\",\"colorbar\":{\"outlinewidth\":0,\"ticks\":\"\"},\"colorscale\":[[0.0,\"#0d0887\"],[0.1111111111111111,\"#46039f\"],[0.2222222222222222,\"#7201a8\"],[0.3333333333333333,\"#9c179e\"],[0.4444444444444444,\"#bd3786\"],[0.5555555555555556,\"#d8576b\"],[0.6666666666666666,\"#ed7953\"],[0.7777777777777778,\"#fb9f3a\"],[0.8888888888888888,\"#fdca26\"],[1.0,\"#f0f921\"]]}],\"mesh3d\":[{\"type\":\"mesh3d\",\"colorbar\":{\"outlinewidth\":0,\"ticks\":\"\"}}],\"scatter\":[{\"fillpattern\":{\"fillmode\":\"overlay\",\"size\":10,\"solidity\":0.2},\"type\":\"scatter\"}],\"parcoords\":[{\"type\":\"parcoords\",\"line\":{\"colorbar\":{\"outlinewidth\":0,\"ticks\":\"\"}}}],\"scatterpolargl\":[{\"type\":\"scatterpolargl\",\"marker\":{\"colorbar\":{\"outlinewidth\":0,\"ticks\":\"\"}}}],\"bar\":[{\"error_x\":{\"color\":\"#2a3f5f\"},\"error_y\":{\"color\":\"#2a3f5f\"},\"marker\":{\"line\":{\"color\":\"#E5ECF6\",\"width\":0.5},\"pattern\":{\"fillmode\":\"overlay\",\"size\":10,\"solidity\":0.2}},\"type\":\"bar\"}],\"scattergeo\":[{\"type\":\"scattergeo\",\"marker\":{\"colorbar\":{\"outlinewidth\":0,\"ticks\":\"\"}}}],\"scatterpolar\":[{\"type\":\"scatterpolar\",\"marker\":{\"colorbar\":{\"outlinewidth\":0,\"ticks\":\"\"}}}],\"histogram\":[{\"marker\":{\"pattern\":{\"fillmode\":\"overlay\",\"size\":10,\"solidity\":0.2}},\"type\":\"histogram\"}],\"scattergl\":[{\"type\":\"scattergl\",\"marker\":{\"colorbar\":{\"outlinewidth\":0,\"ticks\":\"\"}}}],\"scatter3d\":[{\"type\":\"scatter3d\",\"line\":{\"colorbar\":{\"outlinewidth\":0,\"ticks\":\"\"}},\"marker\":{\"colorbar\":{\"outlinewidth\":0,\"ticks\":\"\"}}}],\"scattermapbox\":[{\"type\":\"scattermapbox\",\"marker\":{\"colorbar\":{\"outlinewidth\":0,\"ticks\":\"\"}}}],\"scatterternary\":[{\"type\":\"scatterternary\",\"marker\":{\"colorbar\":{\"outlinewidth\":0,\"ticks\":\"\"}}}],\"scattercarpet\":[{\"type\":\"scattercarpet\",\"marker\":{\"colorbar\":{\"outlinewidth\":0,\"ticks\":\"\"}}}],\"carpet\":[{\"aaxis\":{\"endlinecolor\":\"#2a3f5f\",\"gridcolor\":\"white\",\"linecolor\":\"white\",\"minorgridcolor\":\"white\",\"startlinecolor\":\"#2a3f5f\"},\"baxis\":{\"endlinecolor\":\"#2a3f5f\",\"gridcolor\":\"white\",\"linecolor\":\"white\",\"minorgridcolor\":\"white\",\"startlinecolor\":\"#2a3f5f\"},\"type\":\"carpet\"}],\"table\":[{\"cells\":{\"fill\":{\"color\":\"#EBF0F8\"},\"line\":{\"color\":\"white\"}},\"header\":{\"fill\":{\"color\":\"#C8D4E3\"},\"line\":{\"color\":\"white\"}},\"type\":\"table\"}],\"barpolar\":[{\"marker\":{\"line\":{\"color\":\"#E5ECF6\",\"width\":0.5},\"pattern\":{\"fillmode\":\"overlay\",\"size\":10,\"solidity\":0.2}},\"type\":\"barpolar\"}],\"pie\":[{\"automargin\":true,\"type\":\"pie\"}]},\"layout\":{\"autotypenumbers\":\"strict\",\"colorway\":[\"#636efa\",\"#EF553B\",\"#00cc96\",\"#ab63fa\",\"#FFA15A\",\"#19d3f3\",\"#FF6692\",\"#B6E880\",\"#FF97FF\",\"#FECB52\"],\"font\":{\"color\":\"#2a3f5f\"},\"hovermode\":\"closest\",\"hoverlabel\":{\"align\":\"left\"},\"paper_bgcolor\":\"white\",\"plot_bgcolor\":\"#E5ECF6\",\"polar\":{\"bgcolor\":\"#E5ECF6\",\"angularaxis\":{\"gridcolor\":\"white\",\"linecolor\":\"white\",\"ticks\":\"\"},\"radialaxis\":{\"gridcolor\":\"white\",\"linecolor\":\"white\",\"ticks\":\"\"}},\"ternary\":{\"bgcolor\":\"#E5ECF6\",\"aaxis\":{\"gridcolor\":\"white\",\"linecolor\":\"white\",\"ticks\":\"\"},\"baxis\":{\"gridcolor\":\"white\",\"linecolor\":\"white\",\"ticks\":\"\"},\"caxis\":{\"gridcolor\":\"white\",\"linecolor\":\"white\",\"ticks\":\"\"}},\"coloraxis\":{\"colorbar\":{\"outlinewidth\":0,\"ticks\":\"\"}},\"colorscale\":{\"sequential\":[[0.0,\"#0d0887\"],[0.1111111111111111,\"#46039f\"],[0.2222222222222222,\"#7201a8\"],[0.3333333333333333,\"#9c179e\"],[0.4444444444444444,\"#bd3786\"],[0.5555555555555556,\"#d8576b\"],[0.6666666666666666,\"#ed7953\"],[0.7777777777777778,\"#fb9f3a\"],[0.8888888888888888,\"#fdca26\"],[1.0,\"#f0f921\"]],\"sequentialminus\":[[0.0,\"#0d0887\"],[0.1111111111111111,\"#46039f\"],[0.2222222222222222,\"#7201a8\"],[0.3333333333333333,\"#9c179e\"],[0.4444444444444444,\"#bd3786\"],[0.5555555555555556,\"#d8576b\"],[0.6666666666666666,\"#ed7953\"],[0.7777777777777778,\"#fb9f3a\"],[0.8888888888888888,\"#fdca26\"],[1.0,\"#f0f921\"]],\"diverging\":[[0,\"#8e0152\"],[0.1,\"#c51b7d\"],[0.2,\"#de77ae\"],[0.3,\"#f1b6da\"],[0.4,\"#fde0ef\"],[0.5,\"#f7f7f7\"],[0.6,\"#e6f5d0\"],[0.7,\"#b8e186\"],[0.8,\"#7fbc41\"],[0.9,\"#4d9221\"],[1,\"#276419\"]]},\"xaxis\":{\"gridcolor\":\"white\",\"linecolor\":\"white\",\"ticks\":\"\",\"title\":{\"standoff\":15},\"zerolinecolor\":\"white\",\"automargin\":true,\"zerolinewidth\":2},\"yaxis\":{\"gridcolor\":\"white\",\"linecolor\":\"white\",\"ticks\":\"\",\"title\":{\"standoff\":15},\"zerolinecolor\":\"white\",\"automargin\":true,\"zerolinewidth\":2},\"scene\":{\"xaxis\":{\"backgroundcolor\":\"#E5ECF6\",\"gridcolor\":\"white\",\"linecolor\":\"white\",\"showbackground\":true,\"ticks\":\"\",\"zerolinecolor\":\"white\",\"gridwidth\":2},\"yaxis\":{\"backgroundcolor\":\"#E5ECF6\",\"gridcolor\":\"white\",\"linecolor\":\"white\",\"showbackground\":true,\"ticks\":\"\",\"zerolinecolor\":\"white\",\"gridwidth\":2},\"zaxis\":{\"backgroundcolor\":\"#E5ECF6\",\"gridcolor\":\"white\",\"linecolor\":\"white\",\"showbackground\":true,\"ticks\":\"\",\"zerolinecolor\":\"white\",\"gridwidth\":2}},\"shapedefaults\":{\"line\":{\"color\":\"#2a3f5f\"}},\"annotationdefaults\":{\"arrowcolor\":\"#2a3f5f\",\"arrowhead\":0,\"arrowwidth\":1},\"geo\":{\"bgcolor\":\"white\",\"landcolor\":\"#E5ECF6\",\"subunitcolor\":\"white\",\"showland\":true,\"showlakes\":true,\"lakecolor\":\"white\"},\"title\":{\"x\":0.05},\"mapbox\":{\"style\":\"light\"}}},\"xaxis\":{\"anchor\":\"y\",\"domain\":[0.0,0.45],\"title\":{\"text\":\"x position\"}},\"yaxis\":{\"anchor\":\"x\",\"domain\":[0.0,1.0],\"title\":{\"text\":\"y position\"}},\"xaxis2\":{\"anchor\":\"y2\",\"domain\":[0.55,1.0],\"title\":{\"text\":\"Time (seconds)\"}},\"yaxis2\":{\"anchor\":\"x2\",\"domain\":[0.625,1.0],\"title\":{\"text\":\"Uncertainty\"}},\"xaxis3\":{\"anchor\":\"y3\",\"domain\":[0.55,1.0],\"title\":{\"text\":\"Time (seconds)\"}},\"yaxis3\":{\"anchor\":\"x3\",\"domain\":[0.0,0.375],\"title\":{\"text\":\"Uncertainty\"}},\"annotations\":[{\"font\":{\"size\":16},\"showarrow\":false,\"text\":\"Filter Performance\",\"x\":0.225,\"xanchor\":\"center\",\"xref\":\"paper\",\"y\":1.0,\"yanchor\":\"bottom\",\"yref\":\"paper\"},{\"font\":{\"size\":16},\"showarrow\":false,\"text\":\"Position Uncertainty\",\"x\":0.775,\"xanchor\":\"center\",\"xref\":\"paper\",\"y\":1.0,\"yanchor\":\"bottom\",\"yref\":\"paper\"},{\"font\":{\"size\":16},\"showarrow\":false,\"text\":\"Velocity Uncertainty\",\"x\":0.775,\"xanchor\":\"center\",\"xref\":\"paper\",\"y\":0.375,\"yanchor\":\"bottom\",\"yref\":\"paper\"}],\"margin\":{\"t\":30,\"b\":0,\"l\":0,\"r\":0},\"legend\":{\"orientation\":\"h\",\"yanchor\":\"bottom\",\"y\":-0.3,\"xanchor\":\"center\",\"x\":0.5,\"bgcolor\":\"white\",\"bordercolor\":\"black\",\"borderwidth\":2},\"width\":750,\"height\":500,\"showlegend\":true},                        {\"responsive\": true}                    ).then(function(){\n",
       "                            \n",
       "var gd = document.getElementById('c48550e7-e5df-49ca-9c9f-b1754f47d004');\n",
       "var x = new MutationObserver(function (mutations, observer) {{\n",
       "        var display = window.getComputedStyle(gd).display;\n",
       "        if (!display || display === 'none') {{\n",
       "            console.log([gd, 'removed!']);\n",
       "            Plotly.purge(gd);\n",
       "            observer.disconnect();\n",
       "        }}\n",
       "}});\n",
       "\n",
       "// Listen for the removal of the full notebook cells\n",
       "var notebookContainer = gd.closest('#notebook-container');\n",
       "if (notebookContainer) {{\n",
       "    x.observe(notebookContainer, {childList: true});\n",
       "}}\n",
       "\n",
       "// Listen for the clearing of the current output cell\n",
       "var outputEl = gd.closest('.output');\n",
       "if (outputEl) {{\n",
       "    x.observe(outputEl, {childList: true});\n",
       "}}\n",
       "\n",
       "                        })                };                });            </script>        </div>"
      ]
     },
     "metadata": {},
     "output_type": "display_data"
    }
   ],
   "source": [
    "fig = straight_level_const_acc(meas_noise=20,process_noise=0.005,leg_pos=-0.3,height=500,width=750)\n",
    "fig.show()"
   ]
  },
  {
   "cell_type": "markdown",
   "id": "48075557-ac28-48a8-8d09-4bea0510c4d9",
   "metadata": {},
   "source": [
    "Since acceleration is now being considered in the model, atleast 3 measurements are required to start tracking the object since three measurements are needed to calculate acceleration. The model incorrectly assumes the velocity of the object is changing resulting in an increase in the uncertainties compared to when the correct model was utilized. This resulted in the measurements being weighted more in determining the predicted state.  "
   ]
  },
  {
   "cell_type": "markdown",
   "id": "364ec3a7-e09c-46c6-955a-e9e3125be10a",
   "metadata": {
    "tags": []
   },
   "source": [
    "## PROFILE 2"
   ]
  },
  {
   "cell_type": "markdown",
   "id": "adb8db8e-57cb-491c-a01a-71a5d4572773",
   "metadata": {},
   "source": [
    "Next, the object of interest will perform a maneuver. The overall profile will consist of 1 segment where the object is moving at a constant speed in a straight line (same as previous section) but after 120 seconds the object will perform a coordinated right turn for 180 seconds. First, the appropriate model (constant acceleration) will be used to track the object."
   ]
  },
  {
   "cell_type": "code",
   "execution_count": 35,
   "id": "4309058b-6812-4ad5-9dba-b309995de0b1",
   "metadata": {
    "tags": []
   },
   "outputs": [
    {
     "data": {
      "application/vnd.plotly.v1+json": {
       "config": {
        "plotlyServerURL": "https://plot.ly"
       },
       "data": [
        {
         "line": {
          "color": "black",
          "width": 1
         },
         "mode": "lines",
         "name": "Truth",
         "showlegend": true,
         "type": "scatter",
         "x": [
          0,
          0.2,
          0.4,
          0.6000000000000001,
          0.8,
          1,
          1.2000000000000002,
          1.4,
          1.6,
          1.8,
          2,
          2.2,
          2.4000000000000004,
          2.6,
          2.8000000000000003,
          3,
          3.2,
          3.4000000000000004,
          3.6,
          3.8,
          4,
          4.2,
          4.4,
          4.6000000000000005,
          4.800000000000001,
          5,
          5.2,
          5.4,
          5.6000000000000005,
          5.800000000000001,
          6,
          6.2,
          6.4,
          6.6000000000000005,
          6.800000000000001,
          7,
          7.2,
          7.4,
          7.6,
          7.800000000000001,
          8,
          8.200000000000001,
          8.4,
          8.6,
          8.8,
          9,
          9.2,
          9.4,
          9.6,
          9.8,
          10,
          10.2,
          10.4,
          10.6,
          10.8,
          11,
          11.2,
          11.4,
          11.6,
          11.8,
          12,
          12.2,
          12.4,
          12.6,
          12.8,
          13,
          13.2,
          13.4,
          13.6,
          13.8,
          14,
          14.2,
          14.4,
          14.6,
          14.8,
          15,
          15.2,
          15.4,
          15.6,
          15.8,
          16,
          16.2,
          16.400000000000002,
          16.6,
          16.8,
          17,
          17.2,
          17.400000000000002,
          17.6,
          17.8,
          18,
          18.2,
          18.4,
          18.6,
          18.8,
          19,
          19.200000000000003,
          19.4,
          19.6,
          19.8,
          20,
          20.200000000000003,
          20.4,
          20.6,
          20.8,
          21,
          21.200000000000003,
          21.4,
          21.6,
          21.8,
          22,
          22.200000000000003,
          22.4,
          22.6,
          22.8,
          23,
          23.200000000000003,
          23.4,
          23.6,
          23.8,
          24,
          24.104490960131542,
          24.20852300550108,
          24.31209415548843,
          24.41520243824819,
          24.51784589074728,
          24.62002255880233,
          24.721730497116855,
          24.82296776931832,
          24.923732447994997,
          25.024022614732647,
          25.123836360151067,
          25.22317178394042,
          25.322026994897428,
          25.420400110961367,
          25.51828925924991,
          25.615692576094784,
          25.71260820707723,
          25.809034307063342,
          25.904969040239173,
          26.000410580145687,
          26.095357109713536,
          26.189806821297665,
          26.283757916711707,
          26.377208607262236,
          26.470157113782815,
          26.562601666667856,
          26.65454050590633,
          26.745971881115263,
          26.836894051573072,
          26.92730528625269,
          27.01720386385452,
          27.106588072839255,
          27.195456211460385,
          27.283806587796654,
          27.371637519784255,
          27.458947335248848,
          27.545734371937392,
          27.631996977549814,
          27.717733509770454,
          27.80294233629932,
          27.887621834883184,
          27.97177039334645,
          28.055386409621867,
          28.138468291781013,
          28.221014458064612,
          28.30302333691265,
          28.38449336699428,
          28.465422997237564,
          28.545810686859006,
          28.62565490539287,
          28.704954132720335,
          28.783706859098412,
          28.861911585188707,
          28.939566822085972,
          29.01667109134643,
          29.093222925015944,
          29.16922086565794,
          29.244663466381184,
          29.3195492908673,
          29.393876913398135,
          29.467644918882907,
          29.540851902885116,
          29.613496471649317,
          29.685577242127636,
          29.757092842006102,
          29.828041909730786,
          29.898423094533698,
          29.96823505645854,
          30.037476466386188,
          30.10614600606001,
          30.174242368110946,
          30.24176425608243,
          30.30871038445504,
          30.375079478670997,
          30.440870275158417,
          30.50608152135537,
          30.57071197573372,
          30.634760407822785,
          30.698225598232742,
          30.761106338677852,
          30.823401431999457,
          30.885109692188763,
          30.946229944409463,
          31.00676102502005,
          31.06670178159601,
          31.12605107295173,
          31.184807769162255,
          31.24297075158479,
          31.300538912879983,
          31.35751115703304,
          31.413886399374544,
          31.469663566601145,
          31.52484159679598,
          31.579419439448895,
          31.633396055476435,
          31.686770417241636,
          31.73954150857359,
          31.791708324786786,
          31.843269872700237,
          31.89422517065639,
          31.94457324853984,
          31.994313147795744,
          32.04344392144812,
          32.091964634117865,
          32.13987436204055,
          32.18717219308402,
          32.233857226765736,
          32.27992857426996,
          32.325385358464644,
          32.37022671391814,
          32.41445178691569,
          32.458059735475636,
          32.501049729365505,
          32.543420950117785,
          32.585172591045506,
          32.626303857257604,
          32.666813965674066,
          32.706702145040815,
          32.745967635944425,
          32.784609690826535,
          32.82262757399814,
          32.86002056165353,
          32.89678794188412,
          32.932929014692,
          32.968443092003234,
          33.00332949768099,
          33.037587567538374,
          33.071216649351136,
          33.10421610287003,
          33.13658529983303,
          33.16832362397727,
          33.199430471050825,
          33.22990524882415,
          33.25974737710143,
          33.28895628773154,
          33.31753142461892,
          33.345472243734164,
          33.372778213124356,
          33.3994488129232,
          33.425483535360904,
          33.45088188477389,
          33.475643377614205,
          33.49976754245871,
          33.523253920018085,
          33.546102063145554,
          33.5683115368454,
          33.589881918281264,
          33.610812796784174,
          33.63110377386038,
          33.65075446319892,
          33.66976449067901,
          33.68813349437711,
          33.70586112457388,
          33.72294704376078,
          33.739390926646564,
          33.755192460163386,
          33.770351343472825,
          33.78486728797159,
          33.79874001729704,
          33.8119692673324,
          33.824554786211806,
          33.83649633432513,
          33.84779368432251,
          33.85844662111869,
          33.8684549418971,
          33.87781845611374,
          33.8865369855008,
          33.89461036407004,
          33.90203843811599,
          33.908821066218806,
          33.91495811924704,
          33.92044948036004,
          33.92529504501021,
          33.92949472094498,
          33.93304842820858,
          33.935956099143546,
          33.93821767839201,
          33.939833122896765,
          33.940802401902076,
          33.941125496954264
         ],
         "xaxis": "x",
         "y": [
          0,
          0.2,
          0.4,
          0.6000000000000001,
          0.8,
          1,
          1.2000000000000002,
          1.4,
          1.6,
          1.8,
          2,
          2.2,
          2.4000000000000004,
          2.6,
          2.8000000000000003,
          3,
          3.2,
          3.4000000000000004,
          3.6,
          3.8,
          4,
          4.2,
          4.4,
          4.6000000000000005,
          4.800000000000001,
          5,
          5.2,
          5.4,
          5.6000000000000005,
          5.800000000000001,
          6,
          6.2,
          6.4,
          6.6000000000000005,
          6.800000000000001,
          7,
          7.2,
          7.4,
          7.6,
          7.800000000000001,
          8,
          8.200000000000001,
          8.4,
          8.6,
          8.8,
          9,
          9.2,
          9.4,
          9.6,
          9.8,
          10,
          10.2,
          10.4,
          10.6,
          10.8,
          11,
          11.2,
          11.4,
          11.6,
          11.8,
          12,
          12.2,
          12.4,
          12.6,
          12.8,
          13,
          13.2,
          13.4,
          13.6,
          13.8,
          14,
          14.2,
          14.4,
          14.6,
          14.8,
          15,
          15.2,
          15.4,
          15.6,
          15.8,
          16,
          16.2,
          16.400000000000002,
          16.6,
          16.8,
          17,
          17.2,
          17.400000000000002,
          17.6,
          17.8,
          18,
          18.2,
          18.4,
          18.6,
          18.8,
          19,
          19.200000000000003,
          19.4,
          19.6,
          19.8,
          20,
          20.200000000000003,
          20.4,
          20.6,
          20.8,
          21,
          21.200000000000003,
          21.4,
          21.6,
          21.8,
          22,
          22.200000000000003,
          22.4,
          22.6,
          22.8,
          23,
          23.200000000000003,
          23.4,
          23.6,
          23.8,
          24,
          23.89505211446371,
          23.789649301579136,
          23.6837935680639,
          23.577486929258583,
          23.470731409088348,
          23.363529040024417,
          23.255881863045364,
          23.14779192759827,
          23.0392612915597,
          22.93029202119652,
          22.82088619112656,
          22.711045884279116,
          22.600773191855307,
          22.49007021328824,
          22.378939056203045,
          22.26738183637677,
          22.155400677698072,
          22.04299771212679,
          21.930175079653367,
          21.816934928258092,
          21.70327941387022,
          21.589210700326912,
          21.47473095933205,
          21.35984237041487,
          21.24454712088852,
          21.128847405808337,
          21.012745427930124,
          20.896243397668187,
          20.779343533053243,
          20.66204805969021,
          20.54435921071582,
          20.426279226756115,
          20.30781035588378,
          20.18895485357535,
          20.069714982668255,
          19.950093013317765,
          19.83009122295374,
          19.70971189623729,
          19.588957325017276,
          19.467829808286663,
          19.34633165213878,
          19.224465169723373,
          19.102232681202604,
          18.97963651370686,
          18.856679001290455,
          18.73336248488718,
          18.60968931226575,
          18.485661837985113,
          18.361282423349586,
          18.23655343636393,
          18.11147725168828,
          17.986056250592885,
          17.86029282091282,
          17.734189357002506,
          17.60774825969012,
          17.48097193623189,
          17.35386280026627,
          17.22642327176799,
          17.098655777001973,
          16.97056274847714,
          16.842146624900117,
          16.713409851128787,
          16.584354878125755,
          16.454984162911675,
          16.32530016851848,
          16.19530536394249,
          16.065002224097405,
          15.934393229767172,
          15.80348086755878,
          15.672267629854892,
          15.540756014766425,
          15.408948526084949,
          15.27684767323506,
          15.144455971226574,
          15.01177594060666,
          14.878810107411844,
          14.745561003119928,
          14.61203116460178,
          14.47822313407305,
          14.344139459045754,
          14.209782692279791,
          14.075155391734327,
          13.940260120519104,
          13.80509944684564,
          13.669675943978328,
          13.533992190185458,
          13.398050768690116,
          13.261854267621011,
          13.125405279963203,
          12.988706403508733,
          12.851760240807153,
          12.714569399116002,
          12.57713649035115,
          12.439464131037072,
          12.301554942257042,
          12.16341154960322,
          12.025036583126674,
          11.886432677287305,
          11.74760247090368,
          11.608548607102817,
          11.469273733269834,
          11.329780500997574,
          11.1900715660361,
          11.050149588242151,
          10.910017231528492,
          10.769677163813194,
          10.629132056968851,
          10.488384586771708,
          10.347437432850716,
          10.20629327863651,
          10.064954811310336,
          9.923424721752871,
          9.781705704493016,
          9.639800457656571,
          9.497711682914886,
          9.355442085433417,
          9.212994373820216,
          9.070371260074385,
          8.92757545953442,
          8.78460969082653,
          8.641476675812868,
          8.498179139539719,
          8.354719810185616,
          8.211101419009395,
          8.067326700298205,
          7.923398391315442,
          7.779319232248642,
          7.635091966157306,
          7.490719338920683,
          7.346204099185487,
          7.201548998313567,
          7.056756790329528,
          6.911830231868298,
          6.766772082122642,
          6.621585102790633,
          6.476272058023078,
          6.330835714370883,
          6.18527884073239,
          6.0396042083006565,
          5.893814590510699,
          5.747912762986688,
          5.601901503489109,
          5.45578359186187,
          5.309561809979385,
          5.163238941693606,
          5.016817772781026,
          4.87030109088964,
          4.723691685485871,
          4.576992347801466,
          4.43020587078035,
          4.283335049025459,
          4.13638267874553,
          3.989351557701865,
          3.8422444851550672,
          3.695064261811748,
          3.5478136897712047,
          3.4004955724720713,
          3.253112714638947,
          3.105667922228997,
          2.9581640023785316,
          2.810603763349562,
          2.6629900144763377,
          2.5153255661118545,
          2.3676132295743564,
          2.219855817093808,
          2.0720561417583556,
          1.924217017460769,
          1.7763412588448684,
          1.6284316812519404,
          1.480491100667135,
          1.3325223336658552,
          1.1845281973601318,
          1.0365115093449913,
          0.888475087644812,
          0.7404217506596732,
          0.5923543171116968,
          0.444275605991383,
          0.2961884365039407,
          0.1480956280156137,
          4.6278366804520154e-15
         ],
         "yaxis": "y"
        },
        {
         "marker": {
          "color": "red",
          "size": 8,
          "symbol": "square"
         },
         "mode": "markers",
         "name": "Measurements",
         "opacity": 0.6,
         "showlegend": true,
         "type": "scatter",
         "x": [
          0.1645067554337316,
          1.673485754015282,
          3.607767564683339,
          5.983959178032794,
          7.821226215471189,
          10.8124955042768,
          12.378312343926106,
          14.28204248279673,
          15.93924982764213,
          18.38825635003452,
          20.31735879493016,
          21.292022465410504,
          24.271337844499634,
          25.14067569692806,
          25.64433939987682,
          26.718298664805356,
          28.330577437355423,
          28.49374481643807,
          29.119559446214,
          30.354714959537404,
          30.478333465757363,
          31.61611609009564,
          31.075350998741243,
          32.49009733669481,
          32.80367271397379,
          33.563762055670814,
          33.23426286107128,
          33.74904801868261,
          33.41906726397238,
          35.30872570301677,
          34.09260850624021
         ],
         "xaxis": "x",
         "y": [
          -0.6773368063996718,
          1.926378550122423,
          3.176226246136001,
          5.490155013522891,
          8.538705023230774,
          10.100023480313206,
          11.871474000021548,
          13.176835848515983,
          16.788078162539016,
          18.3289434648906,
          20.32889573955765,
          21.907218555450346,
          23.975241857869214,
          22.655178937737485,
          22.49658154476845,
          20.20552418478216,
          18.930851811775646,
          18.392828133375467,
          17.15387757161697,
          15.545738598094806,
          15.012147796050664,
          12.920111851934468,
          11.803422222042258,
          10.709625299358336,
          8.307350966299257,
          7.493816586136845,
          5.875828086684717,
          4.209395623311487,
          2.5087960690817352,
          1.8061795494712096,
          -0.0082318073976205
         ],
         "yaxis": "y"
        },
        {
         "marker": {
          "color": "blue",
          "size": 8,
          "symbol": "circle"
         },
         "mode": "markers",
         "name": "Kalman Filter",
         "opacity": 0.6,
         "showlegend": true,
         "type": "scatter",
         "x": [
          3.607767564683339,
          -1.4838755607321428,
          7.595681302114539,
          11.097563556537963,
          12.218250575666069,
          14.33409400064345,
          15.925014221594342,
          18.387891595844803,
          20.323686127506626,
          21.291078107440065,
          24.259032951860274,
          25.163481527180622,
          25.627424046976653,
          26.720966666459645,
          28.330120804710372,
          28.502218091310652,
          29.107820217171977,
          30.358933450182498,
          30.4841596343936,
          31.60442523337153,
          31.091671773327764,
          32.46799022537767,
          32.82568279136992,
          33.54836615383891,
          33.24672862441297,
          33.73598146718619,
          33.431464706478515,
          35.290794155790124,
          34.12252819200072
         ],
         "xaxis": "x",
         "y": [
          3.176226246136001,
          -4.100133326686989,
          8.245750232884863,
          10.494854999226618,
          11.628300141153616,
          13.271691706383407,
          16.74394771658264,
          18.36290857395666,
          20.305110894389625,
          21.920112067266103,
          23.966604023324003,
          22.674888386733794,
          22.4690766693013,
          20.23079270920937,
          18.907425759486962,
          18.403329570409404,
          17.15617949963858,
          15.54295023162225,
          15.007217263999063,
          12.93348569091048,
          11.78702873139298,
          10.720359339062952,
          8.308858793913657,
          7.480524863605954,
          5.891718035711714,
          4.199694838983969,
          2.512436338193131,
          1.8005664159371457,
          0.0029928011451541003
         ],
         "yaxis": "y"
        },
        {
         "marker": {
          "color": "rgb(27,158,119)",
          "size": 8,
          "symbol": "diamond"
         },
         "mode": "markers",
         "name": "Uncertainty After Prediction",
         "opacity": 0.6,
         "showlegend": true,
         "type": "scatter",
         "x": [
          21,
          31,
          41,
          51,
          61,
          71,
          81,
          91,
          101,
          111,
          121,
          130,
          140,
          150,
          160,
          170,
          180,
          190,
          200,
          210,
          220,
          230,
          240,
          250,
          260,
          270,
          280,
          290,
          300
         ],
         "xaxis": "x2",
         "y": [
          1e-06,
          1.002601,
          2601.991811491472,
          3307.5113772959276,
          4241.585250752403,
          4633.056323620995,
          4692.696685860473,
          4699.520364553955,
          4700.203781198867,
          4700.2675787038,
          4700.2732644023,
          4700.273755277994,
          4700.273796705381,
          4700.273800144036,
          4700.273800425955,
          4700.273800448855,
          4700.273800450699,
          4700.273800450841,
          4700.273800450856,
          4700.273800450861,
          4700.273800450855,
          4700.273800450855,
          4700.2738004508565,
          4700.273800450854,
          4700.273800450852,
          4700.273800450848,
          4700.273800450848,
          4700.2738004508565,
          4700.273800450857
         ],
         "yaxis": "y2"
        },
        {
         "marker": {
          "color": "rgb(217,95,2)",
          "size": 8,
          "symbol": "diamond"
         },
         "mode": "markers",
         "name": "Uncertainty After Measurement",
         "opacity": 0.6,
         "showlegend": true,
         "type": "scatter",
         "x": [
          21,
          31,
          41,
          51,
          61,
          71,
          81,
          91,
          101,
          111,
          121,
          130,
          140,
          150,
          160,
          170,
          180,
          190,
          200,
          210,
          220,
          230,
          240,
          250,
          260,
          270,
          280,
          290,
          300
         ],
         "xaxis": "x2",
         "y": [
          1e-06,
          0.9547398438888594,
          19.847444222271438,
          19.87979004287431,
          19.90613821466334,
          19.914034997176067,
          19.915122905914966,
          19.915245624745218,
          19.915257895942283,
          19.915259041287268,
          19.91525914336007,
          19.91525915217253,
          19.91525915291626,
          19.91525915297799,
          19.915259152983054,
          19.915259152983463,
          19.915259152983495,
          19.915259152983502,
          19.915259152983502,
          19.915259152983502,
          19.9152591529835,
          19.9152591529835,
          19.9152591529835,
          19.915259152983502,
          19.915259152983502,
          19.915259152983502,
          19.915259152983502,
          19.9152591529835,
          19.915259152983502
         ],
         "yaxis": "y2"
        },
        {
         "marker": {
          "color": "rgb(27,158,119)",
          "size": 8,
          "symbol": "diamond"
         },
         "mode": "markers",
         "name": "Uncertainty After Prediction",
         "opacity": 0.6,
         "showlegend": false,
         "type": "scatter",
         "x": [
          21,
          31,
          41,
          51,
          61,
          71,
          81,
          91,
          101,
          111,
          121,
          130,
          140,
          150,
          160,
          170,
          180,
          190,
          200,
          210,
          220,
          230,
          240,
          250,
          260,
          270,
          280,
          290,
          300
         ],
         "xaxis": "x3",
         "y": [
          1e-06,
          1.000101,
          102.00040095142984,
          113.94094683155782,
          133.72075960794254,
          142.9559256401768,
          144.39640909393614,
          144.56340080812015,
          144.5802483127507,
          144.58182850650263,
          144.58196978488172,
          144.58198200963383,
          144.58198304301942,
          144.581983128898,
          144.58198313594505,
          144.58198313651786,
          144.58198313656402,
          144.58198313656766,
          144.581983136568,
          144.5819831365681,
          144.581983136568,
          144.58198313656797,
          144.581983136568,
          144.581983136568,
          144.5819831365679,
          144.58198313656786,
          144.58198313656783,
          144.58198313656803,
          144.581983136568
         ],
         "yaxis": "y3"
        },
        {
         "marker": {
          "color": "rgb(217,95,2)",
          "size": 8,
          "symbol": "diamond"
         },
         "mode": "markers",
         "name": "Uncertainty After Prediction",
         "opacity": 0.6,
         "showlegend": false,
         "type": "scatter",
         "x": [
          21,
          31,
          41,
          51,
          61,
          71,
          81,
          91,
          101,
          111,
          121,
          130,
          140,
          150,
          160,
          170,
          180,
          190,
          200,
          210,
          220,
          230,
          240,
          250,
          260,
          270,
          280,
          290,
          300
         ],
         "xaxis": "x3",
         "y": [
          1e-06,
          1.0001009876158196,
          2.799461526535424,
          5.7051331042013675,
          6.608500564130103,
          6.73962691932131,
          6.754121549954806,
          6.755547038999613,
          6.7556784918249795,
          6.755690111042062,
          6.755691108342439,
          6.755691192153502,
          6.755691199088392,
          6.755691199655633,
          6.755691199701616,
          6.755691199705314,
          6.755691199705581,
          6.755691199705628,
          6.755691199705628,
          6.755691199705599,
          6.755691199705619,
          6.755691199705628,
          6.755691199705599,
          6.755691199705599,
          6.755691199705571,
          6.755691199705599,
          6.755691199705628,
          6.755691199705628,
          6.755691199705627
         ],
         "yaxis": "y3"
        }
       ],
       "layout": {
        "annotations": [
         {
          "font": {
           "size": 16
          },
          "showarrow": false,
          "text": "Filter Performance",
          "x": 0.225,
          "xanchor": "center",
          "xref": "paper",
          "y": 1,
          "yanchor": "bottom",
          "yref": "paper"
         },
         {
          "font": {
           "size": 16
          },
          "showarrow": false,
          "text": "Position Uncertainty",
          "x": 0.775,
          "xanchor": "center",
          "xref": "paper",
          "y": 1,
          "yanchor": "bottom",
          "yref": "paper"
         },
         {
          "font": {
           "size": 16
          },
          "showarrow": false,
          "text": "Velocity Uncertainty",
          "x": 0.775,
          "xanchor": "center",
          "xref": "paper",
          "y": 0.375,
          "yanchor": "bottom",
          "yref": "paper"
         }
        ],
        "height": 500,
        "legend": {
         "bgcolor": "white",
         "bordercolor": "black",
         "borderwidth": 2,
         "orientation": "h",
         "x": 0.5,
         "xanchor": "center",
         "y": -0.3,
         "yanchor": "bottom"
        },
        "margin": {
         "b": 0,
         "l": 0,
         "r": 0,
         "t": 30
        },
        "showlegend": true,
        "template": {
         "data": {
          "bar": [
           {
            "error_x": {
             "color": "#2a3f5f"
            },
            "error_y": {
             "color": "#2a3f5f"
            },
            "marker": {
             "line": {
              "color": "#E5ECF6",
              "width": 0.5
             },
             "pattern": {
              "fillmode": "overlay",
              "size": 10,
              "solidity": 0.2
             }
            },
            "type": "bar"
           }
          ],
          "barpolar": [
           {
            "marker": {
             "line": {
              "color": "#E5ECF6",
              "width": 0.5
             },
             "pattern": {
              "fillmode": "overlay",
              "size": 10,
              "solidity": 0.2
             }
            },
            "type": "barpolar"
           }
          ],
          "carpet": [
           {
            "aaxis": {
             "endlinecolor": "#2a3f5f",
             "gridcolor": "white",
             "linecolor": "white",
             "minorgridcolor": "white",
             "startlinecolor": "#2a3f5f"
            },
            "baxis": {
             "endlinecolor": "#2a3f5f",
             "gridcolor": "white",
             "linecolor": "white",
             "minorgridcolor": "white",
             "startlinecolor": "#2a3f5f"
            },
            "type": "carpet"
           }
          ],
          "choropleth": [
           {
            "colorbar": {
             "outlinewidth": 0,
             "ticks": ""
            },
            "type": "choropleth"
           }
          ],
          "contour": [
           {
            "colorbar": {
             "outlinewidth": 0,
             "ticks": ""
            },
            "colorscale": [
             [
              0,
              "#0d0887"
             ],
             [
              0.1111111111111111,
              "#46039f"
             ],
             [
              0.2222222222222222,
              "#7201a8"
             ],
             [
              0.3333333333333333,
              "#9c179e"
             ],
             [
              0.4444444444444444,
              "#bd3786"
             ],
             [
              0.5555555555555556,
              "#d8576b"
             ],
             [
              0.6666666666666666,
              "#ed7953"
             ],
             [
              0.7777777777777778,
              "#fb9f3a"
             ],
             [
              0.8888888888888888,
              "#fdca26"
             ],
             [
              1,
              "#f0f921"
             ]
            ],
            "type": "contour"
           }
          ],
          "contourcarpet": [
           {
            "colorbar": {
             "outlinewidth": 0,
             "ticks": ""
            },
            "type": "contourcarpet"
           }
          ],
          "heatmap": [
           {
            "colorbar": {
             "outlinewidth": 0,
             "ticks": ""
            },
            "colorscale": [
             [
              0,
              "#0d0887"
             ],
             [
              0.1111111111111111,
              "#46039f"
             ],
             [
              0.2222222222222222,
              "#7201a8"
             ],
             [
              0.3333333333333333,
              "#9c179e"
             ],
             [
              0.4444444444444444,
              "#bd3786"
             ],
             [
              0.5555555555555556,
              "#d8576b"
             ],
             [
              0.6666666666666666,
              "#ed7953"
             ],
             [
              0.7777777777777778,
              "#fb9f3a"
             ],
             [
              0.8888888888888888,
              "#fdca26"
             ],
             [
              1,
              "#f0f921"
             ]
            ],
            "type": "heatmap"
           }
          ],
          "heatmapgl": [
           {
            "colorbar": {
             "outlinewidth": 0,
             "ticks": ""
            },
            "colorscale": [
             [
              0,
              "#0d0887"
             ],
             [
              0.1111111111111111,
              "#46039f"
             ],
             [
              0.2222222222222222,
              "#7201a8"
             ],
             [
              0.3333333333333333,
              "#9c179e"
             ],
             [
              0.4444444444444444,
              "#bd3786"
             ],
             [
              0.5555555555555556,
              "#d8576b"
             ],
             [
              0.6666666666666666,
              "#ed7953"
             ],
             [
              0.7777777777777778,
              "#fb9f3a"
             ],
             [
              0.8888888888888888,
              "#fdca26"
             ],
             [
              1,
              "#f0f921"
             ]
            ],
            "type": "heatmapgl"
           }
          ],
          "histogram": [
           {
            "marker": {
             "pattern": {
              "fillmode": "overlay",
              "size": 10,
              "solidity": 0.2
             }
            },
            "type": "histogram"
           }
          ],
          "histogram2d": [
           {
            "colorbar": {
             "outlinewidth": 0,
             "ticks": ""
            },
            "colorscale": [
             [
              0,
              "#0d0887"
             ],
             [
              0.1111111111111111,
              "#46039f"
             ],
             [
              0.2222222222222222,
              "#7201a8"
             ],
             [
              0.3333333333333333,
              "#9c179e"
             ],
             [
              0.4444444444444444,
              "#bd3786"
             ],
             [
              0.5555555555555556,
              "#d8576b"
             ],
             [
              0.6666666666666666,
              "#ed7953"
             ],
             [
              0.7777777777777778,
              "#fb9f3a"
             ],
             [
              0.8888888888888888,
              "#fdca26"
             ],
             [
              1,
              "#f0f921"
             ]
            ],
            "type": "histogram2d"
           }
          ],
          "histogram2dcontour": [
           {
            "colorbar": {
             "outlinewidth": 0,
             "ticks": ""
            },
            "colorscale": [
             [
              0,
              "#0d0887"
             ],
             [
              0.1111111111111111,
              "#46039f"
             ],
             [
              0.2222222222222222,
              "#7201a8"
             ],
             [
              0.3333333333333333,
              "#9c179e"
             ],
             [
              0.4444444444444444,
              "#bd3786"
             ],
             [
              0.5555555555555556,
              "#d8576b"
             ],
             [
              0.6666666666666666,
              "#ed7953"
             ],
             [
              0.7777777777777778,
              "#fb9f3a"
             ],
             [
              0.8888888888888888,
              "#fdca26"
             ],
             [
              1,
              "#f0f921"
             ]
            ],
            "type": "histogram2dcontour"
           }
          ],
          "mesh3d": [
           {
            "colorbar": {
             "outlinewidth": 0,
             "ticks": ""
            },
            "type": "mesh3d"
           }
          ],
          "parcoords": [
           {
            "line": {
             "colorbar": {
              "outlinewidth": 0,
              "ticks": ""
             }
            },
            "type": "parcoords"
           }
          ],
          "pie": [
           {
            "automargin": true,
            "type": "pie"
           }
          ],
          "scatter": [
           {
            "fillpattern": {
             "fillmode": "overlay",
             "size": 10,
             "solidity": 0.2
            },
            "type": "scatter"
           }
          ],
          "scatter3d": [
           {
            "line": {
             "colorbar": {
              "outlinewidth": 0,
              "ticks": ""
             }
            },
            "marker": {
             "colorbar": {
              "outlinewidth": 0,
              "ticks": ""
             }
            },
            "type": "scatter3d"
           }
          ],
          "scattercarpet": [
           {
            "marker": {
             "colorbar": {
              "outlinewidth": 0,
              "ticks": ""
             }
            },
            "type": "scattercarpet"
           }
          ],
          "scattergeo": [
           {
            "marker": {
             "colorbar": {
              "outlinewidth": 0,
              "ticks": ""
             }
            },
            "type": "scattergeo"
           }
          ],
          "scattergl": [
           {
            "marker": {
             "colorbar": {
              "outlinewidth": 0,
              "ticks": ""
             }
            },
            "type": "scattergl"
           }
          ],
          "scattermapbox": [
           {
            "marker": {
             "colorbar": {
              "outlinewidth": 0,
              "ticks": ""
             }
            },
            "type": "scattermapbox"
           }
          ],
          "scatterpolar": [
           {
            "marker": {
             "colorbar": {
              "outlinewidth": 0,
              "ticks": ""
             }
            },
            "type": "scatterpolar"
           }
          ],
          "scatterpolargl": [
           {
            "marker": {
             "colorbar": {
              "outlinewidth": 0,
              "ticks": ""
             }
            },
            "type": "scatterpolargl"
           }
          ],
          "scatterternary": [
           {
            "marker": {
             "colorbar": {
              "outlinewidth": 0,
              "ticks": ""
             }
            },
            "type": "scatterternary"
           }
          ],
          "surface": [
           {
            "colorbar": {
             "outlinewidth": 0,
             "ticks": ""
            },
            "colorscale": [
             [
              0,
              "#0d0887"
             ],
             [
              0.1111111111111111,
              "#46039f"
             ],
             [
              0.2222222222222222,
              "#7201a8"
             ],
             [
              0.3333333333333333,
              "#9c179e"
             ],
             [
              0.4444444444444444,
              "#bd3786"
             ],
             [
              0.5555555555555556,
              "#d8576b"
             ],
             [
              0.6666666666666666,
              "#ed7953"
             ],
             [
              0.7777777777777778,
              "#fb9f3a"
             ],
             [
              0.8888888888888888,
              "#fdca26"
             ],
             [
              1,
              "#f0f921"
             ]
            ],
            "type": "surface"
           }
          ],
          "table": [
           {
            "cells": {
             "fill": {
              "color": "#EBF0F8"
             },
             "line": {
              "color": "white"
             }
            },
            "header": {
             "fill": {
              "color": "#C8D4E3"
             },
             "line": {
              "color": "white"
             }
            },
            "type": "table"
           }
          ]
         },
         "layout": {
          "annotationdefaults": {
           "arrowcolor": "#2a3f5f",
           "arrowhead": 0,
           "arrowwidth": 1
          },
          "autotypenumbers": "strict",
          "coloraxis": {
           "colorbar": {
            "outlinewidth": 0,
            "ticks": ""
           }
          },
          "colorscale": {
           "diverging": [
            [
             0,
             "#8e0152"
            ],
            [
             0.1,
             "#c51b7d"
            ],
            [
             0.2,
             "#de77ae"
            ],
            [
             0.3,
             "#f1b6da"
            ],
            [
             0.4,
             "#fde0ef"
            ],
            [
             0.5,
             "#f7f7f7"
            ],
            [
             0.6,
             "#e6f5d0"
            ],
            [
             0.7,
             "#b8e186"
            ],
            [
             0.8,
             "#7fbc41"
            ],
            [
             0.9,
             "#4d9221"
            ],
            [
             1,
             "#276419"
            ]
           ],
           "sequential": [
            [
             0,
             "#0d0887"
            ],
            [
             0.1111111111111111,
             "#46039f"
            ],
            [
             0.2222222222222222,
             "#7201a8"
            ],
            [
             0.3333333333333333,
             "#9c179e"
            ],
            [
             0.4444444444444444,
             "#bd3786"
            ],
            [
             0.5555555555555556,
             "#d8576b"
            ],
            [
             0.6666666666666666,
             "#ed7953"
            ],
            [
             0.7777777777777778,
             "#fb9f3a"
            ],
            [
             0.8888888888888888,
             "#fdca26"
            ],
            [
             1,
             "#f0f921"
            ]
           ],
           "sequentialminus": [
            [
             0,
             "#0d0887"
            ],
            [
             0.1111111111111111,
             "#46039f"
            ],
            [
             0.2222222222222222,
             "#7201a8"
            ],
            [
             0.3333333333333333,
             "#9c179e"
            ],
            [
             0.4444444444444444,
             "#bd3786"
            ],
            [
             0.5555555555555556,
             "#d8576b"
            ],
            [
             0.6666666666666666,
             "#ed7953"
            ],
            [
             0.7777777777777778,
             "#fb9f3a"
            ],
            [
             0.8888888888888888,
             "#fdca26"
            ],
            [
             1,
             "#f0f921"
            ]
           ]
          },
          "colorway": [
           "#636efa",
           "#EF553B",
           "#00cc96",
           "#ab63fa",
           "#FFA15A",
           "#19d3f3",
           "#FF6692",
           "#B6E880",
           "#FF97FF",
           "#FECB52"
          ],
          "font": {
           "color": "#2a3f5f"
          },
          "geo": {
           "bgcolor": "white",
           "lakecolor": "white",
           "landcolor": "#E5ECF6",
           "showlakes": true,
           "showland": true,
           "subunitcolor": "white"
          },
          "hoverlabel": {
           "align": "left"
          },
          "hovermode": "closest",
          "mapbox": {
           "style": "light"
          },
          "paper_bgcolor": "white",
          "plot_bgcolor": "#E5ECF6",
          "polar": {
           "angularaxis": {
            "gridcolor": "white",
            "linecolor": "white",
            "ticks": ""
           },
           "bgcolor": "#E5ECF6",
           "radialaxis": {
            "gridcolor": "white",
            "linecolor": "white",
            "ticks": ""
           }
          },
          "scene": {
           "xaxis": {
            "backgroundcolor": "#E5ECF6",
            "gridcolor": "white",
            "gridwidth": 2,
            "linecolor": "white",
            "showbackground": true,
            "ticks": "",
            "zerolinecolor": "white"
           },
           "yaxis": {
            "backgroundcolor": "#E5ECF6",
            "gridcolor": "white",
            "gridwidth": 2,
            "linecolor": "white",
            "showbackground": true,
            "ticks": "",
            "zerolinecolor": "white"
           },
           "zaxis": {
            "backgroundcolor": "#E5ECF6",
            "gridcolor": "white",
            "gridwidth": 2,
            "linecolor": "white",
            "showbackground": true,
            "ticks": "",
            "zerolinecolor": "white"
           }
          },
          "shapedefaults": {
           "line": {
            "color": "#2a3f5f"
           }
          },
          "ternary": {
           "aaxis": {
            "gridcolor": "white",
            "linecolor": "white",
            "ticks": ""
           },
           "baxis": {
            "gridcolor": "white",
            "linecolor": "white",
            "ticks": ""
           },
           "bgcolor": "#E5ECF6",
           "caxis": {
            "gridcolor": "white",
            "linecolor": "white",
            "ticks": ""
           }
          },
          "title": {
           "x": 0.05
          },
          "xaxis": {
           "automargin": true,
           "gridcolor": "white",
           "linecolor": "white",
           "ticks": "",
           "title": {
            "standoff": 15
           },
           "zerolinecolor": "white",
           "zerolinewidth": 2
          },
          "yaxis": {
           "automargin": true,
           "gridcolor": "white",
           "linecolor": "white",
           "ticks": "",
           "title": {
            "standoff": 15
           },
           "zerolinecolor": "white",
           "zerolinewidth": 2
          }
         }
        },
        "width": 750,
        "xaxis": {
         "anchor": "y",
         "autorange": true,
         "domain": [
          0,
          0.45
         ],
         "range": [
          -4.267602960163378,
          38.092453102448005
         ],
         "title": {
          "text": "x position"
         },
         "type": "linear"
        },
        "xaxis2": {
         "anchor": "y2",
         "autorange": true,
         "domain": [
          0.55,
          1
         ],
         "range": [
          -0.10913384117104385,
          321.10913384117106
         ],
         "title": {
          "text": "Time (seconds)"
         },
         "type": "linear"
        },
        "xaxis3": {
         "anchor": "y3",
         "autorange": true,
         "domain": [
          0.55,
          1
         ],
         "range": [
          -0.10913384117104385,
          321.10913384117106
         ],
         "title": {
          "text": "Time (seconds)"
         },
         "type": "linear"
        },
        "yaxis": {
         "anchor": "x",
         "autorange": true,
         "domain": [
          0,
          1
         ],
         "range": [
          -6.153778566595946,
          26.02888709777817
         ],
         "title": {
          "text": "y position"
         },
         "type": "linear"
        },
        "yaxis2": {
         "anchor": "x2",
         "autorange": true,
         "domain": [
          0.625,
          1
         ],
         "range": [
          -493.9110969365012,
          5194.184898387362
         ],
         "title": {
          "text": "Uncertainty"
         },
         "type": "linear"
        },
        "yaxis3": {
         "anchor": "x3",
         "autorange": true,
         "domain": [
          0,
          0.375
         ],
         "range": [
          -15.192868306305296,
          159.7748524428734
         ],
         "title": {
          "text": "Uncertainty"
         },
         "type": "linear"
        }
       }
      },
      "image/png": "[encoded data removed]",
      "text/html": [
       "<div>                            <div id=\"641e1a1e-171f-4ef9-a590-2b7dcd886d97\" class=\"plotly-graph-div\" style=\"height:500px; width:750px;\"></div>            <script type=\"text/javascript\">                require([\"plotly\"], function(Plotly) {                    window.PLOTLYENV=window.PLOTLYENV || {};                                    if (document.getElementById(\"641e1a1e-171f-4ef9-a590-2b7dcd886d97\")) {                    Plotly.newPlot(                        \"641e1a1e-171f-4ef9-a590-2b7dcd886d97\",                        [{\"line\":{\"color\":\"black\",\"width\":1},\"mode\":\"lines\",\"name\":\"Truth\",\"showlegend\":true,\"x\":[0.0,0.2,0.4,0.6000000000000001,0.8,1.0,1.2000000000000002,1.4,1.6,1.8,2.0,2.2,2.4000000000000004,2.6,2.8000000000000003,3.0,3.2,3.4000000000000004,3.6,3.8,4.0,4.2,4.4,4.6000000000000005,4.800000000000001,5.0,5.2,5.4,5.6000000000000005,5.800000000000001,6.0,6.2,6.4,6.6000000000000005,6.800000000000001,7.0,7.2,7.4,7.6,7.800000000000001,8.0,8.200000000000001,8.4,8.6,8.8,9.0,9.2,9.4,9.6,9.8,10.0,10.2,10.4,10.6,10.8,11.0,11.2,11.4,11.6,11.8,12.0,12.2,12.4,12.6,12.8,13.0,13.2,13.4,13.6,13.8,14.0,14.2,14.4,14.6,14.8,15.0,15.2,15.4,15.6,15.8,16.0,16.2,16.400000000000002,16.6,16.8,17.0,17.2,17.400000000000002,17.6,17.8,18.0,18.2,18.4,18.6,18.8,19.0,19.200000000000003,19.4,19.6,19.8,20.0,20.200000000000003,20.4,20.6,20.8,21.0,21.200000000000003,21.4,21.6,21.8,22.0,22.200000000000003,22.4,22.6,22.8,23.0,23.200000000000003,23.4,23.6,23.8,24.0,24.104490960131542,24.20852300550108,24.31209415548843,24.41520243824819,24.51784589074728,24.62002255880233,24.721730497116855,24.82296776931832,24.923732447994997,25.024022614732647,25.123836360151067,25.22317178394042,25.322026994897428,25.420400110961367,25.51828925924991,25.615692576094784,25.71260820707723,25.809034307063342,25.904969040239173,26.000410580145687,26.095357109713536,26.189806821297665,26.283757916711707,26.377208607262236,26.470157113782815,26.562601666667856,26.65454050590633,26.745971881115263,26.836894051573072,26.92730528625269,27.01720386385452,27.106588072839255,27.195456211460385,27.283806587796654,27.371637519784255,27.458947335248848,27.545734371937392,27.631996977549814,27.717733509770454,27.80294233629932,27.887621834883184,27.97177039334645,28.055386409621867,28.138468291781013,28.221014458064612,28.30302333691265,28.38449336699428,28.465422997237564,28.545810686859006,28.62565490539287,28.704954132720335,28.783706859098412,28.861911585188707,28.939566822085972,29.01667109134643,29.093222925015944,29.16922086565794,29.244663466381184,29.3195492908673,29.393876913398135,29.467644918882907,29.540851902885116,29.613496471649317,29.685577242127636,29.757092842006102,29.828041909730786,29.898423094533698,29.96823505645854,30.037476466386188,30.10614600606001,30.174242368110946,30.24176425608243,30.30871038445504,30.375079478670997,30.440870275158417,30.50608152135537,30.57071197573372,30.634760407822785,30.698225598232742,30.761106338677852,30.823401431999457,30.885109692188763,30.946229944409463,31.00676102502005,31.06670178159601,31.12605107295173,31.184807769162255,31.24297075158479,31.300538912879983,31.35751115703304,31.413886399374544,31.469663566601145,31.52484159679598,31.579419439448895,31.633396055476435,31.686770417241636,31.73954150857359,31.791708324786786,31.843269872700237,31.89422517065639,31.94457324853984,31.994313147795744,32.04344392144812,32.091964634117865,32.13987436204055,32.18717219308402,32.233857226765736,32.27992857426996,32.325385358464644,32.37022671391814,32.41445178691569,32.458059735475636,32.501049729365505,32.543420950117785,32.585172591045506,32.626303857257604,32.666813965674066,32.706702145040815,32.745967635944425,32.784609690826535,32.82262757399814,32.86002056165353,32.89678794188412,32.932929014692,32.968443092003234,33.00332949768099,33.037587567538374,33.071216649351136,33.10421610287003,33.13658529983303,33.16832362397727,33.199430471050825,33.22990524882415,33.25974737710143,33.28895628773154,33.31753142461892,33.345472243734164,33.372778213124356,33.3994488129232,33.425483535360904,33.45088188477389,33.475643377614205,33.49976754245871,33.523253920018085,33.546102063145554,33.5683115368454,33.589881918281264,33.610812796784174,33.63110377386038,33.65075446319892,33.66976449067901,33.68813349437711,33.70586112457388,33.72294704376078,33.739390926646564,33.755192460163386,33.770351343472825,33.78486728797159,33.79874001729704,33.8119692673324,33.824554786211806,33.83649633432513,33.84779368432251,33.85844662111869,33.8684549418971,33.87781845611374,33.8865369855008,33.89461036407004,33.90203843811599,33.908821066218806,33.91495811924704,33.92044948036004,33.92529504501021,33.92949472094498,33.93304842820858,33.935956099143546,33.93821767839201,33.939833122896765,33.940802401902076,33.941125496954264],\"y\":[0.0,0.2,0.4,0.6000000000000001,0.8,1.0,1.2000000000000002,1.4,1.6,1.8,2.0,2.2,2.4000000000000004,2.6,2.8000000000000003,3.0,3.2,3.4000000000000004,3.6,3.8,4.0,4.2,4.4,4.6000000000000005,4.800000000000001,5.0,5.2,5.4,5.6000000000000005,5.800000000000001,6.0,6.2,6.4,6.6000000000000005,6.800000000000001,7.0,7.2,7.4,7.6,7.800000000000001,8.0,8.200000000000001,8.4,8.6,8.8,9.0,9.2,9.4,9.6,9.8,10.0,10.2,10.4,10.6,10.8,11.0,11.2,11.4,11.6,11.8,12.0,12.2,12.4,12.6,12.8,13.0,13.2,13.4,13.6,13.8,14.0,14.2,14.4,14.6,14.8,15.0,15.2,15.4,15.6,15.8,16.0,16.2,16.400000000000002,16.6,16.8,17.0,17.2,17.400000000000002,17.6,17.8,18.0,18.2,18.4,18.6,18.8,19.0,19.200000000000003,19.4,19.6,19.8,20.0,20.200000000000003,20.4,20.6,20.8,21.0,21.200000000000003,21.4,21.6,21.8,22.0,22.200000000000003,22.4,22.6,22.8,23.0,23.200000000000003,23.4,23.6,23.8,24.0,23.89505211446371,23.789649301579136,23.6837935680639,23.577486929258583,23.470731409088348,23.363529040024417,23.255881863045364,23.14779192759827,23.0392612915597,22.93029202119652,22.82088619112656,22.711045884279116,22.600773191855307,22.49007021328824,22.378939056203045,22.26738183637677,22.155400677698072,22.04299771212679,21.930175079653367,21.816934928258092,21.70327941387022,21.589210700326912,21.47473095933205,21.35984237041487,21.24454712088852,21.128847405808337,21.012745427930124,20.896243397668187,20.779343533053243,20.66204805969021,20.54435921071582,20.426279226756115,20.30781035588378,20.18895485357535,20.069714982668255,19.950093013317765,19.83009122295374,19.70971189623729,19.588957325017276,19.467829808286663,19.34633165213878,19.224465169723373,19.102232681202604,18.97963651370686,18.856679001290455,18.73336248488718,18.60968931226575,18.485661837985113,18.361282423349586,18.23655343636393,18.11147725168828,17.986056250592885,17.86029282091282,17.734189357002506,17.60774825969012,17.48097193623189,17.35386280026627,17.22642327176799,17.098655777001973,16.97056274847714,16.842146624900117,16.713409851128787,16.584354878125755,16.454984162911675,16.32530016851848,16.19530536394249,16.065002224097405,15.934393229767172,15.80348086755878,15.672267629854892,15.540756014766425,15.408948526084949,15.27684767323506,15.144455971226574,15.01177594060666,14.878810107411844,14.745561003119928,14.61203116460178,14.47822313407305,14.344139459045754,14.209782692279791,14.075155391734327,13.940260120519104,13.80509944684564,13.669675943978328,13.533992190185458,13.398050768690116,13.261854267621011,13.125405279963203,12.988706403508733,12.851760240807153,12.714569399116002,12.57713649035115,12.439464131037072,12.301554942257042,12.16341154960322,12.025036583126674,11.886432677287305,11.74760247090368,11.608548607102817,11.469273733269834,11.329780500997574,11.1900715660361,11.050149588242151,10.910017231528492,10.769677163813194,10.629132056968851,10.488384586771708,10.347437432850716,10.20629327863651,10.064954811310336,9.923424721752871,9.781705704493016,9.639800457656571,9.497711682914886,9.355442085433417,9.212994373820216,9.070371260074385,8.92757545953442,8.78460969082653,8.641476675812868,8.498179139539719,8.354719810185616,8.211101419009395,8.067326700298205,7.923398391315442,7.779319232248642,7.635091966157306,7.490719338920683,7.346204099185487,7.201548998313567,7.056756790329528,6.911830231868298,6.766772082122642,6.621585102790633,6.476272058023078,6.330835714370883,6.18527884073239,6.0396042083006565,5.893814590510699,5.747912762986688,5.601901503489109,5.45578359186187,5.309561809979385,5.163238941693606,5.016817772781026,4.87030109088964,4.723691685485871,4.576992347801466,4.43020587078035,4.283335049025459,4.13638267874553,3.989351557701865,3.8422444851550672,3.695064261811748,3.5478136897712047,3.4004955724720713,3.253112714638947,3.105667922228997,2.9581640023785316,2.810603763349562,2.6629900144763377,2.5153255661118545,2.3676132295743564,2.219855817093808,2.0720561417583556,1.924217017460769,1.7763412588448684,1.6284316812519404,1.480491100667135,1.3325223336658552,1.1845281973601318,1.0365115093449913,0.888475087644812,0.7404217506596732,0.5923543171116968,0.444275605991383,0.2961884365039407,0.1480956280156137,4.6278366804520154e-15],\"type\":\"scatter\",\"xaxis\":\"x\",\"yaxis\":\"y\"},{\"marker\":{\"color\":\"red\",\"size\":8,\"symbol\":\"square\"},\"mode\":\"markers\",\"name\":\"Measurements\",\"opacity\":0.6,\"showlegend\":true,\"x\":[0.1645067554337316,1.673485754015282,3.607767564683339,5.983959178032794,7.821226215471189,10.8124955042768,12.378312343926106,14.28204248279673,15.93924982764213,18.38825635003452,20.31735879493016,21.292022465410504,24.271337844499634,25.14067569692806,25.64433939987682,26.718298664805356,28.330577437355423,28.49374481643807,29.119559446214,30.354714959537404,30.478333465757363,31.61611609009564,31.075350998741243,32.49009733669481,32.80367271397379,33.563762055670814,33.23426286107128,33.74904801868261,33.41906726397238,35.30872570301677,34.09260850624021],\"y\":[-0.6773368063996718,1.926378550122423,3.176226246136001,5.490155013522891,8.538705023230774,10.100023480313206,11.871474000021548,13.176835848515983,16.788078162539016,18.3289434648906,20.32889573955765,21.907218555450346,23.975241857869214,22.655178937737485,22.49658154476845,20.20552418478216,18.930851811775646,18.392828133375467,17.15387757161697,15.545738598094806,15.012147796050664,12.920111851934468,11.803422222042258,10.709625299358336,8.307350966299257,7.493816586136845,5.875828086684717,4.209395623311487,2.5087960690817352,1.8061795494712096,-0.0082318073976205],\"type\":\"scatter\",\"xaxis\":\"x\",\"yaxis\":\"y\"},{\"marker\":{\"color\":\"blue\",\"size\":8,\"symbol\":\"circle\"},\"mode\":\"markers\",\"name\":\"Kalman Filter\",\"opacity\":0.6,\"showlegend\":true,\"x\":[3.607767564683339,-1.4838755607321428,7.595681302114539,11.097563556537963,12.218250575666069,14.33409400064345,15.925014221594342,18.387891595844803,20.323686127506626,21.291078107440065,24.259032951860274,25.163481527180622,25.627424046976653,26.720966666459645,28.330120804710372,28.502218091310652,29.107820217171977,30.358933450182498,30.4841596343936,31.60442523337153,31.091671773327764,32.46799022537767,32.82568279136992,33.54836615383891,33.24672862441297,33.73598146718619,33.431464706478515,35.290794155790124,34.12252819200072],\"y\":[3.176226246136001,-4.100133326686989,8.245750232884863,10.494854999226618,11.628300141153616,13.271691706383407,16.74394771658264,18.36290857395666,20.305110894389625,21.920112067266103,23.966604023324003,22.674888386733794,22.4690766693013,20.23079270920937,18.907425759486962,18.403329570409404,17.15617949963858,15.54295023162225,15.007217263999063,12.93348569091048,11.78702873139298,10.720359339062952,8.308858793913657,7.480524863605954,5.891718035711714,4.199694838983969,2.512436338193131,1.8005664159371457,0.0029928011451541003],\"type\":\"scatter\",\"xaxis\":\"x\",\"yaxis\":\"y\"},{\"marker\":{\"color\":\"rgb(27,158,119)\",\"size\":8,\"symbol\":\"diamond\"},\"mode\":\"markers\",\"name\":\"Uncertainty After Prediction\",\"opacity\":0.6,\"showlegend\":true,\"x\":[21,31,41,51,61,71,81,91,101,111,121,130,140,150,160,170,180,190,200,210,220,230,240,250,260,270,280,290,300],\"y\":[1e-06,1.002601,2601.991811491472,3307.5113772959276,4241.585250752403,4633.056323620995,4692.696685860473,4699.520364553955,4700.203781198867,4700.2675787038,4700.2732644023,4700.273755277994,4700.273796705381,4700.273800144036,4700.273800425955,4700.273800448855,4700.273800450699,4700.273800450841,4700.273800450856,4700.273800450861,4700.273800450855,4700.273800450855,4700.2738004508565,4700.273800450854,4700.273800450852,4700.273800450848,4700.273800450848,4700.2738004508565,4700.273800450857],\"type\":\"scatter\",\"xaxis\":\"x2\",\"yaxis\":\"y2\"},{\"marker\":{\"color\":\"rgb(217,95,2)\",\"size\":8,\"symbol\":\"diamond\"},\"mode\":\"markers\",\"name\":\"Uncertainty After Measurement\",\"opacity\":0.6,\"showlegend\":true,\"x\":[21,31,41,51,61,71,81,91,101,111,121,130,140,150,160,170,180,190,200,210,220,230,240,250,260,270,280,290,300],\"y\":[1e-06,0.9547398438888594,19.847444222271438,19.87979004287431,19.90613821466334,19.914034997176067,19.915122905914966,19.915245624745218,19.915257895942283,19.915259041287268,19.91525914336007,19.91525915217253,19.91525915291626,19.91525915297799,19.915259152983054,19.915259152983463,19.915259152983495,19.915259152983502,19.915259152983502,19.915259152983502,19.9152591529835,19.9152591529835,19.9152591529835,19.915259152983502,19.915259152983502,19.915259152983502,19.915259152983502,19.9152591529835,19.915259152983502],\"type\":\"scatter\",\"xaxis\":\"x2\",\"yaxis\":\"y2\"},{\"marker\":{\"color\":\"rgb(27,158,119)\",\"size\":8,\"symbol\":\"diamond\"},\"mode\":\"markers\",\"name\":\"Uncertainty After Prediction\",\"opacity\":0.6,\"showlegend\":false,\"x\":[21,31,41,51,61,71,81,91,101,111,121,130,140,150,160,170,180,190,200,210,220,230,240,250,260,270,280,290,300],\"y\":[1e-06,1.000101,102.00040095142984,113.94094683155782,133.72075960794254,142.9559256401768,144.39640909393614,144.56340080812015,144.5802483127507,144.58182850650263,144.58196978488172,144.58198200963383,144.58198304301942,144.581983128898,144.58198313594505,144.58198313651786,144.58198313656402,144.58198313656766,144.581983136568,144.5819831365681,144.581983136568,144.58198313656797,144.581983136568,144.581983136568,144.5819831365679,144.58198313656786,144.58198313656783,144.58198313656803,144.581983136568],\"type\":\"scatter\",\"xaxis\":\"x3\",\"yaxis\":\"y3\"},{\"marker\":{\"color\":\"rgb(217,95,2)\",\"size\":8,\"symbol\":\"diamond\"},\"mode\":\"markers\",\"name\":\"Uncertainty After Prediction\",\"opacity\":0.6,\"showlegend\":false,\"x\":[21,31,41,51,61,71,81,91,101,111,121,130,140,150,160,170,180,190,200,210,220,230,240,250,260,270,280,290,300],\"y\":[1e-06,1.0001009876158196,2.799461526535424,5.7051331042013675,6.608500564130103,6.73962691932131,6.754121549954806,6.755547038999613,6.7556784918249795,6.755690111042062,6.755691108342439,6.755691192153502,6.755691199088392,6.755691199655633,6.755691199701616,6.755691199705314,6.755691199705581,6.755691199705628,6.755691199705628,6.755691199705599,6.755691199705619,6.755691199705628,6.755691199705599,6.755691199705599,6.755691199705571,6.755691199705599,6.755691199705628,6.755691199705628,6.755691199705627],\"type\":\"scatter\",\"xaxis\":\"x3\",\"yaxis\":\"y3\"}],                        {\"template\":{\"data\":{\"histogram2dcontour\":[{\"type\":\"histogram2dcontour\",\"colorbar\":{\"outlinewidth\":0,\"ticks\":\"\"},\"colorscale\":[[0.0,\"#0d0887\"],[0.1111111111111111,\"#46039f\"],[0.2222222222222222,\"#7201a8\"],[0.3333333333333333,\"#9c179e\"],[0.4444444444444444,\"#bd3786\"],[0.5555555555555556,\"#d8576b\"],[0.6666666666666666,\"#ed7953\"],[0.7777777777777778,\"#fb9f3a\"],[0.8888888888888888,\"#fdca26\"],[1.0,\"#f0f921\"]]}],\"choropleth\":[{\"type\":\"choropleth\",\"colorbar\":{\"outlinewidth\":0,\"ticks\":\"\"}}],\"histogram2d\":[{\"type\":\"histogram2d\",\"colorbar\":{\"outlinewidth\":0,\"ticks\":\"\"},\"colorscale\":[[0.0,\"#0d0887\"],[0.1111111111111111,\"#46039f\"],[0.2222222222222222,\"#7201a8\"],[0.3333333333333333,\"#9c179e\"],[0.4444444444444444,\"#bd3786\"],[0.5555555555555556,\"#d8576b\"],[0.6666666666666666,\"#ed7953\"],[0.7777777777777778,\"#fb9f3a\"],[0.8888888888888888,\"#fdca26\"],[1.0,\"#f0f921\"]]}],\"heatmap\":[{\"type\":\"heatmap\",\"colorbar\":{\"outlinewidth\":0,\"ticks\":\"\"},\"colorscale\":[[0.0,\"#0d0887\"],[0.1111111111111111,\"#46039f\"],[0.2222222222222222,\"#7201a8\"],[0.3333333333333333,\"#9c179e\"],[0.4444444444444444,\"#bd3786\"],[0.5555555555555556,\"#d8576b\"],[0.6666666666666666,\"#ed7953\"],[0.7777777777777778,\"#fb9f3a\"],[0.8888888888888888,\"#fdca26\"],[1.0,\"#f0f921\"]]}],\"heatmapgl\":[{\"type\":\"heatmapgl\",\"colorbar\":{\"outlinewidth\":0,\"ticks\":\"\"},\"colorscale\":[[0.0,\"#0d0887\"],[0.1111111111111111,\"#46039f\"],[0.2222222222222222,\"#7201a8\"],[0.3333333333333333,\"#9c179e\"],[0.4444444444444444,\"#bd3786\"],[0.5555555555555556,\"#d8576b\"],[0.6666666666666666,\"#ed7953\"],[0.7777777777777778,\"#fb9f3a\"],[0.8888888888888888,\"#fdca26\"],[1.0,\"#f0f921\"]]}],\"contourcarpet\":[{\"type\":\"contourcarpet\",\"colorbar\":{\"outlinewidth\":0,\"ticks\":\"\"}}],\"contour\":[{\"type\":\"contour\",\"colorbar\":{\"outlinewidth\":0,\"ticks\":\"\"},\"colorscale\":[[0.0,\"#0d0887\"],[0.1111111111111111,\"#46039f\"],[0.2222222222222222,\"#7201a8\"],[0.3333333333333333,\"#9c179e\"],[0.4444444444444444,\"#bd3786\"],[0.5555555555555556,\"#d8576b\"],[0.6666666666666666,\"#ed7953\"],[0.7777777777777778,\"#fb9f3a\"],[0.8888888888888888,\"#fdca26\"],[1.0,\"#f0f921\"]]}],\"surface\":[{\"type\":\"surface\",\"colorbar\":{\"outlinewidth\":0,\"ticks\":\"\"},\"colorscale\":[[0.0,\"#0d0887\"],[0.1111111111111111,\"#46039f\"],[0.2222222222222222,\"#7201a8\"],[0.3333333333333333,\"#9c179e\"],[0.4444444444444444,\"#bd3786\"],[0.5555555555555556,\"#d8576b\"],[0.6666666666666666,\"#ed7953\"],[0.7777777777777778,\"#fb9f3a\"],[0.8888888888888888,\"#fdca26\"],[1.0,\"#f0f921\"]]}],\"mesh3d\":[{\"type\":\"mesh3d\",\"colorbar\":{\"outlinewidth\":0,\"ticks\":\"\"}}],\"scatter\":[{\"fillpattern\":{\"fillmode\":\"overlay\",\"size\":10,\"solidity\":0.2},\"type\":\"scatter\"}],\"parcoords\":[{\"type\":\"parcoords\",\"line\":{\"colorbar\":{\"outlinewidth\":0,\"ticks\":\"\"}}}],\"scatterpolargl\":[{\"type\":\"scatterpolargl\",\"marker\":{\"colorbar\":{\"outlinewidth\":0,\"ticks\":\"\"}}}],\"bar\":[{\"error_x\":{\"color\":\"#2a3f5f\"},\"error_y\":{\"color\":\"#2a3f5f\"},\"marker\":{\"line\":{\"color\":\"#E5ECF6\",\"width\":0.5},\"pattern\":{\"fillmode\":\"overlay\",\"size\":10,\"solidity\":0.2}},\"type\":\"bar\"}],\"scattergeo\":[{\"type\":\"scattergeo\",\"marker\":{\"colorbar\":{\"outlinewidth\":0,\"ticks\":\"\"}}}],\"scatterpolar\":[{\"type\":\"scatterpolar\",\"marker\":{\"colorbar\":{\"outlinewidth\":0,\"ticks\":\"\"}}}],\"histogram\":[{\"marker\":{\"pattern\":{\"fillmode\":\"overlay\",\"size\":10,\"solidity\":0.2}},\"type\":\"histogram\"}],\"scattergl\":[{\"type\":\"scattergl\",\"marker\":{\"colorbar\":{\"outlinewidth\":0,\"ticks\":\"\"}}}],\"scatter3d\":[{\"type\":\"scatter3d\",\"line\":{\"colorbar\":{\"outlinewidth\":0,\"ticks\":\"\"}},\"marker\":{\"colorbar\":{\"outlinewidth\":0,\"ticks\":\"\"}}}],\"scattermapbox\":[{\"type\":\"scattermapbox\",\"marker\":{\"colorbar\":{\"outlinewidth\":0,\"ticks\":\"\"}}}],\"scatterternary\":[{\"type\":\"scatterternary\",\"marker\":{\"colorbar\":{\"outlinewidth\":0,\"ticks\":\"\"}}}],\"scattercarpet\":[{\"type\":\"scattercarpet\",\"marker\":{\"colorbar\":{\"outlinewidth\":0,\"ticks\":\"\"}}}],\"carpet\":[{\"aaxis\":{\"endlinecolor\":\"#2a3f5f\",\"gridcolor\":\"white\",\"linecolor\":\"white\",\"minorgridcolor\":\"white\",\"startlinecolor\":\"#2a3f5f\"},\"baxis\":{\"endlinecolor\":\"#2a3f5f\",\"gridcolor\":\"white\",\"linecolor\":\"white\",\"minorgridcolor\":\"white\",\"startlinecolor\":\"#2a3f5f\"},\"type\":\"carpet\"}],\"table\":[{\"cells\":{\"fill\":{\"color\":\"#EBF0F8\"},\"line\":{\"color\":\"white\"}},\"header\":{\"fill\":{\"color\":\"#C8D4E3\"},\"line\":{\"color\":\"white\"}},\"type\":\"table\"}],\"barpolar\":[{\"marker\":{\"line\":{\"color\":\"#E5ECF6\",\"width\":0.5},\"pattern\":{\"fillmode\":\"overlay\",\"size\":10,\"solidity\":0.2}},\"type\":\"barpolar\"}],\"pie\":[{\"automargin\":true,\"type\":\"pie\"}]},\"layout\":{\"autotypenumbers\":\"strict\",\"colorway\":[\"#636efa\",\"#EF553B\",\"#00cc96\",\"#ab63fa\",\"#FFA15A\",\"#19d3f3\",\"#FF6692\",\"#B6E880\",\"#FF97FF\",\"#FECB52\"],\"font\":{\"color\":\"#2a3f5f\"},\"hovermode\":\"closest\",\"hoverlabel\":{\"align\":\"left\"},\"paper_bgcolor\":\"white\",\"plot_bgcolor\":\"#E5ECF6\",\"polar\":{\"bgcolor\":\"#E5ECF6\",\"angularaxis\":{\"gridcolor\":\"white\",\"linecolor\":\"white\",\"ticks\":\"\"},\"radialaxis\":{\"gridcolor\":\"white\",\"linecolor\":\"white\",\"ticks\":\"\"}},\"ternary\":{\"bgcolor\":\"#E5ECF6\",\"aaxis\":{\"gridcolor\":\"white\",\"linecolor\":\"white\",\"ticks\":\"\"},\"baxis\":{\"gridcolor\":\"white\",\"linecolor\":\"white\",\"ticks\":\"\"},\"caxis\":{\"gridcolor\":\"white\",\"linecolor\":\"white\",\"ticks\":\"\"}},\"coloraxis\":{\"colorbar\":{\"outlinewidth\":0,\"ticks\":\"\"}},\"colorscale\":{\"sequential\":[[0.0,\"#0d0887\"],[0.1111111111111111,\"#46039f\"],[0.2222222222222222,\"#7201a8\"],[0.3333333333333333,\"#9c179e\"],[0.4444444444444444,\"#bd3786\"],[0.5555555555555556,\"#d8576b\"],[0.6666666666666666,\"#ed7953\"],[0.7777777777777778,\"#fb9f3a\"],[0.8888888888888888,\"#fdca26\"],[1.0,\"#f0f921\"]],\"sequentialminus\":[[0.0,\"#0d0887\"],[0.1111111111111111,\"#46039f\"],[0.2222222222222222,\"#7201a8\"],[0.3333333333333333,\"#9c179e\"],[0.4444444444444444,\"#bd3786\"],[0.5555555555555556,\"#d8576b\"],[0.6666666666666666,\"#ed7953\"],[0.7777777777777778,\"#fb9f3a\"],[0.8888888888888888,\"#fdca26\"],[1.0,\"#f0f921\"]],\"diverging\":[[0,\"#8e0152\"],[0.1,\"#c51b7d\"],[0.2,\"#de77ae\"],[0.3,\"#f1b6da\"],[0.4,\"#fde0ef\"],[0.5,\"#f7f7f7\"],[0.6,\"#e6f5d0\"],[0.7,\"#b8e186\"],[0.8,\"#7fbc41\"],[0.9,\"#4d9221\"],[1,\"#276419\"]]},\"xaxis\":{\"gridcolor\":\"white\",\"linecolor\":\"white\",\"ticks\":\"\",\"title\":{\"standoff\":15},\"zerolinecolor\":\"white\",\"automargin\":true,\"zerolinewidth\":2},\"yaxis\":{\"gridcolor\":\"white\",\"linecolor\":\"white\",\"ticks\":\"\",\"title\":{\"standoff\":15},\"zerolinecolor\":\"white\",\"automargin\":true,\"zerolinewidth\":2},\"scene\":{\"xaxis\":{\"backgroundcolor\":\"#E5ECF6\",\"gridcolor\":\"white\",\"linecolor\":\"white\",\"showbackground\":true,\"ticks\":\"\",\"zerolinecolor\":\"white\",\"gridwidth\":2},\"yaxis\":{\"backgroundcolor\":\"#E5ECF6\",\"gridcolor\":\"white\",\"linecolor\":\"white\",\"showbackground\":true,\"ticks\":\"\",\"zerolinecolor\":\"white\",\"gridwidth\":2},\"zaxis\":{\"backgroundcolor\":\"#E5ECF6\",\"gridcolor\":\"white\",\"linecolor\":\"white\",\"showbackground\":true,\"ticks\":\"\",\"zerolinecolor\":\"white\",\"gridwidth\":2}},\"shapedefaults\":{\"line\":{\"color\":\"#2a3f5f\"}},\"annotationdefaults\":{\"arrowcolor\":\"#2a3f5f\",\"arrowhead\":0,\"arrowwidth\":1},\"geo\":{\"bgcolor\":\"white\",\"landcolor\":\"#E5ECF6\",\"subunitcolor\":\"white\",\"showland\":true,\"showlakes\":true,\"lakecolor\":\"white\"},\"title\":{\"x\":0.05},\"mapbox\":{\"style\":\"light\"}}},\"xaxis\":{\"anchor\":\"y\",\"domain\":[0.0,0.45],\"title\":{\"text\":\"x position\"}},\"yaxis\":{\"anchor\":\"x\",\"domain\":[0.0,1.0],\"title\":{\"text\":\"y position\"}},\"xaxis2\":{\"anchor\":\"y2\",\"domain\":[0.55,1.0],\"title\":{\"text\":\"Time (seconds)\"}},\"yaxis2\":{\"anchor\":\"x2\",\"domain\":[0.625,1.0],\"title\":{\"text\":\"Uncertainty\"}},\"xaxis3\":{\"anchor\":\"y3\",\"domain\":[0.55,1.0],\"title\":{\"text\":\"Time (seconds)\"}},\"yaxis3\":{\"anchor\":\"x3\",\"domain\":[0.0,0.375],\"title\":{\"text\":\"Uncertainty\"}},\"annotations\":[{\"font\":{\"size\":16},\"showarrow\":false,\"text\":\"Filter Performance\",\"x\":0.225,\"xanchor\":\"center\",\"xref\":\"paper\",\"y\":1.0,\"yanchor\":\"bottom\",\"yref\":\"paper\"},{\"font\":{\"size\":16},\"showarrow\":false,\"text\":\"Position Uncertainty\",\"x\":0.775,\"xanchor\":\"center\",\"xref\":\"paper\",\"y\":1.0,\"yanchor\":\"bottom\",\"yref\":\"paper\"},{\"font\":{\"size\":16},\"showarrow\":false,\"text\":\"Velocity Uncertainty\",\"x\":0.775,\"xanchor\":\"center\",\"xref\":\"paper\",\"y\":0.375,\"yanchor\":\"bottom\",\"yref\":\"paper\"}],\"margin\":{\"t\":30,\"b\":0,\"l\":0,\"r\":0},\"legend\":{\"orientation\":\"h\",\"yanchor\":\"bottom\",\"y\":-0.3,\"xanchor\":\"center\",\"x\":0.5,\"bgcolor\":\"white\",\"bordercolor\":\"black\",\"borderwidth\":2},\"width\":750,\"height\":500,\"showlegend\":true},                        {\"responsive\": true}                    ).then(function(){\n",
       "                            \n",
       "var gd = document.getElementById('641e1a1e-171f-4ef9-a590-2b7dcd886d97');\n",
       "var x = new MutationObserver(function (mutations, observer) {{\n",
       "        var display = window.getComputedStyle(gd).display;\n",
       "        if (!display || display === 'none') {{\n",
       "            console.log([gd, 'removed!']);\n",
       "            Plotly.purge(gd);\n",
       "            observer.disconnect();\n",
       "        }}\n",
       "}});\n",
       "\n",
       "// Listen for the removal of the full notebook cells\n",
       "var notebookContainer = gd.closest('#notebook-container');\n",
       "if (notebookContainer) {{\n",
       "    x.observe(notebookContainer, {childList: true});\n",
       "}}\n",
       "\n",
       "// Listen for the clearing of the current output cell\n",
       "var outputEl = gd.closest('.output');\n",
       "if (outputEl) {{\n",
       "    x.observe(outputEl, {childList: true});\n",
       "}}\n",
       "\n",
       "                        })                };                });            </script>        </div>"
      ]
     },
     "metadata": {},
     "output_type": "display_data"
    }
   ],
   "source": [
    "fig = maneuver_const_acc(meas_noise=20,process_noise=1,leg_pos=-0.3,height=500,width=750)\n",
    "fig.show()"
   ]
  },
  {
   "cell_type": "markdown",
   "id": "0ebe15c7-d900-46a3-bc70-6488d240203b",
   "metadata": {},
   "source": [
    "Now, an incorrect model (constant velocity) will be utilized."
   ]
  },
  {
   "cell_type": "code",
   "execution_count": 21,
   "id": "c4616eac-8eb9-4cd0-ba8d-a5a0b0f606f4",
   "metadata": {
    "tags": []
   },
   "outputs": [
    {
     "data": {
      "application/vnd.plotly.v1+json": {
       "config": {
        "plotlyServerURL": "https://plot.ly"
       },
       "data": [
        {
         "line": {
          "color": "black",
          "width": 1
         },
         "mode": "lines",
         "name": "Truth",
         "showlegend": true,
         "type": "scatter",
         "x": [
          0,
          0.2,
          0.4,
          0.6000000000000001,
          0.8,
          1,
          1.2000000000000002,
          1.4,
          1.6,
          1.8,
          2,
          2.2,
          2.4000000000000004,
          2.6,
          2.8000000000000003,
          3,
          3.2,
          3.4000000000000004,
          3.6,
          3.8,
          4,
          4.2,
          4.4,
          4.6000000000000005,
          4.800000000000001,
          5,
          5.2,
          5.4,
          5.6000000000000005,
          5.800000000000001,
          6,
          6.2,
          6.4,
          6.6000000000000005,
          6.800000000000001,
          7,
          7.2,
          7.4,
          7.6,
          7.800000000000001,
          8,
          8.200000000000001,
          8.4,
          8.6,
          8.8,
          9,
          9.2,
          9.4,
          9.6,
          9.8,
          10,
          10.2,
          10.4,
          10.6,
          10.8,
          11,
          11.2,
          11.4,
          11.6,
          11.8,
          12,
          12.2,
          12.4,
          12.6,
          12.8,
          13,
          13.2,
          13.4,
          13.6,
          13.8,
          14,
          14.2,
          14.4,
          14.6,
          14.8,
          15,
          15.2,
          15.4,
          15.6,
          15.8,
          16,
          16.2,
          16.400000000000002,
          16.6,
          16.8,
          17,
          17.2,
          17.400000000000002,
          17.6,
          17.8,
          18,
          18.2,
          18.4,
          18.6,
          18.8,
          19,
          19.200000000000003,
          19.4,
          19.6,
          19.8,
          20,
          20.200000000000003,
          20.4,
          20.6,
          20.8,
          21,
          21.200000000000003,
          21.4,
          21.6,
          21.8,
          22,
          22.200000000000003,
          22.4,
          22.6,
          22.8,
          23,
          23.200000000000003,
          23.4,
          23.6,
          23.8,
          24,
          24.104490960131542,
          24.20852300550108,
          24.31209415548843,
          24.41520243824819,
          24.51784589074728,
          24.62002255880233,
          24.721730497116855,
          24.82296776931832,
          24.923732447994997,
          25.024022614732647,
          25.123836360151067,
          25.22317178394042,
          25.322026994897428,
          25.420400110961367,
          25.51828925924991,
          25.615692576094784,
          25.71260820707723,
          25.809034307063342,
          25.904969040239173,
          26.000410580145687,
          26.095357109713536,
          26.189806821297665,
          26.283757916711707,
          26.377208607262236,
          26.470157113782815,
          26.562601666667856,
          26.65454050590633,
          26.745971881115263,
          26.836894051573072,
          26.92730528625269,
          27.01720386385452,
          27.106588072839255,
          27.195456211460385,
          27.283806587796654,
          27.371637519784255,
          27.458947335248848,
          27.545734371937392,
          27.631996977549814,
          27.717733509770454,
          27.80294233629932,
          27.887621834883184,
          27.97177039334645,
          28.055386409621867,
          28.138468291781013,
          28.221014458064612,
          28.30302333691265,
          28.38449336699428,
          28.465422997237564,
          28.545810686859006,
          28.62565490539287,
          28.704954132720335,
          28.783706859098412,
          28.861911585188707,
          28.939566822085972,
          29.01667109134643,
          29.093222925015944,
          29.16922086565794,
          29.244663466381184,
          29.3195492908673,
          29.393876913398135,
          29.467644918882907,
          29.540851902885116,
          29.613496471649317,
          29.685577242127636,
          29.757092842006102,
          29.828041909730786,
          29.898423094533698,
          29.96823505645854,
          30.037476466386188,
          30.10614600606001,
          30.174242368110946,
          30.24176425608243,
          30.30871038445504,
          30.375079478670997,
          30.440870275158417,
          30.50608152135537,
          30.57071197573372,
          30.634760407822785,
          30.698225598232742,
          30.761106338677852,
          30.823401431999457,
          30.885109692188763,
          30.946229944409463,
          31.00676102502005,
          31.06670178159601,
          31.12605107295173,
          31.184807769162255,
          31.24297075158479,
          31.300538912879983,
          31.35751115703304,
          31.413886399374544,
          31.469663566601145,
          31.52484159679598,
          31.579419439448895,
          31.633396055476435,
          31.686770417241636,
          31.73954150857359,
          31.791708324786786,
          31.843269872700237,
          31.89422517065639,
          31.94457324853984,
          31.994313147795744,
          32.04344392144812,
          32.091964634117865,
          32.13987436204055,
          32.18717219308402,
          32.233857226765736,
          32.27992857426996,
          32.325385358464644,
          32.37022671391814,
          32.41445178691569,
          32.458059735475636,
          32.501049729365505,
          32.543420950117785,
          32.585172591045506,
          32.626303857257604,
          32.666813965674066,
          32.706702145040815,
          32.745967635944425,
          32.784609690826535,
          32.82262757399814,
          32.86002056165353,
          32.89678794188412,
          32.932929014692,
          32.968443092003234,
          33.00332949768099,
          33.037587567538374,
          33.071216649351136,
          33.10421610287003,
          33.13658529983303,
          33.16832362397727,
          33.199430471050825,
          33.22990524882415,
          33.25974737710143,
          33.28895628773154,
          33.31753142461892,
          33.345472243734164,
          33.372778213124356,
          33.3994488129232,
          33.425483535360904,
          33.45088188477389,
          33.475643377614205,
          33.49976754245871,
          33.523253920018085,
          33.546102063145554,
          33.5683115368454,
          33.589881918281264,
          33.610812796784174,
          33.63110377386038,
          33.65075446319892,
          33.66976449067901,
          33.68813349437711,
          33.70586112457388,
          33.72294704376078,
          33.739390926646564,
          33.755192460163386,
          33.770351343472825,
          33.78486728797159,
          33.79874001729704,
          33.8119692673324,
          33.824554786211806,
          33.83649633432513,
          33.84779368432251,
          33.85844662111869,
          33.8684549418971,
          33.87781845611374,
          33.8865369855008,
          33.89461036407004,
          33.90203843811599,
          33.908821066218806,
          33.91495811924704,
          33.92044948036004,
          33.92529504501021,
          33.92949472094498,
          33.93304842820858,
          33.935956099143546,
          33.93821767839201,
          33.939833122896765,
          33.940802401902076,
          33.941125496954264
         ],
         "xaxis": "x",
         "y": [
          0,
          0.2,
          0.4,
          0.6000000000000001,
          0.8,
          1,
          1.2000000000000002,
          1.4,
          1.6,
          1.8,
          2,
          2.2,
          2.4000000000000004,
          2.6,
          2.8000000000000003,
          3,
          3.2,
          3.4000000000000004,
          3.6,
          3.8,
          4,
          4.2,
          4.4,
          4.6000000000000005,
          4.800000000000001,
          5,
          5.2,
          5.4,
          5.6000000000000005,
          5.800000000000001,
          6,
          6.2,
          6.4,
          6.6000000000000005,
          6.800000000000001,
          7,
          7.2,
          7.4,
          7.6,
          7.800000000000001,
          8,
          8.200000000000001,
          8.4,
          8.6,
          8.8,
          9,
          9.2,
          9.4,
          9.6,
          9.8,
          10,
          10.2,
          10.4,
          10.6,
          10.8,
          11,
          11.2,
          11.4,
          11.6,
          11.8,
          12,
          12.2,
          12.4,
          12.6,
          12.8,
          13,
          13.2,
          13.4,
          13.6,
          13.8,
          14,
          14.2,
          14.4,
          14.6,
          14.8,
          15,
          15.2,
          15.4,
          15.6,
          15.8,
          16,
          16.2,
          16.400000000000002,
          16.6,
          16.8,
          17,
          17.2,
          17.400000000000002,
          17.6,
          17.8,
          18,
          18.2,
          18.4,
          18.6,
          18.8,
          19,
          19.200000000000003,
          19.4,
          19.6,
          19.8,
          20,
          20.200000000000003,
          20.4,
          20.6,
          20.8,
          21,
          21.200000000000003,
          21.4,
          21.6,
          21.8,
          22,
          22.200000000000003,
          22.4,
          22.6,
          22.8,
          23,
          23.200000000000003,
          23.4,
          23.6,
          23.8,
          24,
          23.89505211446371,
          23.789649301579136,
          23.6837935680639,
          23.577486929258583,
          23.470731409088348,
          23.363529040024417,
          23.255881863045364,
          23.14779192759827,
          23.0392612915597,
          22.93029202119652,
          22.82088619112656,
          22.711045884279116,
          22.600773191855307,
          22.49007021328824,
          22.378939056203045,
          22.26738183637677,
          22.155400677698072,
          22.04299771212679,
          21.930175079653367,
          21.816934928258092,
          21.70327941387022,
          21.589210700326912,
          21.47473095933205,
          21.35984237041487,
          21.24454712088852,
          21.128847405808337,
          21.012745427930124,
          20.896243397668187,
          20.779343533053243,
          20.66204805969021,
          20.54435921071582,
          20.426279226756115,
          20.30781035588378,
          20.18895485357535,
          20.069714982668255,
          19.950093013317765,
          19.83009122295374,
          19.70971189623729,
          19.588957325017276,
          19.467829808286663,
          19.34633165213878,
          19.224465169723373,
          19.102232681202604,
          18.97963651370686,
          18.856679001290455,
          18.73336248488718,
          18.60968931226575,
          18.485661837985113,
          18.361282423349586,
          18.23655343636393,
          18.11147725168828,
          17.986056250592885,
          17.86029282091282,
          17.734189357002506,
          17.60774825969012,
          17.48097193623189,
          17.35386280026627,
          17.22642327176799,
          17.098655777001973,
          16.97056274847714,
          16.842146624900117,
          16.713409851128787,
          16.584354878125755,
          16.454984162911675,
          16.32530016851848,
          16.19530536394249,
          16.065002224097405,
          15.934393229767172,
          15.80348086755878,
          15.672267629854892,
          15.540756014766425,
          15.408948526084949,
          15.27684767323506,
          15.144455971226574,
          15.01177594060666,
          14.878810107411844,
          14.745561003119928,
          14.61203116460178,
          14.47822313407305,
          14.344139459045754,
          14.209782692279791,
          14.075155391734327,
          13.940260120519104,
          13.80509944684564,
          13.669675943978328,
          13.533992190185458,
          13.398050768690116,
          13.261854267621011,
          13.125405279963203,
          12.988706403508733,
          12.851760240807153,
          12.714569399116002,
          12.57713649035115,
          12.439464131037072,
          12.301554942257042,
          12.16341154960322,
          12.025036583126674,
          11.886432677287305,
          11.74760247090368,
          11.608548607102817,
          11.469273733269834,
          11.329780500997574,
          11.1900715660361,
          11.050149588242151,
          10.910017231528492,
          10.769677163813194,
          10.629132056968851,
          10.488384586771708,
          10.347437432850716,
          10.20629327863651,
          10.064954811310336,
          9.923424721752871,
          9.781705704493016,
          9.639800457656571,
          9.497711682914886,
          9.355442085433417,
          9.212994373820216,
          9.070371260074385,
          8.92757545953442,
          8.78460969082653,
          8.641476675812868,
          8.498179139539719,
          8.354719810185616,
          8.211101419009395,
          8.067326700298205,
          7.923398391315442,
          7.779319232248642,
          7.635091966157306,
          7.490719338920683,
          7.346204099185487,
          7.201548998313567,
          7.056756790329528,
          6.911830231868298,
          6.766772082122642,
          6.621585102790633,
          6.476272058023078,
          6.330835714370883,
          6.18527884073239,
          6.0396042083006565,
          5.893814590510699,
          5.747912762986688,
          5.601901503489109,
          5.45578359186187,
          5.309561809979385,
          5.163238941693606,
          5.016817772781026,
          4.87030109088964,
          4.723691685485871,
          4.576992347801466,
          4.43020587078035,
          4.283335049025459,
          4.13638267874553,
          3.989351557701865,
          3.8422444851550672,
          3.695064261811748,
          3.5478136897712047,
          3.4004955724720713,
          3.253112714638947,
          3.105667922228997,
          2.9581640023785316,
          2.810603763349562,
          2.6629900144763377,
          2.5153255661118545,
          2.3676132295743564,
          2.219855817093808,
          2.0720561417583556,
          1.924217017460769,
          1.7763412588448684,
          1.6284316812519404,
          1.480491100667135,
          1.3325223336658552,
          1.1845281973601318,
          1.0365115093449913,
          0.888475087644812,
          0.7404217506596732,
          0.5923543171116968,
          0.444275605991383,
          0.2961884365039407,
          0.1480956280156137,
          4.6278366804520154e-15
         ],
         "yaxis": "y"
        },
        {
         "marker": {
          "color": "red",
          "size": 8,
          "symbol": "square"
         },
         "mode": "markers",
         "name": "Measurements",
         "opacity": 0.6,
         "showlegend": true,
         "type": "scatter",
         "x": [
          0.1645067554337316,
          1.673485754015282,
          3.607767564683339,
          5.983959178032794,
          7.821226215471189,
          10.8124955042768,
          12.378312343926106,
          14.28204248279673,
          15.93924982764213,
          18.38825635003452,
          20.31735879493016,
          21.292022465410504,
          24.271337844499634,
          25.14067569692806,
          25.64433939987682,
          26.718298664805356,
          28.330577437355423,
          28.49374481643807,
          29.119559446214,
          30.354714959537404,
          30.478333465757363,
          31.61611609009564,
          31.075350998741243,
          32.49009733669481,
          32.80367271397379,
          33.563762055670814,
          33.23426286107128,
          33.74904801868261,
          33.41906726397238,
          35.30872570301677,
          34.09260850624021
         ],
         "xaxis": "x",
         "y": [
          -0.6773368063996718,
          1.926378550122423,
          3.176226246136001,
          5.490155013522891,
          8.538705023230774,
          10.100023480313206,
          11.871474000021548,
          13.176835848515983,
          16.788078162539016,
          18.3289434648906,
          20.32889573955765,
          21.907218555450346,
          23.975241857869214,
          22.655178937737485,
          22.49658154476845,
          20.20552418478216,
          18.930851811775646,
          18.392828133375467,
          17.15387757161697,
          15.545738598094806,
          15.012147796050664,
          12.920111851934468,
          11.803422222042258,
          10.709625299358336,
          8.307350966299257,
          7.493816586136845,
          5.875828086684717,
          4.209395623311487,
          2.5087960690817352,
          1.8061795494712096,
          -0.0082318073976205
         ],
         "yaxis": "y"
        },
        {
         "marker": {
          "color": "blue",
          "size": 8,
          "symbol": "circle"
         },
         "mode": "markers",
         "name": "Kalman Filter",
         "opacity": 0.6,
         "showlegend": true,
         "type": "scatter",
         "x": [
          1.673485754015282,
          3.18263652254303,
          4.742296757982613,
          6.548988727673069,
          9.069185688822643,
          11.653116120592253,
          14.076826273171669,
          16.17704874584057,
          18.40559138056226,
          20.492074451965106,
          22.033962802351628,
          24.141686457790527,
          25.686339658352573,
          26.661023809493244,
          27.534068493507018,
          28.63681383393723,
          29.251916247705356,
          29.761824174032906,
          30.520384023991276,
          30.95542379509861,
          31.652517124714443,
          31.760543738799782,
          32.38520748191841,
          32.87840987659314,
          33.48661198484748,
          33.6638054713589,
          33.93776135974799,
          33.89946202672565,
          34.70055747823477,
          34.638740956224716
         ],
         "xaxis": "x",
         "y": [
          1.926378550122423,
          4.529547110882545,
          7.0688223670359305,
          9.434691812154943,
          11.307512006110613,
          12.818012390305517,
          14.039289856510546,
          16.233268235845493,
          18.20272844254113,
          20.20426582011125,
          22.025935746043725,
          23.945809013684098,
          24.347233406076214,
          24.237446339324904,
          22.84546230128959,
          21.124163907361794,
          19.641737383049165,
          18.092527913389482,
          16.37906731387106,
          15.100883848185903,
          13.425988844824271,
          11.940798562010718,
          10.620218248237755,
          8.802504848197694,
          7.386380464577355,
          5.8906751873383625,
          4.3122955552846,
          2.661316595392898,
          1.435416820848972,
          -0.01412615385860128
         ],
         "yaxis": "y"
        },
        {
         "marker": {
          "color": "rgb(27,158,119)",
          "size": 8,
          "symbol": "diamond"
         },
         "mode": "markers",
         "name": "Uncertainty After Prediction",
         "opacity": 0.6,
         "showlegend": true,
         "type": "scatter",
         "x": [
          11,
          21,
          31,
          41,
          51,
          61,
          71,
          81,
          91,
          101,
          111,
          121,
          130,
          140,
          150,
          160,
          170,
          180,
          190,
          200,
          210,
          220,
          230,
          240,
          250,
          260,
          270,
          280,
          290,
          300
         ],
         "xaxis": "x2",
         "y": [
          1e-06,
          0.010101,
          1.0203968392650633,
          4.8739886421973075,
          11.656113054038023,
          17.905703003201836,
          20.952875103680046,
          21.751401584337103,
          21.821670049057094,
          21.836195010506344,
          21.927988916420826,
          22.056413400152696,
          22.169376523686726,
          22.245138402928227,
          22.286247409404773,
          22.304413496908495,
          22.310686890100378,
          22.312155473249323,
          22.312281259216473,
          22.31230685218159,
          22.31246694634483,
          22.312688410801716,
          22.312881662496522,
          22.31301080926794,
          22.313080904743483,
          22.313111982811844,
          22.313122785045334,
          22.313125347227775,
          22.31312557749193,
          22.313125615721656
         ],
         "yaxis": "y2"
        },
        {
         "marker": {
          "color": "rgb(217,95,2)",
          "size": 8,
          "symbol": "diamond"
         },
         "mode": "markers",
         "name": "Uncertainty After Measurement",
         "opacity": 0.6,
         "showlegend": true,
         "type": "scatter",
         "x": [
          11,
          21,
          31,
          41,
          51,
          61,
          71,
          81,
          91,
          101,
          111,
          121,
          130,
          140,
          150,
          160,
          170,
          180,
          190,
          200,
          210,
          220,
          230,
          240,
          250,
          260,
          270,
          280,
          290,
          300
         ],
         "xaxis": "x2",
         "y": [
          1e-06,
          0.010096920440265314,
          0.980381703599994,
          4.078789662617021,
          7.9496379204573016,
          10.43317190366606,
          11.399109988442309,
          11.631416838433552,
          11.65147998042017,
          11.655619657835157,
          11.681722050498891,
          11.718069762665511,
          11.749877864377792,
          11.771125641124954,
          11.782626360921725,
          11.787702165658477,
          11.789454115265038,
          11.789864174474566,
          11.7898992953706,
          11.789906441199431,
          11.789951141021934,
          11.790012975519069,
          11.790066932333602,
          11.790102990495555,
          11.79012256127799,
          11.79013123831184,
          11.790134254305675,
          11.790134969669243,
          11.790135033959192,
          11.790135044632962
         ],
         "yaxis": "y2"
        },
        {
         "marker": {
          "color": "rgb(27,158,119)",
          "size": 8,
          "symbol": "diamond"
         },
         "mode": "markers",
         "name": "Uncertainty After Prediction",
         "opacity": 0.6,
         "showlegend": false,
         "type": "scatter",
         "x": [
          11,
          21,
          31,
          41,
          51,
          61,
          71,
          81,
          91,
          101,
          111,
          121,
          130,
          140,
          150,
          160,
          170,
          180,
          190,
          200,
          210,
          220,
          230,
          240,
          250,
          260,
          270,
          280,
          290,
          300
         ],
         "xaxis": "x3",
         "y": [
          1e-06,
          0.010001,
          0.020000999996001613,
          0.02961653239368625,
          0.0367572668502284,
          0.039601565786543315,
          0.039895947074228374,
          0.03998192953002827,
          0.04046518126322337,
          0.041124021506611055,
          0.04170035446153479,
          0.042088313741377094,
          0.04230003485330279,
          0.04239399317824808,
          0.04242649733948454,
          0.0424340983000183,
          0.0424347436105501,
          0.04243487999566839,
          0.042435718905459954,
          0.04243687570597987,
          0.042437883596720696,
          0.04243855644764333,
          0.04243892130889692,
          0.042439082916575104,
          0.0424391390136488,
          0.042439152286537316,
          0.04243915346892068,
          0.0424391536728968,
          0.042439155048513734,
          0.04243915697805434
         ],
         "yaxis": "y3"
        },
        {
         "marker": {
          "color": "rgb(217,95,2)",
          "size": 8,
          "symbol": "diamond"
         },
         "mode": "markers",
         "name": "Uncertainty After Prediction",
         "opacity": 0.6,
         "showlegend": false,
         "type": "scatter",
         "x": [
          11,
          21,
          31,
          41,
          51,
          61,
          71,
          81,
          91,
          101,
          111,
          121,
          130,
          140,
          150,
          160,
          170,
          180,
          190,
          200,
          210,
          220,
          230,
          240,
          250,
          260,
          270,
          280,
          290,
          300
         ],
         "xaxis": "x3",
         "y": [
          1e-06,
          0.010000999996001615,
          0.01961653239368625,
          0.026757266850228396,
          0.029601565786543313,
          0.029895947074228373,
          0.02998192953002827,
          0.030465181263223368,
          0.031124021506611053,
          0.03170035446153479,
          0.03208831374137709,
          0.03230003485330279,
          0.03239399317824808,
          0.032426497339484536,
          0.032434098300018296,
          0.0324347436105501,
          0.03243487999566839,
          0.03243571890545995,
          0.03243687570597987,
          0.032437883596720694,
          0.032438556447643326,
          0.03243892130889692,
          0.0324390829165751,
          0.032439139013648796,
          0.032439152286537314,
          0.03243915346892068,
          0.0324391536728968,
          0.03243915504851373,
          0.032439156978054336,
          0.03243915867304234
         ],
         "yaxis": "y3"
        }
       ],
       "layout": {
        "annotations": [
         {
          "font": {
           "size": 16
          },
          "showarrow": false,
          "text": "Filter Performance",
          "x": 0.225,
          "xanchor": "center",
          "xref": "paper",
          "y": 1,
          "yanchor": "bottom",
          "yref": "paper"
         },
         {
          "font": {
           "size": 16
          },
          "showarrow": false,
          "text": "Position Uncertainty",
          "x": 0.775,
          "xanchor": "center",
          "xref": "paper",
          "y": 1,
          "yanchor": "bottom",
          "yref": "paper"
         },
         {
          "font": {
           "size": 16
          },
          "showarrow": false,
          "text": "Velocity Uncertainty",
          "x": 0.775,
          "xanchor": "center",
          "xref": "paper",
          "y": 0.375,
          "yanchor": "bottom",
          "yref": "paper"
         }
        ],
        "height": 500,
        "legend": {
         "bgcolor": "white",
         "bordercolor": "black",
         "borderwidth": 2,
         "orientation": "h",
         "x": 0.5,
         "xanchor": "center",
         "y": -0.3,
         "yanchor": "bottom"
        },
        "margin": {
         "b": 0,
         "l": 0,
         "r": 0,
         "t": 30
        },
        "showlegend": true,
        "template": {
         "data": {
          "bar": [
           {
            "error_x": {
             "color": "#2a3f5f"
            },
            "error_y": {
             "color": "#2a3f5f"
            },
            "marker": {
             "line": {
              "color": "#E5ECF6",
              "width": 0.5
             },
             "pattern": {
              "fillmode": "overlay",
              "size": 10,
              "solidity": 0.2
             }
            },
            "type": "bar"
           }
          ],
          "barpolar": [
           {
            "marker": {
             "line": {
              "color": "#E5ECF6",
              "width": 0.5
             },
             "pattern": {
              "fillmode": "overlay",
              "size": 10,
              "solidity": 0.2
             }
            },
            "type": "barpolar"
           }
          ],
          "carpet": [
           {
            "aaxis": {
             "endlinecolor": "#2a3f5f",
             "gridcolor": "white",
             "linecolor": "white",
             "minorgridcolor": "white",
             "startlinecolor": "#2a3f5f"
            },
            "baxis": {
             "endlinecolor": "#2a3f5f",
             "gridcolor": "white",
             "linecolor": "white",
             "minorgridcolor": "white",
             "startlinecolor": "#2a3f5f"
            },
            "type": "carpet"
           }
          ],
          "choropleth": [
           {
            "colorbar": {
             "outlinewidth": 0,
             "ticks": ""
            },
            "type": "choropleth"
           }
          ],
          "contour": [
           {
            "colorbar": {
             "outlinewidth": 0,
             "ticks": ""
            },
            "colorscale": [
             [
              0,
              "#0d0887"
             ],
             [
              0.1111111111111111,
              "#46039f"
             ],
             [
              0.2222222222222222,
              "#7201a8"
             ],
             [
              0.3333333333333333,
              "#9c179e"
             ],
             [
              0.4444444444444444,
              "#bd3786"
             ],
             [
              0.5555555555555556,
              "#d8576b"
             ],
             [
              0.6666666666666666,
              "#ed7953"
             ],
             [
              0.7777777777777778,
              "#fb9f3a"
             ],
             [
              0.8888888888888888,
              "#fdca26"
             ],
             [
              1,
              "#f0f921"
             ]
            ],
            "type": "contour"
           }
          ],
          "contourcarpet": [
           {
            "colorbar": {
             "outlinewidth": 0,
             "ticks": ""
            },
            "type": "contourcarpet"
           }
          ],
          "heatmap": [
           {
            "colorbar": {
             "outlinewidth": 0,
             "ticks": ""
            },
            "colorscale": [
             [
              0,
              "#0d0887"
             ],
             [
              0.1111111111111111,
              "#46039f"
             ],
             [
              0.2222222222222222,
              "#7201a8"
             ],
             [
              0.3333333333333333,
              "#9c179e"
             ],
             [
              0.4444444444444444,
              "#bd3786"
             ],
             [
              0.5555555555555556,
              "#d8576b"
             ],
             [
              0.6666666666666666,
              "#ed7953"
             ],
             [
              0.7777777777777778,
              "#fb9f3a"
             ],
             [
              0.8888888888888888,
              "#fdca26"
             ],
             [
              1,
              "#f0f921"
             ]
            ],
            "type": "heatmap"
           }
          ],
          "heatmapgl": [
           {
            "colorbar": {
             "outlinewidth": 0,
             "ticks": ""
            },
            "colorscale": [
             [
              0,
              "#0d0887"
             ],
             [
              0.1111111111111111,
              "#46039f"
             ],
             [
              0.2222222222222222,
              "#7201a8"
             ],
             [
              0.3333333333333333,
              "#9c179e"
             ],
             [
              0.4444444444444444,
              "#bd3786"
             ],
             [
              0.5555555555555556,
              "#d8576b"
             ],
             [
              0.6666666666666666,
              "#ed7953"
             ],
             [
              0.7777777777777778,
              "#fb9f3a"
             ],
             [
              0.8888888888888888,
              "#fdca26"
             ],
             [
              1,
              "#f0f921"
             ]
            ],
            "type": "heatmapgl"
           }
          ],
          "histogram": [
           {
            "marker": {
             "pattern": {
              "fillmode": "overlay",
              "size": 10,
              "solidity": 0.2
             }
            },
            "type": "histogram"
           }
          ],
          "histogram2d": [
           {
            "colorbar": {
             "outlinewidth": 0,
             "ticks": ""
            },
            "colorscale": [
             [
              0,
              "#0d0887"
             ],
             [
              0.1111111111111111,
              "#46039f"
             ],
             [
              0.2222222222222222,
              "#7201a8"
             ],
             [
              0.3333333333333333,
              "#9c179e"
             ],
             [
              0.4444444444444444,
              "#bd3786"
             ],
             [
              0.5555555555555556,
              "#d8576b"
             ],
             [
              0.6666666666666666,
              "#ed7953"
             ],
             [
              0.7777777777777778,
              "#fb9f3a"
             ],
             [
              0.8888888888888888,
              "#fdca26"
             ],
             [
              1,
              "#f0f921"
             ]
            ],
            "type": "histogram2d"
           }
          ],
          "histogram2dcontour": [
           {
            "colorbar": {
             "outlinewidth": 0,
             "ticks": ""
            },
            "colorscale": [
             [
              0,
              "#0d0887"
             ],
             [
              0.1111111111111111,
              "#46039f"
             ],
             [
              0.2222222222222222,
              "#7201a8"
             ],
             [
              0.3333333333333333,
              "#9c179e"
             ],
             [
              0.4444444444444444,
              "#bd3786"
             ],
             [
              0.5555555555555556,
              "#d8576b"
             ],
             [
              0.6666666666666666,
              "#ed7953"
             ],
             [
              0.7777777777777778,
              "#fb9f3a"
             ],
             [
              0.8888888888888888,
              "#fdca26"
             ],
             [
              1,
              "#f0f921"
             ]
            ],
            "type": "histogram2dcontour"
           }
          ],
          "mesh3d": [
           {
            "colorbar": {
             "outlinewidth": 0,
             "ticks": ""
            },
            "type": "mesh3d"
           }
          ],
          "parcoords": [
           {
            "line": {
             "colorbar": {
              "outlinewidth": 0,
              "ticks": ""
             }
            },
            "type": "parcoords"
           }
          ],
          "pie": [
           {
            "automargin": true,
            "type": "pie"
           }
          ],
          "scatter": [
           {
            "fillpattern": {
             "fillmode": "overlay",
             "size": 10,
             "solidity": 0.2
            },
            "type": "scatter"
           }
          ],
          "scatter3d": [
           {
            "line": {
             "colorbar": {
              "outlinewidth": 0,
              "ticks": ""
             }
            },
            "marker": {
             "colorbar": {
              "outlinewidth": 0,
              "ticks": ""
             }
            },
            "type": "scatter3d"
           }
          ],
          "scattercarpet": [
           {
            "marker": {
             "colorbar": {
              "outlinewidth": 0,
              "ticks": ""
             }
            },
            "type": "scattercarpet"
           }
          ],
          "scattergeo": [
           {
            "marker": {
             "colorbar": {
              "outlinewidth": 0,
              "ticks": ""
             }
            },
            "type": "scattergeo"
           }
          ],
          "scattergl": [
           {
            "marker": {
             "colorbar": {
              "outlinewidth": 0,
              "ticks": ""
             }
            },
            "type": "scattergl"
           }
          ],
          "scattermapbox": [
           {
            "marker": {
             "colorbar": {
              "outlinewidth": 0,
              "ticks": ""
             }
            },
            "type": "scattermapbox"
           }
          ],
          "scatterpolar": [
           {
            "marker": {
             "colorbar": {
              "outlinewidth": 0,
              "ticks": ""
             }
            },
            "type": "scatterpolar"
           }
          ],
          "scatterpolargl": [
           {
            "marker": {
             "colorbar": {
              "outlinewidth": 0,
              "ticks": ""
             }
            },
            "type": "scatterpolargl"
           }
          ],
          "scatterternary": [
           {
            "marker": {
             "colorbar": {
              "outlinewidth": 0,
              "ticks": ""
             }
            },
            "type": "scatterternary"
           }
          ],
          "surface": [
           {
            "colorbar": {
             "outlinewidth": 0,
             "ticks": ""
            },
            "colorscale": [
             [
              0,
              "#0d0887"
             ],
             [
              0.1111111111111111,
              "#46039f"
             ],
             [
              0.2222222222222222,
              "#7201a8"
             ],
             [
              0.3333333333333333,
              "#9c179e"
             ],
             [
              0.4444444444444444,
              "#bd3786"
             ],
             [
              0.5555555555555556,
              "#d8576b"
             ],
             [
              0.6666666666666666,
              "#ed7953"
             ],
             [
              0.7777777777777778,
              "#fb9f3a"
             ],
             [
              0.8888888888888888,
              "#fdca26"
             ],
             [
              1,
              "#f0f921"
             ]
            ],
            "type": "surface"
           }
          ],
          "table": [
           {
            "cells": {
             "fill": {
              "color": "#EBF0F8"
             },
             "line": {
              "color": "white"
             }
            },
            "header": {
             "fill": {
              "color": "#C8D4E3"
             },
             "line": {
              "color": "white"
             }
            },
            "type": "table"
           }
          ]
         },
         "layout": {
          "annotationdefaults": {
           "arrowcolor": "#2a3f5f",
           "arrowhead": 0,
           "arrowwidth": 1
          },
          "autotypenumbers": "strict",
          "coloraxis": {
           "colorbar": {
            "outlinewidth": 0,
            "ticks": ""
           }
          },
          "colorscale": {
           "diverging": [
            [
             0,
             "#8e0152"
            ],
            [
             0.1,
             "#c51b7d"
            ],
            [
             0.2,
             "#de77ae"
            ],
            [
             0.3,
             "#f1b6da"
            ],
            [
             0.4,
             "#fde0ef"
            ],
            [
             0.5,
             "#f7f7f7"
            ],
            [
             0.6,
             "#e6f5d0"
            ],
            [
             0.7,
             "#b8e186"
            ],
            [
             0.8,
             "#7fbc41"
            ],
            [
             0.9,
             "#4d9221"
            ],
            [
             1,
             "#276419"
            ]
           ],
           "sequential": [
            [
             0,
             "#0d0887"
            ],
            [
             0.1111111111111111,
             "#46039f"
            ],
            [
             0.2222222222222222,
             "#7201a8"
            ],
            [
             0.3333333333333333,
             "#9c179e"
            ],
            [
             0.4444444444444444,
             "#bd3786"
            ],
            [
             0.5555555555555556,
             "#d8576b"
            ],
            [
             0.6666666666666666,
             "#ed7953"
            ],
            [
             0.7777777777777778,
             "#fb9f3a"
            ],
            [
             0.8888888888888888,
             "#fdca26"
            ],
            [
             1,
             "#f0f921"
            ]
           ],
           "sequentialminus": [
            [
             0,
             "#0d0887"
            ],
            [
             0.1111111111111111,
             "#46039f"
            ],
            [
             0.2222222222222222,
             "#7201a8"
            ],
            [
             0.3333333333333333,
             "#9c179e"
            ],
            [
             0.4444444444444444,
             "#bd3786"
            ],
            [
             0.5555555555555556,
             "#d8576b"
            ],
            [
             0.6666666666666666,
             "#ed7953"
            ],
            [
             0.7777777777777778,
             "#fb9f3a"
            ],
            [
             0.8888888888888888,
             "#fdca26"
            ],
            [
             1,
             "#f0f921"
            ]
           ]
          },
          "colorway": [
           "#636efa",
           "#EF553B",
           "#00cc96",
           "#ab63fa",
           "#FFA15A",
           "#19d3f3",
           "#FF6692",
           "#B6E880",
           "#FF97FF",
           "#FECB52"
          ],
          "font": {
           "color": "#2a3f5f"
          },
          "geo": {
           "bgcolor": "white",
           "lakecolor": "white",
           "landcolor": "#E5ECF6",
           "showlakes": true,
           "showland": true,
           "subunitcolor": "white"
          },
          "hoverlabel": {
           "align": "left"
          },
          "hovermode": "closest",
          "mapbox": {
           "style": "light"
          },
          "paper_bgcolor": "white",
          "plot_bgcolor": "#E5ECF6",
          "polar": {
           "angularaxis": {
            "gridcolor": "white",
            "linecolor": "white",
            "ticks": ""
           },
           "bgcolor": "#E5ECF6",
           "radialaxis": {
            "gridcolor": "white",
            "linecolor": "white",
            "ticks": ""
           }
          },
          "scene": {
           "xaxis": {
            "backgroundcolor": "#E5ECF6",
            "gridcolor": "white",
            "gridwidth": 2,
            "linecolor": "white",
            "showbackground": true,
            "ticks": "",
            "zerolinecolor": "white"
           },
           "yaxis": {
            "backgroundcolor": "#E5ECF6",
            "gridcolor": "white",
            "gridwidth": 2,
            "linecolor": "white",
            "showbackground": true,
            "ticks": "",
            "zerolinecolor": "white"
           },
           "zaxis": {
            "backgroundcolor": "#E5ECF6",
            "gridcolor": "white",
            "gridwidth": 2,
            "linecolor": "white",
            "showbackground": true,
            "ticks": "",
            "zerolinecolor": "white"
           }
          },
          "shapedefaults": {
           "line": {
            "color": "#2a3f5f"
           }
          },
          "ternary": {
           "aaxis": {
            "gridcolor": "white",
            "linecolor": "white",
            "ticks": ""
           },
           "baxis": {
            "gridcolor": "white",
            "linecolor": "white",
            "ticks": ""
           },
           "bgcolor": "#E5ECF6",
           "caxis": {
            "gridcolor": "white",
            "linecolor": "white",
            "ticks": ""
           }
          },
          "title": {
           "x": 0.05
          },
          "xaxis": {
           "automargin": true,
           "gridcolor": "white",
           "linecolor": "white",
           "ticks": "",
           "title": {
            "standoff": 15
           },
           "zerolinecolor": "white",
           "zerolinewidth": 2
          },
          "yaxis": {
           "automargin": true,
           "gridcolor": "white",
           "linecolor": "white",
           "ticks": "",
           "title": {
            "standoff": 15
           },
           "zerolinecolor": "white",
           "zerolinewidth": 2
          }
         }
        },
        "width": 750,
        "xaxis": {
         "anchor": "y",
         "autorange": true,
         "domain": [
          0,
          0.45
         ],
         "range": [
          -2.4924390581268003,
          37.9656715165773
         ],
         "title": {
          "text": "x position"
         },
         "type": "linear"
        },
        "xaxis2": {
         "anchor": "y2",
         "autorange": true,
         "domain": [
          0.55,
          1
         ],
         "range": [
          -10.848752458099554,
          321.84875245809957
         ],
         "title": {
          "text": "Time (seconds)"
         },
         "type": "linear"
        },
        "xaxis3": {
         "anchor": "y3",
         "autorange": true,
         "domain": [
          0.55,
          1
         ],
         "range": [
          -10.848752458099554,
          321.84875245809957
         ],
         "title": {
          "text": "Time (seconds)"
         },
         "type": "linear"
        },
        "yaxis": {
         "anchor": "x",
         "autorange": true,
         "domain": [
          0,
          1
         ],
         "range": [
          -2.5078231012324554,
          26.177719700908998
         ],
         "title": {
          "text": "y position"
         },
         "type": "linear"
        },
        "yaxis2": {
         "anchor": "x2",
         "autorange": true,
         "domain": [
          0.625,
          1
         ],
         "range": [
          -2.3446921705622374,
          24.657818786283894
         ],
         "title": {
          "text": "Uncertainty"
         },
         "type": "linear"
        },
        "yaxis3": {
         "anchor": "x3",
         "autorange": true,
         "domain": [
          0,
          0.375
         ],
         "range": [
          -0.004458458661723338,
          0.04689861563977767
         ],
         "title": {
          "text": "Uncertainty"
         },
         "type": "linear"
        }
       }
      },
      "image/png": "[encoded data removed]",
      "text/html": [
       "<div>                            <div id=\"8bef7c7e-3ad7-49c0-9040-92076a921e85\" class=\"plotly-graph-div\" style=\"height:500px; width:750px;\"></div>            <script type=\"text/javascript\">                require([\"plotly\"], function(Plotly) {                    window.PLOTLYENV=window.PLOTLYENV || {};                                    if (document.getElementById(\"8bef7c7e-3ad7-49c0-9040-92076a921e85\")) {                    Plotly.newPlot(                        \"8bef7c7e-3ad7-49c0-9040-92076a921e85\",                        [{\"line\":{\"color\":\"black\",\"width\":1},\"mode\":\"lines\",\"name\":\"Truth\",\"showlegend\":true,\"x\":[0.0,0.2,0.4,0.6000000000000001,0.8,1.0,1.2000000000000002,1.4,1.6,1.8,2.0,2.2,2.4000000000000004,2.6,2.8000000000000003,3.0,3.2,3.4000000000000004,3.6,3.8,4.0,4.2,4.4,4.6000000000000005,4.800000000000001,5.0,5.2,5.4,5.6000000000000005,5.800000000000001,6.0,6.2,6.4,6.6000000000000005,6.800000000000001,7.0,7.2,7.4,7.6,7.800000000000001,8.0,8.200000000000001,8.4,8.6,8.8,9.0,9.2,9.4,9.6,9.8,10.0,10.2,10.4,10.6,10.8,11.0,11.2,11.4,11.6,11.8,12.0,12.2,12.4,12.6,12.8,13.0,13.2,13.4,13.6,13.8,14.0,14.2,14.4,14.6,14.8,15.0,15.2,15.4,15.6,15.8,16.0,16.2,16.400000000000002,16.6,16.8,17.0,17.2,17.400000000000002,17.6,17.8,18.0,18.2,18.4,18.6,18.8,19.0,19.200000000000003,19.4,19.6,19.8,20.0,20.200000000000003,20.4,20.6,20.8,21.0,21.200000000000003,21.4,21.6,21.8,22.0,22.200000000000003,22.4,22.6,22.8,23.0,23.200000000000003,23.4,23.6,23.8,24.0,24.104490960131542,24.20852300550108,24.31209415548843,24.41520243824819,24.51784589074728,24.62002255880233,24.721730497116855,24.82296776931832,24.923732447994997,25.024022614732647,25.123836360151067,25.22317178394042,25.322026994897428,25.420400110961367,25.51828925924991,25.615692576094784,25.71260820707723,25.809034307063342,25.904969040239173,26.000410580145687,26.095357109713536,26.189806821297665,26.283757916711707,26.377208607262236,26.470157113782815,26.562601666667856,26.65454050590633,26.745971881115263,26.836894051573072,26.92730528625269,27.01720386385452,27.106588072839255,27.195456211460385,27.283806587796654,27.371637519784255,27.458947335248848,27.545734371937392,27.631996977549814,27.717733509770454,27.80294233629932,27.887621834883184,27.97177039334645,28.055386409621867,28.138468291781013,28.221014458064612,28.30302333691265,28.38449336699428,28.465422997237564,28.545810686859006,28.62565490539287,28.704954132720335,28.783706859098412,28.861911585188707,28.939566822085972,29.01667109134643,29.093222925015944,29.16922086565794,29.244663466381184,29.3195492908673,29.393876913398135,29.467644918882907,29.540851902885116,29.613496471649317,29.685577242127636,29.757092842006102,29.828041909730786,29.898423094533698,29.96823505645854,30.037476466386188,30.10614600606001,30.174242368110946,30.24176425608243,30.30871038445504,30.375079478670997,30.440870275158417,30.50608152135537,30.57071197573372,30.634760407822785,30.698225598232742,30.761106338677852,30.823401431999457,30.885109692188763,30.946229944409463,31.00676102502005,31.06670178159601,31.12605107295173,31.184807769162255,31.24297075158479,31.300538912879983,31.35751115703304,31.413886399374544,31.469663566601145,31.52484159679598,31.579419439448895,31.633396055476435,31.686770417241636,31.73954150857359,31.791708324786786,31.843269872700237,31.89422517065639,31.94457324853984,31.994313147795744,32.04344392144812,32.091964634117865,32.13987436204055,32.18717219308402,32.233857226765736,32.27992857426996,32.325385358464644,32.37022671391814,32.41445178691569,32.458059735475636,32.501049729365505,32.543420950117785,32.585172591045506,32.626303857257604,32.666813965674066,32.706702145040815,32.745967635944425,32.784609690826535,32.82262757399814,32.86002056165353,32.89678794188412,32.932929014692,32.968443092003234,33.00332949768099,33.037587567538374,33.071216649351136,33.10421610287003,33.13658529983303,33.16832362397727,33.199430471050825,33.22990524882415,33.25974737710143,33.28895628773154,33.31753142461892,33.345472243734164,33.372778213124356,33.3994488129232,33.425483535360904,33.45088188477389,33.475643377614205,33.49976754245871,33.523253920018085,33.546102063145554,33.5683115368454,33.589881918281264,33.610812796784174,33.63110377386038,33.65075446319892,33.66976449067901,33.68813349437711,33.70586112457388,33.72294704376078,33.739390926646564,33.755192460163386,33.770351343472825,33.78486728797159,33.79874001729704,33.8119692673324,33.824554786211806,33.83649633432513,33.84779368432251,33.85844662111869,33.8684549418971,33.87781845611374,33.8865369855008,33.89461036407004,33.90203843811599,33.908821066218806,33.91495811924704,33.92044948036004,33.92529504501021,33.92949472094498,33.93304842820858,33.935956099143546,33.93821767839201,33.939833122896765,33.940802401902076,33.941125496954264],\"y\":[0.0,0.2,0.4,0.6000000000000001,0.8,1.0,1.2000000000000002,1.4,1.6,1.8,2.0,2.2,2.4000000000000004,2.6,2.8000000000000003,3.0,3.2,3.4000000000000004,3.6,3.8,4.0,4.2,4.4,4.6000000000000005,4.800000000000001,5.0,5.2,5.4,5.6000000000000005,5.800000000000001,6.0,6.2,6.4,6.6000000000000005,6.800000000000001,7.0,7.2,7.4,7.6,7.800000000000001,8.0,8.200000000000001,8.4,8.6,8.8,9.0,9.2,9.4,9.6,9.8,10.0,10.2,10.4,10.6,10.8,11.0,11.2,11.4,11.6,11.8,12.0,12.2,12.4,12.6,12.8,13.0,13.2,13.4,13.6,13.8,14.0,14.2,14.4,14.6,14.8,15.0,15.2,15.4,15.6,15.8,16.0,16.2,16.400000000000002,16.6,16.8,17.0,17.2,17.400000000000002,17.6,17.8,18.0,18.2,18.4,18.6,18.8,19.0,19.200000000000003,19.4,19.6,19.8,20.0,20.200000000000003,20.4,20.6,20.8,21.0,21.200000000000003,21.4,21.6,21.8,22.0,22.200000000000003,22.4,22.6,22.8,23.0,23.200000000000003,23.4,23.6,23.8,24.0,23.89505211446371,23.789649301579136,23.6837935680639,23.577486929258583,23.470731409088348,23.363529040024417,23.255881863045364,23.14779192759827,23.0392612915597,22.93029202119652,22.82088619112656,22.711045884279116,22.600773191855307,22.49007021328824,22.378939056203045,22.26738183637677,22.155400677698072,22.04299771212679,21.930175079653367,21.816934928258092,21.70327941387022,21.589210700326912,21.47473095933205,21.35984237041487,21.24454712088852,21.128847405808337,21.012745427930124,20.896243397668187,20.779343533053243,20.66204805969021,20.54435921071582,20.426279226756115,20.30781035588378,20.18895485357535,20.069714982668255,19.950093013317765,19.83009122295374,19.70971189623729,19.588957325017276,19.467829808286663,19.34633165213878,19.224465169723373,19.102232681202604,18.97963651370686,18.856679001290455,18.73336248488718,18.60968931226575,18.485661837985113,18.361282423349586,18.23655343636393,18.11147725168828,17.986056250592885,17.86029282091282,17.734189357002506,17.60774825969012,17.48097193623189,17.35386280026627,17.22642327176799,17.098655777001973,16.97056274847714,16.842146624900117,16.713409851128787,16.584354878125755,16.454984162911675,16.32530016851848,16.19530536394249,16.065002224097405,15.934393229767172,15.80348086755878,15.672267629854892,15.540756014766425,15.408948526084949,15.27684767323506,15.144455971226574,15.01177594060666,14.878810107411844,14.745561003119928,14.61203116460178,14.47822313407305,14.344139459045754,14.209782692279791,14.075155391734327,13.940260120519104,13.80509944684564,13.669675943978328,13.533992190185458,13.398050768690116,13.261854267621011,13.125405279963203,12.988706403508733,12.851760240807153,12.714569399116002,12.57713649035115,12.439464131037072,12.301554942257042,12.16341154960322,12.025036583126674,11.886432677287305,11.74760247090368,11.608548607102817,11.469273733269834,11.329780500997574,11.1900715660361,11.050149588242151,10.910017231528492,10.769677163813194,10.629132056968851,10.488384586771708,10.347437432850716,10.20629327863651,10.064954811310336,9.923424721752871,9.781705704493016,9.639800457656571,9.497711682914886,9.355442085433417,9.212994373820216,9.070371260074385,8.92757545953442,8.78460969082653,8.641476675812868,8.498179139539719,8.354719810185616,8.211101419009395,8.067326700298205,7.923398391315442,7.779319232248642,7.635091966157306,7.490719338920683,7.346204099185487,7.201548998313567,7.056756790329528,6.911830231868298,6.766772082122642,6.621585102790633,6.476272058023078,6.330835714370883,6.18527884073239,6.0396042083006565,5.893814590510699,5.747912762986688,5.601901503489109,5.45578359186187,5.309561809979385,5.163238941693606,5.016817772781026,4.87030109088964,4.723691685485871,4.576992347801466,4.43020587078035,4.283335049025459,4.13638267874553,3.989351557701865,3.8422444851550672,3.695064261811748,3.5478136897712047,3.4004955724720713,3.253112714638947,3.105667922228997,2.9581640023785316,2.810603763349562,2.6629900144763377,2.5153255661118545,2.3676132295743564,2.219855817093808,2.0720561417583556,1.924217017460769,1.7763412588448684,1.6284316812519404,1.480491100667135,1.3325223336658552,1.1845281973601318,1.0365115093449913,0.888475087644812,0.7404217506596732,0.5923543171116968,0.444275605991383,0.2961884365039407,0.1480956280156137,4.6278366804520154e-15],\"type\":\"scatter\",\"xaxis\":\"x\",\"yaxis\":\"y\"},{\"marker\":{\"color\":\"red\",\"size\":8,\"symbol\":\"square\"},\"mode\":\"markers\",\"name\":\"Measurements\",\"opacity\":0.6,\"showlegend\":true,\"x\":[0.1645067554337316,1.673485754015282,3.607767564683339,5.983959178032794,7.821226215471189,10.8124955042768,12.378312343926106,14.28204248279673,15.93924982764213,18.38825635003452,20.31735879493016,21.292022465410504,24.271337844499634,25.14067569692806,25.64433939987682,26.718298664805356,28.330577437355423,28.49374481643807,29.119559446214,30.354714959537404,30.478333465757363,31.61611609009564,31.075350998741243,32.49009733669481,32.80367271397379,33.563762055670814,33.23426286107128,33.74904801868261,33.41906726397238,35.30872570301677,34.09260850624021],\"y\":[-0.6773368063996718,1.926378550122423,3.176226246136001,5.490155013522891,8.538705023230774,10.100023480313206,11.871474000021548,13.176835848515983,16.788078162539016,18.3289434648906,20.32889573955765,21.907218555450346,23.975241857869214,22.655178937737485,22.49658154476845,20.20552418478216,18.930851811775646,18.392828133375467,17.15387757161697,15.545738598094806,15.012147796050664,12.920111851934468,11.803422222042258,10.709625299358336,8.307350966299257,7.493816586136845,5.875828086684717,4.209395623311487,2.5087960690817352,1.8061795494712096,-0.0082318073976205],\"type\":\"scatter\",\"xaxis\":\"x\",\"yaxis\":\"y\"},{\"marker\":{\"color\":\"blue\",\"size\":8,\"symbol\":\"circle\"},\"mode\":\"markers\",\"name\":\"Kalman Filter\",\"opacity\":0.6,\"showlegend\":true,\"x\":[1.673485754015282,3.18263652254303,4.742296757982613,6.548988727673069,9.069185688822643,11.653116120592253,14.076826273171669,16.17704874584057,18.40559138056226,20.492074451965106,22.033962802351628,24.141686457790527,25.686339658352573,26.661023809493244,27.534068493507018,28.63681383393723,29.251916247705356,29.761824174032906,30.520384023991276,30.95542379509861,31.652517124714443,31.760543738799782,32.38520748191841,32.87840987659314,33.48661198484748,33.6638054713589,33.93776135974799,33.89946202672565,34.70055747823477,34.638740956224716],\"y\":[1.926378550122423,4.529547110882545,7.0688223670359305,9.434691812154943,11.307512006110613,12.818012390305517,14.039289856510546,16.233268235845493,18.20272844254113,20.20426582011125,22.025935746043725,23.945809013684098,24.347233406076214,24.237446339324904,22.84546230128959,21.124163907361794,19.641737383049165,18.092527913389482,16.37906731387106,15.100883848185903,13.425988844824271,11.940798562010718,10.620218248237755,8.802504848197694,7.386380464577355,5.8906751873383625,4.3122955552846,2.661316595392898,1.435416820848972,-0.01412615385860128],\"type\":\"scatter\",\"xaxis\":\"x\",\"yaxis\":\"y\"},{\"marker\":{\"color\":\"rgb(27,158,119)\",\"size\":8,\"symbol\":\"diamond\"},\"mode\":\"markers\",\"name\":\"Uncertainty After Prediction\",\"opacity\":0.6,\"showlegend\":true,\"x\":[11,21,31,41,51,61,71,81,91,101,111,121,130,140,150,160,170,180,190,200,210,220,230,240,250,260,270,280,290,300],\"y\":[1e-06,0.010101,1.0203968392650633,4.8739886421973075,11.656113054038023,17.905703003201836,20.952875103680046,21.751401584337103,21.821670049057094,21.836195010506344,21.927988916420826,22.056413400152696,22.169376523686726,22.245138402928227,22.286247409404773,22.304413496908495,22.310686890100378,22.312155473249323,22.312281259216473,22.31230685218159,22.31246694634483,22.312688410801716,22.312881662496522,22.31301080926794,22.313080904743483,22.313111982811844,22.313122785045334,22.313125347227775,22.31312557749193,22.313125615721656],\"type\":\"scatter\",\"xaxis\":\"x2\",\"yaxis\":\"y2\"},{\"marker\":{\"color\":\"rgb(217,95,2)\",\"size\":8,\"symbol\":\"diamond\"},\"mode\":\"markers\",\"name\":\"Uncertainty After Measurement\",\"opacity\":0.6,\"showlegend\":true,\"x\":[11,21,31,41,51,61,71,81,91,101,111,121,130,140,150,160,170,180,190,200,210,220,230,240,250,260,270,280,290,300],\"y\":[1e-06,0.010096920440265314,0.980381703599994,4.078789662617021,7.9496379204573016,10.43317190366606,11.399109988442309,11.631416838433552,11.65147998042017,11.655619657835157,11.681722050498891,11.718069762665511,11.749877864377792,11.771125641124954,11.782626360921725,11.787702165658477,11.789454115265038,11.789864174474566,11.7898992953706,11.789906441199431,11.789951141021934,11.790012975519069,11.790066932333602,11.790102990495555,11.79012256127799,11.79013123831184,11.790134254305675,11.790134969669243,11.790135033959192,11.790135044632962],\"type\":\"scatter\",\"xaxis\":\"x2\",\"yaxis\":\"y2\"},{\"marker\":{\"color\":\"rgb(27,158,119)\",\"size\":8,\"symbol\":\"diamond\"},\"mode\":\"markers\",\"name\":\"Uncertainty After Prediction\",\"opacity\":0.6,\"showlegend\":false,\"x\":[11,21,31,41,51,61,71,81,91,101,111,121,130,140,150,160,170,180,190,200,210,220,230,240,250,260,270,280,290,300],\"y\":[1e-06,0.010001,0.020000999996001613,0.02961653239368625,0.0367572668502284,0.039601565786543315,0.039895947074228374,0.03998192953002827,0.04046518126322337,0.041124021506611055,0.04170035446153479,0.042088313741377094,0.04230003485330279,0.04239399317824808,0.04242649733948454,0.0424340983000183,0.0424347436105501,0.04243487999566839,0.042435718905459954,0.04243687570597987,0.042437883596720696,0.04243855644764333,0.04243892130889692,0.042439082916575104,0.0424391390136488,0.042439152286537316,0.04243915346892068,0.0424391536728968,0.042439155048513734,0.04243915697805434],\"type\":\"scatter\",\"xaxis\":\"x3\",\"yaxis\":\"y3\"},{\"marker\":{\"color\":\"rgb(217,95,2)\",\"size\":8,\"symbol\":\"diamond\"},\"mode\":\"markers\",\"name\":\"Uncertainty After Prediction\",\"opacity\":0.6,\"showlegend\":false,\"x\":[11,21,31,41,51,61,71,81,91,101,111,121,130,140,150,160,170,180,190,200,210,220,230,240,250,260,270,280,290,300],\"y\":[1e-06,0.010000999996001615,0.01961653239368625,0.026757266850228396,0.029601565786543313,0.029895947074228373,0.02998192953002827,0.030465181263223368,0.031124021506611053,0.03170035446153479,0.03208831374137709,0.03230003485330279,0.03239399317824808,0.032426497339484536,0.032434098300018296,0.0324347436105501,0.03243487999566839,0.03243571890545995,0.03243687570597987,0.032437883596720694,0.032438556447643326,0.03243892130889692,0.0324390829165751,0.032439139013648796,0.032439152286537314,0.03243915346892068,0.0324391536728968,0.03243915504851373,0.032439156978054336,0.03243915867304234],\"type\":\"scatter\",\"xaxis\":\"x3\",\"yaxis\":\"y3\"}],                        {\"template\":{\"data\":{\"histogram2dcontour\":[{\"type\":\"histogram2dcontour\",\"colorbar\":{\"outlinewidth\":0,\"ticks\":\"\"},\"colorscale\":[[0.0,\"#0d0887\"],[0.1111111111111111,\"#46039f\"],[0.2222222222222222,\"#7201a8\"],[0.3333333333333333,\"#9c179e\"],[0.4444444444444444,\"#bd3786\"],[0.5555555555555556,\"#d8576b\"],[0.6666666666666666,\"#ed7953\"],[0.7777777777777778,\"#fb9f3a\"],[0.8888888888888888,\"#fdca26\"],[1.0,\"#f0f921\"]]}],\"choropleth\":[{\"type\":\"choropleth\",\"colorbar\":{\"outlinewidth\":0,\"ticks\":\"\"}}],\"histogram2d\":[{\"type\":\"histogram2d\",\"colorbar\":{\"outlinewidth\":0,\"ticks\":\"\"},\"colorscale\":[[0.0,\"#0d0887\"],[0.1111111111111111,\"#46039f\"],[0.2222222222222222,\"#7201a8\"],[0.3333333333333333,\"#9c179e\"],[0.4444444444444444,\"#bd3786\"],[0.5555555555555556,\"#d8576b\"],[0.6666666666666666,\"#ed7953\"],[0.7777777777777778,\"#fb9f3a\"],[0.8888888888888888,\"#fdca26\"],[1.0,\"#f0f921\"]]}],\"heatmap\":[{\"type\":\"heatmap\",\"colorbar\":{\"outlinewidth\":0,\"ticks\":\"\"},\"colorscale\":[[0.0,\"#0d0887\"],[0.1111111111111111,\"#46039f\"],[0.2222222222222222,\"#7201a8\"],[0.3333333333333333,\"#9c179e\"],[0.4444444444444444,\"#bd3786\"],[0.5555555555555556,\"#d8576b\"],[0.6666666666666666,\"#ed7953\"],[0.7777777777777778,\"#fb9f3a\"],[0.8888888888888888,\"#fdca26\"],[1.0,\"#f0f921\"]]}],\"heatmapgl\":[{\"type\":\"heatmapgl\",\"colorbar\":{\"outlinewidth\":0,\"ticks\":\"\"},\"colorscale\":[[0.0,\"#0d0887\"],[0.1111111111111111,\"#46039f\"],[0.2222222222222222,\"#7201a8\"],[0.3333333333333333,\"#9c179e\"],[0.4444444444444444,\"#bd3786\"],[0.5555555555555556,\"#d8576b\"],[0.6666666666666666,\"#ed7953\"],[0.7777777777777778,\"#fb9f3a\"],[0.8888888888888888,\"#fdca26\"],[1.0,\"#f0f921\"]]}],\"contourcarpet\":[{\"type\":\"contourcarpet\",\"colorbar\":{\"outlinewidth\":0,\"ticks\":\"\"}}],\"contour\":[{\"type\":\"contour\",\"colorbar\":{\"outlinewidth\":0,\"ticks\":\"\"},\"colorscale\":[[0.0,\"#0d0887\"],[0.1111111111111111,\"#46039f\"],[0.2222222222222222,\"#7201a8\"],[0.3333333333333333,\"#9c179e\"],[0.4444444444444444,\"#bd3786\"],[0.5555555555555556,\"#d8576b\"],[0.6666666666666666,\"#ed7953\"],[0.7777777777777778,\"#fb9f3a\"],[0.8888888888888888,\"#fdca26\"],[1.0,\"#f0f921\"]]}],\"surface\":[{\"type\":\"surface\",\"colorbar\":{\"outlinewidth\":0,\"ticks\":\"\"},\"colorscale\":[[0.0,\"#0d0887\"],[0.1111111111111111,\"#46039f\"],[0.2222222222222222,\"#7201a8\"],[0.3333333333333333,\"#9c179e\"],[0.4444444444444444,\"#bd3786\"],[0.5555555555555556,\"#d8576b\"],[0.6666666666666666,\"#ed7953\"],[0.7777777777777778,\"#fb9f3a\"],[0.8888888888888888,\"#fdca26\"],[1.0,\"#f0f921\"]]}],\"mesh3d\":[{\"type\":\"mesh3d\",\"colorbar\":{\"outlinewidth\":0,\"ticks\":\"\"}}],\"scatter\":[{\"fillpattern\":{\"fillmode\":\"overlay\",\"size\":10,\"solidity\":0.2},\"type\":\"scatter\"}],\"parcoords\":[{\"type\":\"parcoords\",\"line\":{\"colorbar\":{\"outlinewidth\":0,\"ticks\":\"\"}}}],\"scatterpolargl\":[{\"type\":\"scatterpolargl\",\"marker\":{\"colorbar\":{\"outlinewidth\":0,\"ticks\":\"\"}}}],\"bar\":[{\"error_x\":{\"color\":\"#2a3f5f\"},\"error_y\":{\"color\":\"#2a3f5f\"},\"marker\":{\"line\":{\"color\":\"#E5ECF6\",\"width\":0.5},\"pattern\":{\"fillmode\":\"overlay\",\"size\":10,\"solidity\":0.2}},\"type\":\"bar\"}],\"scattergeo\":[{\"type\":\"scattergeo\",\"marker\":{\"colorbar\":{\"outlinewidth\":0,\"ticks\":\"\"}}}],\"scatterpolar\":[{\"type\":\"scatterpolar\",\"marker\":{\"colorbar\":{\"outlinewidth\":0,\"ticks\":\"\"}}}],\"histogram\":[{\"marker\":{\"pattern\":{\"fillmode\":\"overlay\",\"size\":10,\"solidity\":0.2}},\"type\":\"histogram\"}],\"scattergl\":[{\"type\":\"scattergl\",\"marker\":{\"colorbar\":{\"outlinewidth\":0,\"ticks\":\"\"}}}],\"scatter3d\":[{\"type\":\"scatter3d\",\"line\":{\"colorbar\":{\"outlinewidth\":0,\"ticks\":\"\"}},\"marker\":{\"colorbar\":{\"outlinewidth\":0,\"ticks\":\"\"}}}],\"scattermapbox\":[{\"type\":\"scattermapbox\",\"marker\":{\"colorbar\":{\"outlinewidth\":0,\"ticks\":\"\"}}}],\"scatterternary\":[{\"type\":\"scatterternary\",\"marker\":{\"colorbar\":{\"outlinewidth\":0,\"ticks\":\"\"}}}],\"scattercarpet\":[{\"type\":\"scattercarpet\",\"marker\":{\"colorbar\":{\"outlinewidth\":0,\"ticks\":\"\"}}}],\"carpet\":[{\"aaxis\":{\"endlinecolor\":\"#2a3f5f\",\"gridcolor\":\"white\",\"linecolor\":\"white\",\"minorgridcolor\":\"white\",\"startlinecolor\":\"#2a3f5f\"},\"baxis\":{\"endlinecolor\":\"#2a3f5f\",\"gridcolor\":\"white\",\"linecolor\":\"white\",\"minorgridcolor\":\"white\",\"startlinecolor\":\"#2a3f5f\"},\"type\":\"carpet\"}],\"table\":[{\"cells\":{\"fill\":{\"color\":\"#EBF0F8\"},\"line\":{\"color\":\"white\"}},\"header\":{\"fill\":{\"color\":\"#C8D4E3\"},\"line\":{\"color\":\"white\"}},\"type\":\"table\"}],\"barpolar\":[{\"marker\":{\"line\":{\"color\":\"#E5ECF6\",\"width\":0.5},\"pattern\":{\"fillmode\":\"overlay\",\"size\":10,\"solidity\":0.2}},\"type\":\"barpolar\"}],\"pie\":[{\"automargin\":true,\"type\":\"pie\"}]},\"layout\":{\"autotypenumbers\":\"strict\",\"colorway\":[\"#636efa\",\"#EF553B\",\"#00cc96\",\"#ab63fa\",\"#FFA15A\",\"#19d3f3\",\"#FF6692\",\"#B6E880\",\"#FF97FF\",\"#FECB52\"],\"font\":{\"color\":\"#2a3f5f\"},\"hovermode\":\"closest\",\"hoverlabel\":{\"align\":\"left\"},\"paper_bgcolor\":\"white\",\"plot_bgcolor\":\"#E5ECF6\",\"polar\":{\"bgcolor\":\"#E5ECF6\",\"angularaxis\":{\"gridcolor\":\"white\",\"linecolor\":\"white\",\"ticks\":\"\"},\"radialaxis\":{\"gridcolor\":\"white\",\"linecolor\":\"white\",\"ticks\":\"\"}},\"ternary\":{\"bgcolor\":\"#E5ECF6\",\"aaxis\":{\"gridcolor\":\"white\",\"linecolor\":\"white\",\"ticks\":\"\"},\"baxis\":{\"gridcolor\":\"white\",\"linecolor\":\"white\",\"ticks\":\"\"},\"caxis\":{\"gridcolor\":\"white\",\"linecolor\":\"white\",\"ticks\":\"\"}},\"coloraxis\":{\"colorbar\":{\"outlinewidth\":0,\"ticks\":\"\"}},\"colorscale\":{\"sequential\":[[0.0,\"#0d0887\"],[0.1111111111111111,\"#46039f\"],[0.2222222222222222,\"#7201a8\"],[0.3333333333333333,\"#9c179e\"],[0.4444444444444444,\"#bd3786\"],[0.5555555555555556,\"#d8576b\"],[0.6666666666666666,\"#ed7953\"],[0.7777777777777778,\"#fb9f3a\"],[0.8888888888888888,\"#fdca26\"],[1.0,\"#f0f921\"]],\"sequentialminus\":[[0.0,\"#0d0887\"],[0.1111111111111111,\"#46039f\"],[0.2222222222222222,\"#7201a8\"],[0.3333333333333333,\"#9c179e\"],[0.4444444444444444,\"#bd3786\"],[0.5555555555555556,\"#d8576b\"],[0.6666666666666666,\"#ed7953\"],[0.7777777777777778,\"#fb9f3a\"],[0.8888888888888888,\"#fdca26\"],[1.0,\"#f0f921\"]],\"diverging\":[[0,\"#8e0152\"],[0.1,\"#c51b7d\"],[0.2,\"#de77ae\"],[0.3,\"#f1b6da\"],[0.4,\"#fde0ef\"],[0.5,\"#f7f7f7\"],[0.6,\"#e6f5d0\"],[0.7,\"#b8e186\"],[0.8,\"#7fbc41\"],[0.9,\"#4d9221\"],[1,\"#276419\"]]},\"xaxis\":{\"gridcolor\":\"white\",\"linecolor\":\"white\",\"ticks\":\"\",\"title\":{\"standoff\":15},\"zerolinecolor\":\"white\",\"automargin\":true,\"zerolinewidth\":2},\"yaxis\":{\"gridcolor\":\"white\",\"linecolor\":\"white\",\"ticks\":\"\",\"title\":{\"standoff\":15},\"zerolinecolor\":\"white\",\"automargin\":true,\"zerolinewidth\":2},\"scene\":{\"xaxis\":{\"backgroundcolor\":\"#E5ECF6\",\"gridcolor\":\"white\",\"linecolor\":\"white\",\"showbackground\":true,\"ticks\":\"\",\"zerolinecolor\":\"white\",\"gridwidth\":2},\"yaxis\":{\"backgroundcolor\":\"#E5ECF6\",\"gridcolor\":\"white\",\"linecolor\":\"white\",\"showbackground\":true,\"ticks\":\"\",\"zerolinecolor\":\"white\",\"gridwidth\":2},\"zaxis\":{\"backgroundcolor\":\"#E5ECF6\",\"gridcolor\":\"white\",\"linecolor\":\"white\",\"showbackground\":true,\"ticks\":\"\",\"zerolinecolor\":\"white\",\"gridwidth\":2}},\"shapedefaults\":{\"line\":{\"color\":\"#2a3f5f\"}},\"annotationdefaults\":{\"arrowcolor\":\"#2a3f5f\",\"arrowhead\":0,\"arrowwidth\":1},\"geo\":{\"bgcolor\":\"white\",\"landcolor\":\"#E5ECF6\",\"subunitcolor\":\"white\",\"showland\":true,\"showlakes\":true,\"lakecolor\":\"white\"},\"title\":{\"x\":0.05},\"mapbox\":{\"style\":\"light\"}}},\"xaxis\":{\"anchor\":\"y\",\"domain\":[0.0,0.45],\"title\":{\"text\":\"x position\"}},\"yaxis\":{\"anchor\":\"x\",\"domain\":[0.0,1.0],\"title\":{\"text\":\"y position\"}},\"xaxis2\":{\"anchor\":\"y2\",\"domain\":[0.55,1.0],\"title\":{\"text\":\"Time (seconds)\"}},\"yaxis2\":{\"anchor\":\"x2\",\"domain\":[0.625,1.0],\"title\":{\"text\":\"Uncertainty\"}},\"xaxis3\":{\"anchor\":\"y3\",\"domain\":[0.55,1.0],\"title\":{\"text\":\"Time (seconds)\"}},\"yaxis3\":{\"anchor\":\"x3\",\"domain\":[0.0,0.375],\"title\":{\"text\":\"Uncertainty\"}},\"annotations\":[{\"font\":{\"size\":16},\"showarrow\":false,\"text\":\"Filter Performance\",\"x\":0.225,\"xanchor\":\"center\",\"xref\":\"paper\",\"y\":1.0,\"yanchor\":\"bottom\",\"yref\":\"paper\"},{\"font\":{\"size\":16},\"showarrow\":false,\"text\":\"Position Uncertainty\",\"x\":0.775,\"xanchor\":\"center\",\"xref\":\"paper\",\"y\":1.0,\"yanchor\":\"bottom\",\"yref\":\"paper\"},{\"font\":{\"size\":16},\"showarrow\":false,\"text\":\"Velocity Uncertainty\",\"x\":0.775,\"xanchor\":\"center\",\"xref\":\"paper\",\"y\":0.375,\"yanchor\":\"bottom\",\"yref\":\"paper\"}],\"margin\":{\"t\":30,\"b\":0,\"l\":0,\"r\":0},\"legend\":{\"orientation\":\"h\",\"yanchor\":\"bottom\",\"y\":-0.3,\"xanchor\":\"center\",\"x\":0.5,\"bgcolor\":\"white\",\"bordercolor\":\"black\",\"borderwidth\":2},\"width\":750,\"height\":500,\"showlegend\":true},                        {\"responsive\": true}                    ).then(function(){\n",
       "                            \n",
       "var gd = document.getElementById('8bef7c7e-3ad7-49c0-9040-92076a921e85');\n",
       "var x = new MutationObserver(function (mutations, observer) {{\n",
       "        var display = window.getComputedStyle(gd).display;\n",
       "        if (!display || display === 'none') {{\n",
       "            console.log([gd, 'removed!']);\n",
       "            Plotly.purge(gd);\n",
       "            observer.disconnect();\n",
       "        }}\n",
       "}});\n",
       "\n",
       "// Listen for the removal of the full notebook cells\n",
       "var notebookContainer = gd.closest('#notebook-container');\n",
       "if (notebookContainer) {{\n",
       "    x.observe(notebookContainer, {childList: true});\n",
       "}}\n",
       "\n",
       "// Listen for the clearing of the current output cell\n",
       "var outputEl = gd.closest('.output');\n",
       "if (outputEl) {{\n",
       "    x.observe(outputEl, {childList: true});\n",
       "}}\n",
       "\n",
       "                        })                };                });            </script>        </div>"
      ]
     },
     "metadata": {},
     "output_type": "display_data"
    }
   ],
   "source": [
    "fig = maneuver_const_vel(meas_noise=25,process_noise=0.01,leg_pos=-0.3,height=500,width=750)\n",
    "fig.show()"
   ]
  },
  {
   "cell_type": "code",
   "execution_count": null,
   "id": "1de0c4cd-8ebf-4bc8-acfd-77eee6e24be4",
   "metadata": {},
   "outputs": [],
   "source": []
  }
 ],
 "metadata": {
  "kernelspec": {
   "display_name": "Python 3 (ipykernel)",
   "language": "python",
   "name": "python3"
  },
  "language_info": {
   "codemirror_mode": {
    "name": "ipython",
    "version": 3
   },
   "file_extension": ".py",
   "mimetype": "text/x-python",
   "name": "python",
   "nbconvert_exporter": "python",
   "pygments_lexer": "ipython3",
   "version": "3.11.10"
  }
 },
 "nbformat": 4,
 "nbformat_minor": 5
}
