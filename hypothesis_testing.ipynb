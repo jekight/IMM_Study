{
 "cells": [
  {
   "cell_type": "markdown",
   "id": "6261495d-427a-4626-b204-fbbbde698851",
   "metadata": {},
   "source": [
    "<center><h1>HYPOTHESIS TESTING</h1></center>"
   ]
  },
  {
   "cell_type": "markdown",
   "id": "be93e480-8ba6-4c35-87e5-e477a17aadbd",
   "metadata": {},
   "source": [
    "## LOAD LIBRARIES"
   ]
  },
  {
   "cell_type": "code",
   "execution_count": 9,
   "id": "de81ccfe-edff-465a-bfd2-695b2c7a4d8c",
   "metadata": {},
   "outputs": [],
   "source": [
    "import os\n",
    "import sys\n",
    "import pandas as pd\n",
    "import numpy as np\n",
    "from scipy import stats\n",
    "from Calcs.calcs import *\n",
    "from Charts.charts import Charts as ch\n",
    "from NotebookFunctions.hypothesis_testing import *"
   ]
  },
  {
   "cell_type": "markdown",
   "id": "b5c558ff-c32c-452d-93e5-606d0a2fab8f",
   "metadata": {},
   "source": [
    "## MONTE CARLO SIMULATIONS"
   ]
  },
  {
   "cell_type": "code",
   "execution_count": null,
   "id": "7b7caae0-a91c-4dfc-bd32-8a0c1ce0e28b",
   "metadata": {},
   "outputs": [],
   "source": [
    "sim_df = run_simulations()"
   ]
  },
  {
   "cell_type": "code",
   "execution_count": 5,
   "id": "79066001-fb90-4206-92a4-0cdd754cdc37",
   "metadata": {},
   "outputs": [
    {
     "data": {
      "text/html": [
       "<div>\n",
       "<style scoped>\n",
       "    .dataframe tbody tr th:only-of-type {\n",
       "        vertical-align: middle;\n",
       "    }\n",
       "\n",
       "    .dataframe tbody tr th {\n",
       "        vertical-align: top;\n",
       "    }\n",
       "\n",
       "    .dataframe thead th {\n",
       "        text-align: right;\n",
       "    }\n",
       "</style>\n",
       "<table border=\"1\" class=\"dataframe\">\n",
       "  <thead>\n",
       "    <tr style=\"text-align: right;\">\n",
       "      <th></th>\n",
       "      <th>Test</th>\n",
       "      <th>RMSE_PC_OVERALL</th>\n",
       "      <th>VE_PC_OVERALL</th>\n",
       "      <th>RMSE_PC_QM</th>\n",
       "      <th>VE_PC_QM</th>\n",
       "    </tr>\n",
       "  </thead>\n",
       "  <tbody>\n",
       "    <tr>\n",
       "      <th>0</th>\n",
       "      <td>1</td>\n",
       "      <td>-49.436384</td>\n",
       "      <td>-0.752024</td>\n",
       "      <td>-56.210577</td>\n",
       "      <td>8.985310</td>\n",
       "    </tr>\n",
       "    <tr>\n",
       "      <th>1</th>\n",
       "      <td>2</td>\n",
       "      <td>-64.478197</td>\n",
       "      <td>-12.104157</td>\n",
       "      <td>-73.417773</td>\n",
       "      <td>-7.655142</td>\n",
       "    </tr>\n",
       "    <tr>\n",
       "      <th>2</th>\n",
       "      <td>3</td>\n",
       "      <td>-53.314687</td>\n",
       "      <td>13.784292</td>\n",
       "      <td>-61.291510</td>\n",
       "      <td>-5.915021</td>\n",
       "    </tr>\n",
       "    <tr>\n",
       "      <th>3</th>\n",
       "      <td>4</td>\n",
       "      <td>-89.322410</td>\n",
       "      <td>-23.732952</td>\n",
       "      <td>-99.370712</td>\n",
       "      <td>0.833823</td>\n",
       "    </tr>\n",
       "    <tr>\n",
       "      <th>4</th>\n",
       "      <td>5</td>\n",
       "      <td>-50.485251</td>\n",
       "      <td>22.532837</td>\n",
       "      <td>-62.312877</td>\n",
       "      <td>3.211796</td>\n",
       "    </tr>\n",
       "    <tr>\n",
       "      <th>...</th>\n",
       "      <td>...</td>\n",
       "      <td>...</td>\n",
       "      <td>...</td>\n",
       "      <td>...</td>\n",
       "      <td>...</td>\n",
       "    </tr>\n",
       "    <tr>\n",
       "      <th>995</th>\n",
       "      <td>996</td>\n",
       "      <td>-60.777662</td>\n",
       "      <td>-12.477662</td>\n",
       "      <td>-64.002909</td>\n",
       "      <td>4.282856</td>\n",
       "    </tr>\n",
       "    <tr>\n",
       "      <th>996</th>\n",
       "      <td>997</td>\n",
       "      <td>-43.860576</td>\n",
       "      <td>-17.107517</td>\n",
       "      <td>-51.853042</td>\n",
       "      <td>-5.909404</td>\n",
       "    </tr>\n",
       "    <tr>\n",
       "      <th>997</th>\n",
       "      <td>998</td>\n",
       "      <td>-46.754462</td>\n",
       "      <td>-0.963508</td>\n",
       "      <td>-56.655219</td>\n",
       "      <td>-13.727651</td>\n",
       "    </tr>\n",
       "    <tr>\n",
       "      <th>998</th>\n",
       "      <td>999</td>\n",
       "      <td>-45.328976</td>\n",
       "      <td>-20.877752</td>\n",
       "      <td>-49.485436</td>\n",
       "      <td>-1.783932</td>\n",
       "    </tr>\n",
       "    <tr>\n",
       "      <th>999</th>\n",
       "      <td>1000</td>\n",
       "      <td>-54.914443</td>\n",
       "      <td>4.585206</td>\n",
       "      <td>-64.872968</td>\n",
       "      <td>-6.405787</td>\n",
       "    </tr>\n",
       "  </tbody>\n",
       "</table>\n",
       "<p>1000 rows × 5 columns</p>\n",
       "</div>"
      ],
      "text/plain": [
       "     Test  RMSE_PC_OVERALL  VE_PC_OVERALL  RMSE_PC_QM   VE_PC_QM\n",
       "0       1       -49.436384      -0.752024  -56.210577   8.985310\n",
       "1       2       -64.478197     -12.104157  -73.417773  -7.655142\n",
       "2       3       -53.314687      13.784292  -61.291510  -5.915021\n",
       "3       4       -89.322410     -23.732952  -99.370712   0.833823\n",
       "4       5       -50.485251      22.532837  -62.312877   3.211796\n",
       "..    ...              ...            ...         ...        ...\n",
       "995   996       -60.777662     -12.477662  -64.002909   4.282856\n",
       "996   997       -43.860576     -17.107517  -51.853042  -5.909404\n",
       "997   998       -46.754462      -0.963508  -56.655219 -13.727651\n",
       "998   999       -45.328976     -20.877752  -49.485436  -1.783932\n",
       "999  1000       -54.914443       4.585206  -64.872968  -6.405787\n",
       "\n",
       "[1000 rows x 5 columns]"
      ]
     },
     "execution_count": 5,
     "metadata": {},
     "output_type": "execute_result"
    }
   ],
   "source": [
    "sim_df"
   ]
  },
  {
   "cell_type": "markdown",
   "id": "a87af7ce-c5ee-4762-9df8-8c24fedf7923",
   "metadata": {},
   "source": [
    "## HYPOTHESIS TESTING"
   ]
  },
  {
   "cell_type": "code",
   "execution_count": 11,
   "id": "8eb150d3-3589-4ae0-bc98-743018c9814b",
   "metadata": {},
   "outputs": [
    {
     "name": "stdout",
     "output_type": "stream",
     "text": [
      "T-Overall: -116.12996119360122\n",
      "T-QM: -132.59443347395285\n",
      "Reject the null hypothesis: The mean of the simulation results is significantly different from -20\n",
      "Reject the null hypothesis: The mean of the simulation results is significantly different from -20\n"
     ]
    }
   ],
   "source": [
    "target_value = -20\n",
    "# Perform a one-sample t-test\n",
    "t_overall, p_overall = stats.ttest_1samp(sim_df.RMSE_PC_OVERALL, target_value)\n",
    "t_qm, p_qm = stats.ttest_1samp(sim_df.RMSE_PC_QM, target_value)\n",
    "# Display Results\n",
    "print(\"T-Overall:\",t_overall)\n",
    "print(\"T-QM:\",t_qm)\n",
    "# Interpretation\n",
    "if p_overall < 0.05:  # Typically, a significance level of 0.05 is used\n",
    "    print(\"Reject the null hypothesis: The mean of the simulation results is significantly different from\", target_value)\n",
    "else:\n",
    "    print(\"Fail to reject the null hypothesis: No significant difference from\", target_value)\n",
    "if p_qm < 0.05:  # Typically, a significance level of 0.05 is used\n",
    "    print(\"Reject the null hypothesis: The mean of the simulation results is significantly different from\", target_value)\n",
    "else:\n",
    "    print(\"Fail to reject the null hypothesis: No significant difference from\", target_value)    \n"
   ]
  },
  {
   "cell_type": "code",
   "execution_count": 16,
   "id": "2d39113d-e0b7-408c-9598-da6cba0a7a40",
   "metadata": {},
   "outputs": [
    {
     "name": "stdout",
     "output_type": "stream",
     "text": [
      "Reject the null hypothesis: The mean of the simulation results is significantly different from -20\n",
      "Reject the null hypothesis: The mean of the simulation results is significantly different from -20\n"
     ]
    }
   ],
   "source": [
    "target_value = -20\n",
    "# Perform a one-sample t-test\n",
    "t_overall, p_overall = stats.ttest_1samp(sim_df.RMSE_PC_OVERALL, target_value)\n",
    "t_qm, p_qm = stats.ttest_1samp(sim_df.RMSE_PC_QM, target_value)\n",
    "if t_overall < 0:\n",
    "    p_overall_one = p_overall/2\n",
    "if t_qm < 0:\n",
    "    p_qm_one = p_qm/2\n",
    "# Interpretation\n",
    "if p_overall_one < 0.05:  # Typically, a significance level of 0.05 is used\n",
    "    print(\"Reject the null hypothesis: The mean of the simulation results is significantly different from\", target_value)\n",
    "else:\n",
    "    print(\"Fail to reject the null hypothesis: No significant difference from\", target_value)\n",
    "if p_qm_one < 0.05:  # Typically, a significance level of 0.05 is used\n",
    "    print(\"Reject the null hypothesis: The mean of the simulation results is significantly different from\", target_value)\n",
    "else:\n",
    "    print(\"Fail to reject the null hypothesis: No significant difference from\", target_value)  "
   ]
  },
  {
   "cell_type": "code",
   "execution_count": null,
   "id": "157f7f98-dbba-4330-b623-da6148971597",
   "metadata": {},
   "outputs": [],
   "source": []
  }
 ],
 "metadata": {
  "kernelspec": {
   "display_name": "Python 3 (ipykernel)",
   "language": "python",
   "name": "python3"
  },
  "language_info": {
   "codemirror_mode": {
    "name": "ipython",
    "version": 3
   },
   "file_extension": ".py",
   "mimetype": "text/x-python",
   "name": "python",
   "nbconvert_exporter": "python",
   "pygments_lexer": "ipython3",
   "version": "3.11.10"
  }
 },
 "nbformat": 4,
 "nbformat_minor": 5
}
