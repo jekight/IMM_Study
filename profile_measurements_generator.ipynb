{
 "cells": [
  {
   "cell_type": "markdown",
   "id": "82998ac6-298e-4218-abd4-82d5c85759d7",
   "metadata": {},
   "source": [
    "<center><h1>Profile & Measurements Generator</h1></center>"
   ]
  },
  {
   "cell_type": "markdown",
   "id": "e03a7afd-c0e1-492e-88e7-b5c908e0f518",
   "metadata": {},
   "source": [
    "### LOAD LIBRARIES"
   ]
  },
  {
   "cell_type": "code",
   "execution_count": 1,
   "id": "3ade0b70-2fda-41bf-92c6-bb0fd8599150",
   "metadata": {
    "tags": []
   },
   "outputs": [],
   "source": [
    "import os\n",
    "import pandas as pd\n",
    "import numpy as np\n",
    "import plotly.graph_objects as go\n",
    "from GenerateTruth.generate_truth import GenerateTruth as gt\n",
    "from GenerateMeasurements.generate_measurements import GenerateMeasurements as gm\n",
    "from MotionModels.motion_models import MotionModels"
   ]
  },
  {
   "cell_type": "markdown",
   "id": "d1167cc4-cb36-4758-a36c-ce48d0982a32",
   "metadata": {},
   "source": [
    "### CREATE TRUTH PROFILE & MEASUREMENTS"
   ]
  },
  {
   "cell_type": "code",
   "execution_count": 3,
   "id": "ade7903e-9073-4c47-ad44-741b8ce5aa26",
   "metadata": {
    "tags": []
   },
   "outputs": [],
   "source": [
    "# Create Truth profile and measurements\n",
    "truth_df = gt.quadcopter_profile2()\n",
    "meas_df = gm.create_measurements(truth_df.copy(),0.4,0.5,0.15,5)"
   ]
  },
  {
   "cell_type": "markdown",
   "id": "1f4775a4-9c2d-4f73-9a51-822314fabe3f",
   "metadata": {
    "tags": []
   },
   "source": [
    "### QUICK VISUALIZATION"
   ]
  },
  {
   "cell_type": "code",
   "execution_count": null,
   "id": "1f9406d8-63f0-4d7e-8d37-56d2c21a9643",
   "metadata": {
    "tags": []
   },
   "outputs": [],
   "source": [
    "fig = go.Figure()\n",
    "fig.add_trace(\n",
    "    go.Scatter3d(\n",
    "        x=truth_df.X,\n",
    "        y=truth_df.Y,\n",
    "        z=truth_df.Z,\n",
    "        mode='lines'\n",
    "    )\n",
    ")\n",
    "fig.add_trace(\n",
    "    go.Scatter3d(\n",
    "        x=meas_df.X,\n",
    "        y=meas_df.Y,\n",
    "        z=meas_df.Z,\n",
    "        mode='markers'\n",
    "    )\n",
    ")\n",
    "fig.show()"
   ]
  },
  {
   "cell_type": "markdown",
   "id": "1418786b-29ba-4fa3-9523-c57f05f95275",
   "metadata": {
    "tags": []
   },
   "source": [
    "### SAVE TO CSV"
   ]
  },
  {
   "cell_type": "code",
   "execution_count": 7,
   "id": "cf006883-0216-4ace-8e50-559b00ca3373",
   "metadata": {
    "tags": []
   },
   "outputs": [],
   "source": [
    "gt.save_profile(truth_df,os.path.join('Data','quadcopter_profile2_truth'))\n",
    "gm.save_measurements(meas_df,os.path.join('Data','quadcopter_profile2_measurements'))"
   ]
  }
 ],
 "metadata": {
  "kernelspec": {
   "display_name": "Python 3 (ipykernel)",
   "language": "python",
   "name": "python3"
  },
  "language_info": {
   "codemirror_mode": {
    "name": "ipython",
    "version": 3
   },
   "file_extension": ".py",
   "mimetype": "text/x-python",
   "name": "python",
   "nbconvert_exporter": "python",
   "pygments_lexer": "ipython3",
   "version": "3.11.10"
  }
 },
 "nbformat": 4,
 "nbformat_minor": 5
}
